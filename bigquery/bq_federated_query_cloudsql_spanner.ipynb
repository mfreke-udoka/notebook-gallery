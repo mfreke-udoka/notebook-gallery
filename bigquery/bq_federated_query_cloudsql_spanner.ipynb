{
  "cells": [
    {
      "cell_type": "code",
      "source": [
        "# Copyright 2025 Google LLC\n",
        "#\n",
        "# Licensed under the Apache License, Version 2.0 (the \"License\");\n",
        "# you may not use this file except in compliance with the License.\n",
        "# You may obtain a copy of the License at\n",
        "#\n",
        "#     https://www.apache.org/licenses/LICENSE-2.0\n",
        "#\n",
        "# Unless required by applicable law or agreed to in writing, software\n",
        "# distributed under the License is distributed on an \"AS IS\" BASIS,\n",
        "# WITHOUT WARRANTIES OR CONDITIONS OF ANY KIND, either express or implied.\n",
        "# See the License for the specific language governing permissions and\n",
        "# limitations under the License."
      ],
      "metadata": {
        "id": "OCDnOzpf4dmQ"
      },
      "execution_count": 1,
      "outputs": []
    },
    {
      "cell_type": "markdown",
      "source": [
        "# **Analyze External Data in BigQuery from Cloud SQL and Spanner**\n",
        "\n",
        "\n",
        "\n"
      ],
      "metadata": {
        "id": "g-8_2VCTQNwV"
      }
    },
    {
      "cell_type": "markdown",
      "source": [
        "<table align=\"left\">\n",
        "<td style=\"text-align: center\">\n",
        "<a href=\"https://colab.research.google.com/github/mfreke-udoka/notebook-gallery/blob/main/bigquery/bq_federated_query_cloudsql_spanner.ipynb\">\n",
        "<img width=\"32px\" src=\"https://www.gstatic.com/pantheon/images/bigquery/welcome_page/colab-logo.svg\" alt=\"Google Colaboratory logo\"><br> Open in Colab\n",
        "</a>\n",
        "</td>\n",
        "<td style=\"text-align: center\">\n",
        "<a href=\"https://console.cloud.google.com/vertex-ai/colab/import/https:%2F%2Fraw.githubusercontent.com%2Fmfreke-udoka%2Fnotebook-gallery%2Fmain%2Fbigquery%2Fbq_federated_query_cloudsql_spanner.ipynb\">\n",
        "<img width=\"32px\" src=\"https://lh3.googleusercontent.com/JmcxdQi-qOpctIvWKgPtrzZdJJK-J3sWE1RsfjZNwshCFgE_9fULcNpuXYTilIR2hjwN\" alt=\"Google Cloud Colab Enterprise logo\"><br> Open in Colab Enterprise\n",
        "</a>\n",
        "</td>\n",
        "<td style=\"text-align: center\">\n",
        "<a href=\"https://console.cloud.google.com/vertex-ai/workbench/deploy-notebook?download_url=https://raw.githubusercontent.com/mfreke-udoka/notebook-gallery/main/bigquery/bq_federated_query_cloudsql_spanner.ipynb\">\n",
        "<img src=\"https://www.gstatic.com/images/branding/gcpiconscolors/vertexai/v1/32px.svg\" alt=\"Vertex AI logo\"><br> Open in Vertex AI Workbench\n",
        "</a>\n",
        "</td>\n",
        "<td style=\"text-align: center\">\n",
        "<a href=\"https://console.cloud.google.com/bigquery/import?url=https://github.com/mfreke-udoka/notebook-gallery/blob/main/bigquery/bq_federated_query_cloudsql_spanner.ipynb\">\n",
        "<img src=\"https://www.gstatic.com/images/branding/gcpiconscolors/bigquery/v1/32px.svg\" alt=\"BigQuery Studio logo\"><br> Open in BigQuery Studio\n",
        "</a>\n",
        "</td>\n",
        "<td style=\"text-align: center\">\n",
        "<a href=\"https://github.com/mfreke-udoka/notebook-gallery/blob/main/bigquery/bq_federated_query_cloudsql_spanner.ipynb\">\n",
        "<img width=\"32px\" src=\"https://www.svgrepo.com/download/217753/github.svg\" alt=\"GitHub logo\"><br> View on GitHub\n",
        "</a>\n",
        "</td>\n",
        "</table>\n",
        "\n",
        "<div style=\"clear: both;\"></div>"
      ],
      "metadata": {
        "id": "xlUPeyMa7cwJ"
      }
    },
    {
      "cell_type": "markdown",
      "source": [
        "| Author |\n",
        "| --- |\n",
        "| [Mfreke Udoka](https://github.com/mfreke-udoka) |"
      ],
      "metadata": {
        "id": "GKwpttSVyQq7"
      }
    },
    {
      "cell_type": "markdown",
      "source": [
        "## **Overview**\n",
        "\n",
        "This notebook offers a comprehensive, modular template for querying data from external data sources within a Google Cloud notebook environment. It is designed to be adaptable and can be run in BigQuery Notebooks, Vertex AI Workbench, or Google Colab.\n"
      ],
      "metadata": {
        "id": "i_qUZ9uMW6RA"
      }
    },
    {
      "cell_type": "markdown",
      "source": [
        "### Objectives\n",
        "\n",
        "* **Primary Objective:** Demonstrate how to establish a federated connection from BigQuery to Cloud SQL (MySQL) and Cloud Spanner.\n",
        "\n",
        "* Provide end-to-end, runnable code to create, load, and query both Cloud SQL and Spanner instances.\n",
        "\n",
        "* Illustrate how to execute a complex federated query that joins data simultaneously from a native BigQuery table, Cloud SQL, and Cloud Spanner."
      ],
      "metadata": {
        "id": "yX6UHkmzW6gX"
      }
    },
    {
      "cell_type": "markdown",
      "source": [
        "###Services and Costs\n",
        "This tutorial uses the following billable components of Google Cloud:\n",
        "\n",
        "*   BigQuery: [Pricing](https://cloud.google.com/bigquery/pricing)\n",
        "\n",
        "*   Cloud SQL: [Pricing](https://cloud.google.com/sql/pricing)\n",
        "\n",
        "*   Cloud Spanner: [Pricing](https://cloud.google.com/spanner/pricing)\n",
        "\n",
        "*   Cloud Storage: [Pricing](https://cloud.google.com/storage/pricing)\n",
        "\n",
        "You can use the [Pricing Calculator](https://cloud.google.com/products/calculator) to generate a cost estimate based on your projected usage. Remember to run the cleanup steps at the end to avoid ongoing charges.\n",
        "\n",
        "**Note: some of the components are used only if you run the optional setup sections**"
      ],
      "metadata": {
        "id": "wirGB4ms7hqK"
      }
    },
    {
      "cell_type": "markdown",
      "source": [
        "### About the Dataset\n",
        "\n",
        "This template uses the public `bigquery-public-data.google_analytics_sample` dataset, which contains obfuscated Google Analytics 360 data from the Google Merchandise Store. To demonstrate federated queries across different sources and time periods, the data is split as follows:\n",
        "\n",
        "* **Cloud SQL (MySQL):** Contains data for **July 2017**.\n",
        "\n",
        "* **Cloud Spanner:** Contains data for **June 2017**.\n",
        "\n",
        "* **Native BigQuery Table:** Contains data for **May 2017**.\n",
        "\n",
        "This allows the final federated query in Part 3 to join data across all three months and sources."
      ],
      "metadata": {
        "id": "8vRbXEwcW7nM"
      }
    },
    {
      "cell_type": "markdown",
      "source": [
        "### Execution Options\n",
        "\n",
        "This guide is split into independent workflows:\n",
        "\n",
        "* **Part 1:** Connects BigQuery to a **Cloud SQL for MySQL** instance.\n",
        "\n",
        "* **Part 2:** Connects BigQuery to a **Cloud Spanner** instance.\n",
        "\n",
        "* **Part 3:** Demonstrates a **federated query** joining data from native BigQuery tables, Cloud SQL, and Spanner simultaneously (requires completing Parts 1 and 2).\n",
        "\n",
        "You can run Part 1 or Part 2 independently, or run all parts for a complete federated data example. Each part includes optional steps to create and configure the necessary database environment from scratch."
      ],
      "metadata": {
        "id": "LxhEydG3Xpd5"
      }
    },
    {
      "cell_type": "markdown",
      "source": [
        "---\n",
        "\n",
        "## **Prerequisites: Google Cloud Project Setup**\n",
        "\n",
        "Before running the code in this notebook, please complete the following steps in the Google Cloud Console:\n",
        "\n",
        "1. **[Select or create a Google Cloud project.](https://console.cloud.google.com/cloud-resource-manager)** When you first create an account, you get a free credit towards your compute and storage costs.\n",
        "\n",
        "2. **[Make sure that billing is enabled for your project](https://cloud.google.com/billing/docs/how-to/modify-project).** The operations in this notebook (e.g., creating Cloud SQL and Spanner instances) require a project with active billing.\n",
        "\n",
        "3. **Note on APIs:** The notebook code will automatically enable the necessary APIs (e.g., BigQuery, Cloud SQL, Spanner, etc.) as you run the cells."
      ],
      "metadata": {
        "id": "2XPJGSI4W72j"
      }
    },
    {
      "cell_type": "markdown",
      "source": [
        "---\n",
        "\n",
        "## **Prepare Your Environment (Common Steps)**"
      ],
      "metadata": {
        "id": "MO75fsc_W90F"
      }
    },
    {
      "cell_type": "markdown",
      "source": [
        "### 1. Environment-Specific Setup\n",
        "\n",
        "Complete the setup steps for your specific notebook environment.\n",
        "\n",
        "* **For BigQuery or Vertex AI Workbench Users:** Your environment is pre-configured with the necessary tools and authentication. You can proceed directly to the next step.\n",
        "\n",
        "* **For Google Colab Users:** In Colab, you must first authenticate your user and install the `gcloud` CLI and `jq`. The cells below will detect if you are in a Colab environment and run the necessary setup commands."
      ],
      "metadata": {
        "id": "pxV1Iyb4W-JL"
      }
    },
    {
      "cell_type": "code",
      "source": [
        "import os\n",
        "import sys\n",
        "\n",
        "# This check is designed to run only in a true Google Colab environment.\n",
        "# BigQuery and Vertex AI notebooks may have 'google.colab' in sys.modules,\n",
        "# so we also check for the absence of a GCP-specific environment variable.\n",
        "IS_COLAB = 'google.colab' in sys.modules and not os.environ.get('DATALAB_SETTINGS_OVERRIDES')\n",
        "\n",
        "if IS_COLAB:\n",
        "    print(\"Colab environment detected. Authenticating user...\")\n",
        "    from google.colab import auth\n",
        "    auth.authenticate_user()\n",
        "    print('Authenticated.')\n",
        "else:\n",
        "    print(\"Non-Colab environment detected (BigQuery, Vertex AI, or local). Skipping Colab-specific authentication.\")"
      ],
      "metadata": {
        "id": "kmlyxh3sQNwW",
        "colab": {
          "base_uri": "https://localhost:8080/"
        },
        "outputId": "9f523a28-8e9c-4be8-f3a0-f0a2e6350203"
      },
      "execution_count": 2,
      "outputs": [
        {
          "output_type": "stream",
          "name": "stdout",
          "text": [
            "Colab environment detected. Authenticating user...\n",
            "Authenticated.\n"
          ]
        }
      ]
    },
    {
      "cell_type": "code",
      "source": [
        "import os\n",
        "import sys\n",
        "\n",
        "# This check is designed to run only in a true Google Colab environment.\n",
        "IS_COLAB = 'google.colab' in sys.modules and not os.environ.get('DATALAB_SETTINGS_OVERRIDES')\n",
        "\n",
        "if IS_COLAB:\n",
        "    # Install gcloud CLI and jq for shell commands\n",
        "    print('\\nInstalling command-line tools...')\n",
        "    !echo \"deb [signed-by=/usr/share/keyrings/cloud.google.gpg] https://packages.cloud.google.com/apt cloud-sdk main\" | tee /etc/apt/sources.list.d/google-cloud-sdk.list\n",
        "    !curl https://packages.cloud.google.com/apt/doc/apt-key.gpg | apt-key --keyring /usr/share/keyrings/cloud.google.gpg add -\n",
        "    !apt-get -qq update && apt-get -qq install -y google-cloud-sdk jq\n",
        "    print('Tools installed.')\n",
        "else:\n",
        "    print(\"Non-Colab environment detected (BigQuery, Vertex AI, or local). Skipping tool installation.\")"
      ],
      "metadata": {
        "id": "rs_MoSPfQNwW",
        "colab": {
          "base_uri": "https://localhost:8080/"
        },
        "outputId": "80d8306e-dbf5-442a-a3c7-37fda4a3d68d"
      },
      "execution_count": 3,
      "outputs": [
        {
          "output_type": "stream",
          "name": "stdout",
          "text": [
            "\n",
            "Installing command-line tools...\n",
            "deb [signed-by=/usr/share/keyrings/cloud.google.gpg] https://packages.cloud.google.com/apt cloud-sdk main\n",
            "  % Total    % Received % Xferd  Average Speed   Time    Time     Time  Current\n",
            "                                 Dload  Upload   Total   Spent    Left  Speed\n",
            "100  1022  100  1022    0     0   3866      0 --:--:-- --:--:-- --:--:--  3871\n",
            "Warning: apt-key is deprecated. Manage keyring files in trusted.gpg.d instead (see apt-key(8)).\n",
            "OK\n",
            "W: Skipping acquire of configured file 'main/source/Sources' as repository 'https://r2u.stat.illinois.edu/ubuntu jammy InRelease' does not seem to provide it (sources.list entry misspelt?)\n",
            "Tools installed.\n"
          ]
        }
      ]
    },
    {
      "cell_type": "markdown",
      "source": [
        "### 2. Set Common Project Environment Variables\n",
        "\n",
        "This cell contains configurations that are shared across all parts of the notebook."
      ],
      "metadata": {
        "id": "BojKW_qGQNwX"
      }
    },
    {
      "cell_type": "code",
      "source": [
        "\n",
        "# --- Shared Configuration ---\n",
        "# ⚠️ **ACTION REQUIRED**: Replace with your Google Cloud project ID.\n",
        "PROJECT_ID=\"arg-dev-mu\" # @param {type:\"string\"}\n",
        "\n",
        "# --- Optional Configuration ---\n",
        "# You can change the location, but ensure it's a region that supports all\n",
        "# services used in this notebook (BigQuery, Cloud SQL, Spanner).\n",
        "LOCATION=\"us-central1\" # @param {type:\"string\"}\n",
        "\n",
        "# --- Set environment variables for shell commands ---\n",
        "os.environ['PROJECT_ID'] = PROJECT_ID\n",
        "os.environ['LOCATION'] = LOCATION\n",
        "\n",
        "# --- Set gcloud project config ---\n",
        "# This ensures shell commands in the notebook target the correct project\n",
        "print(f\"Setting gcloud project to {PROJECT_ID}...\")\n",
        "!gcloud config set project {PROJECT_ID}"
      ],
      "metadata": {
        "id": "-U9lfKi-QNwX",
        "colab": {
          "base_uri": "https://localhost:8080/"
        },
        "outputId": "7991a5a8-44c3-4d92-fa94-b44a213db899"
      },
      "execution_count": 4,
      "outputs": [
        {
          "output_type": "stream",
          "name": "stdout",
          "text": [
            "Setting gcloud project to arg-dev-mu...\n",
            "Updated property [core/project].\n"
          ]
        }
      ]
    },
    {
      "cell_type": "markdown",
      "source": [
        "### 3. Enable Common APIs\n",
        "\n",
        "Ensures the core services used in all workflows are enabled."
      ],
      "metadata": {
        "id": "llEpa0CvQNwX"
      }
    },
    {
      "cell_type": "code",
      "source": [
        "print(\"Enabling common Google Cloud APIs...\")\n",
        "!gcloud services enable bigquery.googleapis.com storage.googleapis.com bigqueryconnection.googleapis.com\n",
        "print(\"APIs enabled.\")"
      ],
      "metadata": {
        "id": "TZyLRrEmQNwX",
        "colab": {
          "base_uri": "https://localhost:8080/"
        },
        "outputId": "ace6c2af-9a4f-4997-e6ef-c852dd9ce9cf"
      },
      "execution_count": 5,
      "outputs": [
        {
          "output_type": "stream",
          "name": "stdout",
          "text": [
            "Enabling common Google Cloud APIs...\n",
            "Operation \"operations/acat.p2-472369021765-33e20a75-218e-4058-852e-d0b9c2162889\" finished successfully.\n",
            "APIs enabled.\n"
          ]
        }
      ]
    },
    {
      "cell_type": "markdown",
      "source": [
        "### 4. Configure Service Account Permissions (Overview)\n",
        "\n",
        "**Note:** The permissions detailed in the following sections are **only required if you intend to run the optional \"Setup\" steps** to create new cloud resources. The specific roles needed are listed within each of those optional sections for clarity.\n",
        "\n"
      ],
      "metadata": {
        "id": "Yfd4idE0QNwX"
      }
    },
    {
      "cell_type": "markdown",
      "source": [
        "**Identify the correct identity to grant permissions to:**\n",
        "\n",
        "* **For BigQuery/Vertex AI:** This is the service account associated with the notebook. You can find this in the notebook's details panel.\n",
        "\n",
        "* **For Colab:** This is the user account you authenticated with in the first setup cell (e.g., your-email@gmail.com)."
      ],
      "metadata": {
        "id": "QBuzf1tDsoap"
      }
    },
    {
      "cell_type": "markdown",
      "source": [
        "**Required Roles & Example Commands:**\n",
        "\n",
        "Below are the roles required to run the optional \"Setup\" sections. Replace YOUR_PROJECT_ID and YOUR_IDENTITY (e.g., user:your-email@gmail.com or serviceAccount:your-sa@project.iam.gserviceaccount.com) in the example gcloud commands.\n",
        "\n",
        "*   **For Part 1 (Cloud SQL Setup)**\n",
        "\n",
        "    ```\n",
        "    gcloud projects add-iam-policy-binding YOUR_PROJECT_ID --member=\"YOUR_IDENTITY\" --role=\"roles/cloudsql.admin\"\n",
        "    gcloud projects add-iam-policy-binding YOUR_PROJECT_ID --member=\"YOUR_IDENTITY\" --role=\"roles/storage.admin\"\n",
        "    gcloud projects add-iam-policy-binding YOUR_PROJECT_ID --member=\"YOUR_IDENTITY\" --role=\"roles/bigquery.admin\"\n",
        "    ```\n",
        "\n",
        "\n",
        "*  **For Part 2 (Spanner Setup):**\n",
        "\n",
        "    ```\n",
        "    gcloud projects add-iam-policy-binding YOUR_PROJECT_ID --member=\"YOUR_IDENTITY\" --role=\"roles/spanner.databaseAdmin\"\n",
        "    gcloud projects add-iam-policy-binding YOUR_PROJECT_ID --member=\"YOUR_IDENTITY\" --role=\"roles/bigquery.admin\"\n",
        "    ```\n",
        "\n",
        "\n",
        "*   **For Part 3 (BigQuery Dataset Creation):**\n",
        "\n",
        "    ```\n",
        "    gcloud projects add-iam-policy-binding YOUR_PROJECT_ID --member=\"YOUR_IDENTITY\" --role=\"roles/bigquery.dataEditor\"\n",
        "    ```"
      ],
      "metadata": {
        "id": "L3RFIjriyhke"
      }
    },
    {
      "cell_type": "markdown",
      "source": [
        "---\n",
        "\n",
        "## **Part 1: Connect BigQuery to Cloud SQL (End-to-End Workflow)**\n",
        "\n",
        "This part provides a complete workflow for setting up, loading, and querying a Cloud SQL for MySQL database from BigQuery.\n"
      ],
      "metadata": {
        "id": "TXs-3G1JYJfK"
      }
    },
    {
      "cell_type": "markdown",
      "source": [
        "### 1.1 Cloud SQL Configuration\n",
        "\n",
        "Set the variables for the Cloud SQL workflow."
      ],
      "metadata": {
        "id": "mxMdoEhlYKrd"
      }
    },
    {
      "cell_type": "code",
      "source": [
        "import os\n",
        "\n",
        "# --- Optional Configuration ---\n",
        "# These variables define the names for the new resources that will be created.\n",
        "# You can leave them as-is or customize them.\n",
        "MYSQL_INSTANCE=\"cloudsql-mysql-instance\" # @param {type:\"string\"}\n",
        "MYSQL_DATABASE=\"cloudsql-mysql-db\" # @param {type:\"string\"}\n",
        "CLOUDSQL_USER=\"User1\" # @param {type:\"string\"}\n",
        "BQ_CLOUDSQL_CONNECTION=\"bq-cloudsql-connection\" # @param {type:\"string\"}\n",
        "\n",
        "# ⚠️ **ACTION REQUIRED**: Provide strong passwords for the database users.\n",
        "DB_ROOT_PASSWORD=\"mhhdauy&&92!\" # @param {type:\"string\"}\n",
        "CLOUDSQL_PASSWORD=\"Y7hsjal9821\" # @param {type:\"string\"}\n",
        "\n",
        "# --- No changes needed below this line ---\n",
        "# These variables are derived from the settings above or are fixed for this template.\n",
        "GCS_IMPORT_BUCKET=f\"gs://{PROJECT_ID}-bq-federation-template-bucket/\"\n",
        "MYSQL_TABLE=\"ga_sessions_201707\"\n",
        "MYSQL_PRODUCTS_TABLE=\"ga_product_hits_201707\"\n",
        "\n",
        "# --- Set environment variables for this section ---\n",
        "os.environ['GCS_IMPORT_BUCKET'] = GCS_IMPORT_BUCKET\n",
        "os.environ['MYSQL_INSTANCE'] = MYSQL_INSTANCE\n",
        "os.environ['DB_ROOT_PASSWORD'] = DB_ROOT_PASSWORD\n",
        "os.environ['MYSQL_DATABASE'] = MYSQL_DATABASE\n",
        "os.environ['MYSQL_TABLE'] = MYSQL_TABLE\n",
        "os.environ['MYSQL_PRODUCTS_TABLE'] = MYSQL_PRODUCTS_TABLE\n",
        "os.environ['CLOUDSQL_USER'] = CLOUDSQL_USER\n",
        "os.environ['CLOUDSQL_PASSWORD'] = CLOUDSQL_PASSWORD\n",
        "os.environ['BQ_CLOUDSQL_CONNECTION'] = BQ_CLOUDSQL_CONNECTION"
      ],
      "metadata": {
        "id": "gAkBkz1QQNwX"
      },
      "execution_count": 6,
      "outputs": []
    },
    {
      "cell_type": "markdown",
      "source": [
        "### 1.2 Enable Cloud SQL API\n",
        "This command ensures that the Cloud SQL Admin API is enabled in your project, allowing you to manage Cloud SQL instances programmatically."
      ],
      "metadata": {
        "id": "4iWRP18dQNwX"
      }
    },
    {
      "cell_type": "code",
      "source": [
        "print(\"Enabling the Cloud SQL Admin API...\")\n",
        "!gcloud services enable sqladmin.googleapis.com\n",
        "print(\"API enabled.\")"
      ],
      "metadata": {
        "id": "3gAKiv3LQNwX",
        "colab": {
          "base_uri": "https://localhost:8080/"
        },
        "outputId": "dbe35ec3-43ad-4973-f4f5-cb83671b947c"
      },
      "execution_count": 7,
      "outputs": [
        {
          "output_type": "stream",
          "name": "stdout",
          "text": [
            "Enabling the Cloud SQL Admin API...\n",
            "API enabled.\n"
          ]
        }
      ]
    },
    {
      "cell_type": "markdown",
      "source": [
        "### 1.3 Service Account Permissions for Cloud SQL Workflow\n",
        "\n",
        "Grant your notebook's identity the following roles:\n",
        "\n",
        "* **To run the full setup (including optional steps):** `roles/cloudsql.admin`, `roles/storage.admin`, `roles/bigquery.admin`. The `roles/bigquery.admin` role includes permissions to query the public Google Analytics dataset used in the data loading steps.\n",
        "\n",
        "* **To connect to an existing instance (skipping optional steps):** `roles/bigquery.connectionAdmin`, `roles/bigquery.user`.\n",
        "\n"
      ],
      "metadata": {
        "id": "yLlKHz9wQNwX"
      }
    },
    {
      "cell_type": "markdown",
      "source": [
        "### 1.4 Setup Cloud SQL Environment (Optional)\n",
        "\n",
        "Complete this section to create a new Cloud SQL instance and load it with data.\n",
        "\n",
        "**Permissions Note:** To run the setup steps in this section, the identity executing the notebook needs the following roles: `Cloud SQL Admin`, `Storage Admin`, and `BigQuery Admin`."
      ],
      "metadata": {
        "id": "wp7M66J1YYLD"
      }
    },
    {
      "cell_type": "markdown",
      "source": [
        "#### Create GCS Bucket\n",
        "\n",
        "This temporary bucket is used to hold the CSV file before importing it to Cloud SQL."
      ],
      "metadata": {
        "id": "7VS4_gaHYaTf"
      }
    },
    {
      "cell_type": "code",
      "source": [
        "print(f\"Checking for GCS bucket {GCS_IMPORT_BUCKET}...\")\n",
        "import subprocess\n",
        "# Use gsutil to check for the bucket's existence.\n",
        "bucket_check = subprocess.run(f\"gsutil ls {GCS_IMPORT_BUCKET}\", shell=True, capture_output=True)\n",
        "\n",
        "if bucket_check.returncode != 0:\n",
        "    print(f\"Bucket not found. Creating it...\")\n",
        "    !gcloud storage buckets create {GCS_IMPORT_BUCKET} --project={PROJECT_ID} --location={LOCATION} --uniform-bucket-level-access\n",
        "else:\n",
        "    print(f\"Bucket {GCS_IMPORT_BUCKET} already exists.\")"
      ],
      "metadata": {
        "id": "59WO6EH_QNwX",
        "colab": {
          "base_uri": "https://localhost:8080/"
        },
        "outputId": "e7d22ee0-a609-4f63-b66e-e6631ef0440b"
      },
      "execution_count": 8,
      "outputs": [
        {
          "output_type": "stream",
          "name": "stdout",
          "text": [
            "Checking for GCS bucket gs://arg-dev-mu-bq-federation-template-bucket/...\n",
            "Bucket gs://arg-dev-mu-bq-federation-template-bucket/ already exists.\n"
          ]
        }
      ]
    },
    {
      "cell_type": "markdown",
      "source": [
        "#### Create Cloud SQL Instance and Database\n",
        "\n",
        "This cell creates the Cloud SQL instance and a database within it. This step can take several minutes."
      ],
      "metadata": {
        "id": "Ams8LXMcQNwX"
      }
    },
    {
      "cell_type": "code",
      "source": [
        "# Create a small Cloud SQL for MySQL instance\n",
        "print(f\"Creating Cloud SQL instance '{MYSQL_INSTANCE}'... This may take a few minutes.\")\n",
        "\n",
        "!gcloud sql instances create {MYSQL_INSTANCE} \\\n",
        "    --database-version=MYSQL_8_0 \\\n",
        "    --tier=db-n1-standard-1 \\\n",
        "    --region={LOCATION} \\\n",
        "    --root-password=\"{DB_ROOT_PASSWORD}\"\n",
        "\n",
        "# Create the MySQL database within the new instance\n",
        "print(f\"\\nCreating MySQL database '{MYSQL_DATABASE}'...\")\n",
        "!gcloud sql databases create {MYSQL_DATABASE} --instance={MYSQL_INSTANCE}\n",
        "print(\"Cloud SQL instance and database created.\")"
      ],
      "metadata": {
        "id": "jgFUtrU4QNwY",
        "colab": {
          "base_uri": "https://localhost:8080/"
        },
        "outputId": "2ce34e1f-845d-4f94-eaaa-6e12e2ad2ddc"
      },
      "execution_count": 9,
      "outputs": [
        {
          "output_type": "stream",
          "name": "stdout",
          "text": [
            "Creating Cloud SQL instance 'cloudsql-mysql-instance'... This may take a few minutes.\n",
            "Created [https://sqladmin.googleapis.com/sql/v1beta4/projects/arg-dev-mu/instances/cloudsql-mysql-instance].\n",
            "NAME                     DATABASE_VERSION  LOCATION       TIER              PRIMARY_ADDRESS  PRIVATE_ADDRESS  STATUS\n",
            "cloudsql-mysql-instance  MYSQL_8_0         us-central1-c  db-n1-standard-1  34.133.8.71      -                RUNNABLE\n",
            "\n",
            "Creating MySQL database 'cloudsql-mysql-db'...\n",
            "Created database [cloudsql-mysql-db].\n",
            "instance: cloudsql-mysql-instance\n",
            "name: cloudsql-mysql-db\n",
            "project: arg-dev-mu\n",
            "Cloud SQL instance and database created.\n"
          ]
        }
      ]
    },
    {
      "cell_type": "markdown",
      "source": [
        "#### Install Python Libraries for Cloud SQL Setup\n",
        "\n",
        "These libraries are needed to connect to the database and process the data."
      ],
      "metadata": {
        "id": "A5Xg0B-FQNwY"
      }
    },
    {
      "cell_type": "code",
      "source": [
        "# Detect if the notebook is running in Colab to install specific package versions.\n",
        "import sys\n",
        "IN_COLAB = 'google.colab' in sys.modules\n",
        "\n",
        "print(\"Installing Python libraries for Cloud SQL...\")\n",
        "if IN_COLAB:\n",
        "    print(\"Colab environment detected. Installing pinned versions...\")\n",
        "    # NOTE: These versions are pinned to match the pre-installed packages in Colab.\n",
        "    # If you encounter a dependency mismatch error, check the error message for the\n",
        "    # new required version of pandas or fsspec and update the command below.\n",
        "    %pip install --upgrade --quiet cloud-sql-python-connector PyMySQL google-cloud-bigquery sqlalchemy pandas==2.2.2 gcsfs fsspec==2025.3.0\n",
        "else:\n",
        "    print(\"Non-Colab environment detected. Installing latest versions...\")\n",
        "    # In BigQuery or Vertex AI, install the latest versions.\n",
        "    %pip install --upgrade --quiet cloud-sql-python-connector PyMySQL google-cloud-bigquery sqlalchemy pandas gcsfs\n",
        "\n",
        "print(\"Libraries installed.\")"
      ],
      "metadata": {
        "id": "tokdpM3sQNwY",
        "colab": {
          "base_uri": "https://localhost:8080/"
        },
        "outputId": "4b90cc97-782f-43da-aef0-96dd40c8d841"
      },
      "execution_count": 10,
      "outputs": [
        {
          "output_type": "stream",
          "name": "stdout",
          "text": [
            "Installing Python libraries for Cloud SQL...\n",
            "Colab environment detected. Installing pinned versions...\n",
            "Libraries installed.\n"
          ]
        }
      ]
    },
    {
      "cell_type": "markdown",
      "source": [
        "#### Create Cloud SQL Tables\n",
        "\n",
        "This step defines the table schemas. The Google Analytics data has a one-to-many relationship: a single user session can have interactions with multiple products. To model this efficiently in a relational database like MySQL, we normalize the data into two tables:\n",
        "\n",
        "*   **ga_sessions_201707:** This is the \"parent\" table, containing one row for each unique user session.\n",
        "\n",
        "*   **ga_product_hits_201707:** This is the \"child\" table, containing one row for each product that was viewed, clicked, or purchased during a session. It links back to the parent session table."
      ],
      "metadata": {
        "id": "7mW-_DOQQNwY"
      }
    },
    {
      "cell_type": "code",
      "source": [
        "import sqlalchemy\n",
        "from google.cloud.sql.connector import Connector\n",
        "\n",
        "def setup_mysql_user_and_tables():\n",
        "    \"\"\"A single function to handle user creation, table creation, and indexing.\"\"\"\n",
        "    instance_connection_name = f\"{PROJECT_ID}:{LOCATION}:{MYSQL_INSTANCE}\"\n",
        "    connector = Connector()\n",
        "\n",
        "    # Connect as root to create the dedicated user and grant permissions.\n",
        "    def get_root_conn():\n",
        "        return connector.connect(\n",
        "            instance_connection_name, \"pymysql\", user=\"root\",\n",
        "            password=DB_ROOT_PASSWORD, db=MYSQL_DATABASE\n",
        "        )\n",
        "    root_pool = sqlalchemy.create_engine(\"mysql+pymysql://\", creator=get_root_conn)\n",
        "\n",
        "    try:\n",
        "        with root_pool.connect() as db_conn:\n",
        "            print(f\"Creating database user '{CLOUDSQL_USER}'...\")\n",
        "            db_conn.execute(sqlalchemy.text(f\"CREATE USER IF NOT EXISTS '{CLOUDSQL_USER}'@'%' IDENTIFIED BY '{CLOUDSQL_PASSWORD}';\"))\n",
        "            db_conn.execute(sqlalchemy.text(f\"GRANT ALL PRIVILEGES ON `{MYSQL_DATABASE}`.* TO '{CLOUDSQL_USER}'@'%';\"))\n",
        "            db_conn.commit()\n",
        "            print(f\"Successfully created user.\")\n",
        "    except Exception as e:\n",
        "        print(f\"An error occurred during user creation: {e}\")\n",
        "        return\n",
        "\n",
        "    # Connect as the new user to create tables.\n",
        "    def get_app_conn():\n",
        "        return connector.connect(\n",
        "            instance_connection_name, \"pymysql\", user=CLOUDSQL_USER,\n",
        "            password=CLOUDSQL_PASSWORD, db=MYSQL_DATABASE\n",
        "        )\n",
        "    app_pool = sqlalchemy.create_engine(\"mysql+pymysql://\", creator=get_app_conn)\n",
        "\n",
        "    create_sessions_stmt = sqlalchemy.text(f\"\"\"\n",
        "        CREATE TABLE IF NOT EXISTS `{MYSQL_TABLE}` (\n",
        "            fullVisitorId VARCHAR(255), visitId INT, visitNumber INT, visitStartTime INT,\n",
        "            `date` DATE, totals JSON, trafficSource JSON, device JSON, geoNetwork JSON,\n",
        "            channelGrouping VARCHAR(255), PRIMARY KEY (fullVisitorId(50), visitId)\n",
        "        )\n",
        "    \"\"\")\n",
        "    create_products_stmt = sqlalchemy.text(f\"\"\"\n",
        "        CREATE TABLE IF NOT EXISTS `{MYSQL_PRODUCTS_TABLE}` (\n",
        "            fullVisitorId VARCHAR(255), visitId INT, v2ProductName VARCHAR(255), productRevenue BIGINT\n",
        "        )\n",
        "    \"\"\")\n",
        "\n",
        "    try:\n",
        "        with app_pool.connect() as db_conn:\n",
        "            print(\"Creating tables...\")\n",
        "            db_conn.execute(create_sessions_stmt)\n",
        "            db_conn.execute(create_products_stmt)\n",
        "            db_conn.commit()\n",
        "            print(\"Tables created successfully.\")\n",
        "    except Exception as e:\n",
        "        print(f\"An error occurred during table creation: {e}\")\n",
        "    finally:\n",
        "        connector.close()\n",
        "\n",
        "# --- Run the setup function ---\n",
        "setup_mysql_user_and_tables()"
      ],
      "metadata": {
        "id": "yTjWqPZ4QNwY",
        "colab": {
          "base_uri": "https://localhost:8080/"
        },
        "outputId": "6bd1432a-9895-4d5d-8a68-d98c166a81df"
      },
      "execution_count": 11,
      "outputs": [
        {
          "output_type": "stream",
          "name": "stdout",
          "text": [
            "Creating database user 'User1'...\n",
            "Successfully created user.\n",
            "Creating tables...\n",
            "Tables created successfully.\n"
          ]
        }
      ]
    },
    {
      "cell_type": "markdown",
      "source": [
        "#### Load Data into Cloud SQL Tables (July 2017 Data)\n",
        "\n",
        "This process queries data from a public BigQuery dataset, exports it to GCS, and imports it into Cloud SQL."
      ],
      "metadata": {
        "id": "QLBGAGMkQNwY"
      }
    },
    {
      "cell_type": "code",
      "source": [
        "from google.cloud import bigquery\n",
        "import pandas as pd\n",
        "\n",
        "# Stage 1: Export BigQuery data to GCS\n",
        "client = bigquery.Client(project=PROJECT_ID)\n",
        "source_table_full_id = f\"`bigquery-public-data.google_analytics_sample.ga_sessions_201707*`\"\n",
        "sessions_uri = f\"{GCS_IMPORT_BUCKET.rstrip('/')}/ga_sessions_201707.csv\"\n",
        "products_uri = f\"{GCS_IMPORT_BUCKET.rstrip('/')}/ga_product_hits_201707.csv\"\n",
        "\n",
        "print(f\"Reading and unnesting data from {source_table_full_id}...\")\n",
        "sql = f\"\"\"\n",
        "SELECT\n",
        "    fullVisitorId, visitId, visitNumber, visitStartTime, PARSE_DATE('%Y%m%d', date) as `date`,\n",
        "    TO_JSON_STRING(totals) as totals, TO_JSON_STRING(trafficSource) as trafficSource,\n",
        "    TO_JSON_STRING(device) as device, TO_JSON_STRING(geoNetwork) as geoNetwork, channelGrouping,\n",
        "    product.v2ProductName, product.productRevenue\n",
        "FROM {source_table_full_id}, UNNEST(hits) as h, UNNEST(h.product) as product\n",
        "\"\"\"\n",
        "full_df = client.query(sql).to_dataframe()\n",
        "\n",
        "sessions_df = full_df[['fullVisitorId', 'visitId', 'visitNumber', 'visitStartTime', 'date', 'totals', 'trafficSource', 'device', 'geoNetwork', 'channelGrouping']].drop_duplicates()\n",
        "products_df = full_df[['fullVisitorId', 'visitId', 'v2ProductName', 'productRevenue']].dropna(subset=['v2ProductName'])\n",
        "\n",
        "print(f\"Writing CSVs to {GCS_IMPORT_BUCKET}...\")\n",
        "sessions_df.to_csv(sessions_uri, index=False, header=False)\n",
        "products_df.to_csv(products_uri, index=False, header=False)\n",
        "print(\"CSVs written successfully.\")\n",
        "\n",
        "# Stage 2: Grant Cloud SQL permissions to GCS bucket\n",
        "print(\"\\nFetching Cloud SQL service account...\")\n",
        "sa_email_result = !gcloud sql instances describe {MYSQL_INSTANCE} --format='value(serviceAccountEmailAddress)'\n",
        "sa_email = sa_email_result[0]\n",
        "\n",
        "print(f\"Granting Storage Object Viewer role to {sa_email}...\")\n",
        "!gcloud storage buckets add-iam-policy-binding {GCS_IMPORT_BUCKET} --member=\"serviceAccount:{sa_email}\" --role=\"roles/storage.objectViewer\" --condition=None\n",
        "print(\"Permissions granted.\")\n",
        "\n",
        "# Stage 3: Import data from GCS into Cloud SQL\n",
        "print(\"\\nImporting data into Cloud SQL tables. This may take a few minutes...\")\n",
        "!gcloud sql import csv {MYSQL_INSTANCE} {sessions_uri} --database={MYSQL_DATABASE} --table={MYSQL_TABLE} --quiet\n",
        "!gcloud sql import csv {MYSQL_INSTANCE} {products_uri} --database={MYSQL_DATABASE} --table={MYSQL_PRODUCTS_TABLE} --quiet\n",
        "print(\"\\nData import processes initiated. Check status in the cell below.\")"
      ],
      "metadata": {
        "id": "DZ5DkoeaQNwY",
        "colab": {
          "base_uri": "https://localhost:8080/"
        },
        "outputId": "7a57acc8-f705-4643-f25b-a4a678da931f"
      },
      "execution_count": 12,
      "outputs": [
        {
          "output_type": "stream",
          "name": "stdout",
          "text": [
            "Reading and unnesting data from `bigquery-public-data.google_analytics_sample.ga_sessions_201707*`...\n",
            "Writing CSVs to gs://arg-dev-mu-bq-federation-template-bucket/...\n",
            "CSVs written successfully.\n",
            "\n",
            "Fetching Cloud SQL service account...\n",
            "Granting Storage Object Viewer role to p472369021765-rq48ao@gcp-sa-cloud-sql.iam.gserviceaccount.com...\n",
            "bindings:\n",
            "- members:\n",
            "  - projectEditor:arg-dev-mu\n",
            "  - projectOwner:arg-dev-mu\n",
            "  role: roles/storage.legacyBucketOwner\n",
            "- members:\n",
            "  - projectViewer:arg-dev-mu\n",
            "  role: roles/storage.legacyBucketReader\n",
            "- members:\n",
            "  - projectEditor:arg-dev-mu\n",
            "  - projectOwner:arg-dev-mu\n",
            "  role: roles/storage.legacyObjectOwner\n",
            "- members:\n",
            "  - projectViewer:arg-dev-mu\n",
            "  role: roles/storage.legacyObjectReader\n",
            "- members:\n",
            "  - serviceAccount:p472369021765-rq48ao@gcp-sa-cloud-sql.iam.gserviceaccount.com\n",
            "  - serviceAccount:p472369021765-u221hv@gcp-sa-cloud-sql.iam.gserviceaccount.com\n",
            "  role: roles/storage.objectViewer\n",
            "etag: CAM=\n",
            "kind: storage#policy\n",
            "resourceId: projects/_/buckets/arg-dev-mu-bq-federation-template-bucket\n",
            "version: 1\n",
            "Permissions granted.\n",
            "\n",
            "Importing data into Cloud SQL tables. This may take a few minutes...\n",
            "Imported data from [gs://arg-dev-mu-bq-federation-template-bucket/ga_sessions_201707.csv] into [https://sqladmin.googleapis.com/sql/v1beta4/projects/arg-dev-mu/instances/cloudsql-mysql-instance].\n",
            "Imported data from [gs://arg-dev-mu-bq-federation-template-bucket/ga_product_hits_201707.csv] into [https://sqladmin.googleapis.com/sql/v1beta4/projects/arg-dev-mu/instances/cloudsql-mysql-instance].\n",
            "\n",
            "Data import processes initiated. Check status in the cell below.\n"
          ]
        }
      ]
    },
    {
      "cell_type": "code",
      "source": [
        "print(\"Checking status of recent Cloud SQL operations...\")\n",
        "print(\"Wait until the status for both IMPORT operations shows as DONE before continuing.\")\n",
        "!gcloud sql operations list --instance={MYSQL_INSTANCE} --limit=5"
      ],
      "metadata": {
        "id": "Fbmd7FS_QNwY",
        "colab": {
          "base_uri": "https://localhost:8080/"
        },
        "outputId": "6d94f128-d7e3-4d4f-ff25-011b7bd59bde"
      },
      "execution_count": 13,
      "outputs": [
        {
          "output_type": "stream",
          "name": "stdout",
          "text": [
            "Checking status of recent Cloud SQL operations...\n",
            "Wait until the status for both IMPORT operations shows as DONE before continuing.\n",
            "NAME                                  TYPE             START                          END                            ERROR  STATUS\n",
            "0d028c77-d47d-423d-808f-098300000032  IMPORT           2025-09-09T21:25:48.972+00:00  2025-09-09T21:25:59.443+00:00  -      DONE\n",
            "0ffef06b-1fc5-4cca-85c6-841c00000032  IMPORT           2025-09-09T21:25:30.266+00:00  2025-09-09T21:25:40.649+00:00  -      DONE\n",
            "90f6488c-a69c-4f15-a47d-41c900000032  CREATE_DATABASE  2025-09-09T21:24:36.252+00:00  2025-09-09T21:24:36.330+00:00  -      DONE\n",
            "26767654-40cb-4710-9edc-8da300000032  CREATE           2025-09-09T21:21:41.844+00:00  2025-09-09T21:24:34.409+00:00  -      DONE\n"
          ]
        }
      ]
    },
    {
      "cell_type": "markdown",
      "source": [
        "</details>\n",
        "\n",
        "### 1.5 Establish BigQuery Connection to Cloud SQL\n",
        "\n",
        "This section creates the BigQuery connection resource, which acts as a secure bridge to your Cloud SQL instance."
      ],
      "metadata": {
        "id": "tvhlu5NrQNwY"
      }
    },
    {
      "cell_type": "code",
      "source": [
        "print(f\"Creating BigQuery connection '{BQ_CLOUDSQL_CONNECTION}'...\")\n",
        "\n",
        "# Define the connection properties and credentials as JSON strings.\n",
        "properties_json = f'{{\"instanceId\":\"{PROJECT_ID}:{LOCATION}:{MYSQL_INSTANCE}\",\"database\":\"{MYSQL_DATABASE}\",\"type\":\"MYSQL\"}}'\n",
        "credential_json = f'{{\"username\":\"{CLOUDSQL_USER}\",\"password\":\"{CLOUDSQL_PASSWORD}\"}}'\n",
        "connection_id = BQ_CLOUDSQL_CONNECTION\n",
        "\n",
        "!bq mk --connection \\\n",
        "    --display_name={connection_id} \\\n",
        "    --connection_type=CLOUD_SQL \\\n",
        "    --properties='{properties_json}' \\\n",
        "    --connection_credential='{credential_json}' \\\n",
        "    --project_id={PROJECT_ID} \\\n",
        "    --location={LOCATION} \\\n",
        "    {connection_id}"
      ],
      "metadata": {
        "id": "nqh9oqSXQNwY",
        "colab": {
          "base_uri": "https://localhost:8080/"
        },
        "outputId": "0175ec91-9952-4cba-d7a9-0709d47c1ab9"
      },
      "execution_count": 14,
      "outputs": [
        {
          "output_type": "stream",
          "name": "stdout",
          "text": [
            "Creating BigQuery connection 'bq-cloudsql-connection'...\n",
            "Connection 472369021765.us-central1.bq-cloudsql-connection successfully created\n"
          ]
        }
      ]
    },
    {
      "cell_type": "markdown",
      "source": [
        "#### Verify the Cloud SQL Connection\n",
        "\n",
        "The following command shows the details of the connection resource you just created. Note that the `hasCredential` field is `True`, indicating that this connection uses a username and password stored securely within the connection resource itself."
      ],
      "metadata": {
        "id": "AHZKpJiNQNwY"
      }
    },
    {
      "cell_type": "code",
      "source": [
        "print(\"Displaying Cloud SQL connection details...\")\n",
        "!bq show --connection {PROJECT_ID}.{LOCATION}.{BQ_CLOUDSQL_CONNECTION}"
      ],
      "metadata": {
        "id": "tm0jQZ7iQNwY",
        "colab": {
          "base_uri": "https://localhost:8080/"
        },
        "outputId": "bc44dcfd-2336-479c-a563-c26c4cdfbf9c"
      },
      "execution_count": 15,
      "outputs": [
        {
          "output_type": "stream",
          "name": "stdout",
          "text": [
            "Displaying Cloud SQL connection details...\n",
            "Connection arg-dev-mu.us-central1.bq-cloudsql-connection\n",
            "\n",
            "                       name                              friendlyName        description    Last modified      type      hasCredential                                                                                                      properties                                                                                                     \n",
            " ------------------------------------------------- ------------------------ ------------- ----------------- ----------- --------------- ------------------------------------------------------------------------------------------------------------------------------------------------------------------------------------------------------------------ \n",
            "  472369021765.us-central1.bq-cloudsql-connection   bq-cloudsql-connection                 09 Sep 21:26:09   CLOUD_SQL   True            {\"instanceId\": \"arg-dev-mu:us-central1:cloudsql-mysql-instance\", \"database\": \"cloudsql-mysql-db\", \"type\": \"MYSQL\", \"serviceAccountId\": \"service-472369021765@gcp-sa-bigqueryconnection.iam.gserviceaccount.com\"}  \n",
            "\n"
          ]
        }
      ]
    },
    {
      "cell_type": "markdown",
      "source": [
        "#### Grant Connection Permissions\n",
        "\n",
        "The new connection has its own unique service account. This step is crucial as it grants that service account the `Cloud SQL Client` role, which is the permission it needs to access the Cloud SQL instance."
      ],
      "metadata": {
        "id": "QPC19CLOGXS7"
      }
    },
    {
      "cell_type": "code",
      "source": [
        "print(\"Fetching connection's service account and granting permissions...\")\n",
        "# Use bq show with jq to parse the service account ID from the JSON output.\n",
        "sa_output_list = !bq show --format=json --connection {PROJECT_ID}.{LOCATION}.{BQ_CLOUDSQL_CONNECTION} | jq -r '.cloudSql.serviceAccountId'\n",
        "connection_sa = sa_output_list[0]\n",
        "\n",
        "print(f\"Connection Service Account: {connection_sa}\")\n",
        "print(f\"Granting Cloud SQL Client permission...\")\n",
        "\n",
        "# Grant the connection's service account the \"Cloud SQL Client\" role on the project.\n",
        "!gcloud projects add-iam-policy-binding {PROJECT_ID} \\\n",
        "    --member=\"serviceAccount:{connection_sa}\" \\\n",
        "    --role=\"roles/cloudsql.client\" \\\n",
        "    --quiet\n",
        "\n",
        "print(f\"\\nSuccessfully granted connection access to the Cloud SQL instance.\")"
      ],
      "metadata": {
        "id": "Ajb4_HbAQNwY",
        "colab": {
          "base_uri": "https://localhost:8080/"
        },
        "outputId": "c5818163-d972-4756-8c92-924ad74e3df2"
      },
      "execution_count": 16,
      "outputs": [
        {
          "output_type": "stream",
          "name": "stdout",
          "text": [
            "Fetching connection's service account and granting permissions...\n",
            "Connection Service Account: service-472369021765@gcp-sa-bigqueryconnection.iam.gserviceaccount.com\n",
            "Granting Cloud SQL Client permission...\n",
            "Updated IAM policy for project [arg-dev-mu].\n",
            "bindings:\n",
            "- members:\n",
            "  - serviceAccount:service-472369021765@gcp-sa-vertex-nb.iam.gserviceaccount.com\n",
            "  role: roles/aiplatform.colabServiceAgent\n",
            "- members:\n",
            "  - serviceAccount:service-472369021765@gcp-sa-aiplatform-vm.iam.gserviceaccount.com\n",
            "  role: roles/aiplatform.notebookServiceAgent\n",
            "- members:\n",
            "  - serviceAccount:service-472369021765@gcp-sa-aiplatform.iam.gserviceaccount.com\n",
            "  role: roles/aiplatform.serviceAgent\n",
            "- members:\n",
            "  - deleted:serviceAccount:bqcx-472369021765-s31q@gcp-sa-bigquery-condel.iam.gserviceaccount.com?uid=100188737858243914141\n",
            "  role: roles/aiplatform.user\n",
            "- members:\n",
            "  - serviceAccount:service-472369021765@gcp-sa-bigqueryconnection.iam.gserviceaccount.com\n",
            "  role: roles/cloudsql.client\n",
            "- members:\n",
            "  - serviceAccount:service-472369021765@gcp-sa-bigqueryconnection.iam.gserviceaccount.com\n",
            "  role: roles/cloudsql.user\n",
            "- members:\n",
            "  - serviceAccount:service-472369021765@compute-system.iam.gserviceaccount.com\n",
            "  role: roles/compute.serviceAgent\n",
            "- members:\n",
            "  - serviceAccount:service-472369021765@gcp-sa-dataform.iam.gserviceaccount.com\n",
            "  role: roles/dataform.serviceAgent\n",
            "- members:\n",
            "  - serviceAccount:service-472369021765@dataproc-accounts.iam.gserviceaccount.com\n",
            "  role: roles/dataproc.serviceAgent\n",
            "- members:\n",
            "  - serviceAccount:service-472369021765@gcp-sa-discoveryengine.iam.gserviceaccount.com\n",
            "  role: roles/discoveryengine.serviceAgent\n",
            "- members:\n",
            "  - serviceAccount:472369021765@cloudservices.gserviceaccount.com\n",
            "  - user:mfreke@mfreke.altostrat.com\n",
            "  role: roles/editor\n",
            "- members:\n",
            "  - user:admin@mfreke.altostrat.com\n",
            "  role: roles/owner\n",
            "- members:\n",
            "  - serviceAccount:service-472369021765@service-networking.iam.gserviceaccount.com\n",
            "  role: roles/servicenetworking.serviceAgent\n",
            "etag: BwY-ZPQ9RyU=\n",
            "version: 1\n",
            "\n",
            "Successfully granted connection access to the Cloud SQL instance.\n"
          ]
        }
      ]
    },
    {
      "cell_type": "markdown",
      "source": [
        "### 1.6 Query Cloud SQL Data from BigQuery\n",
        "The `EXTERNAL_QUERY` function is the core of BigQuery's federation capabilities. It tells BigQuery to send the specified SQL query (the second argument) to the external data source defined by the connection (the first argument). The results are then streamed back to BigQuery to be processed."
      ],
      "metadata": {
        "id": "tkix_PKNQNwY"
      }
    },
    {
      "cell_type": "code",
      "source": [
        "from google.cloud import bigquery\n",
        "\n",
        "client = bigquery.Client(project=PROJECT_ID)\n",
        "\n",
        "# This query will be executed in MySQL via the BigQuery connection.\n",
        "mysql_query = f\"\"\"\n",
        "    SELECT\n",
        "        v2ProductName,\n",
        "        CAST(FLOOR(SUM(productRevenue / 1000000)) AS SIGNED) AS total_product_revenue_USD\n",
        "    FROM\n",
        "        {MYSQL_PRODUCTS_TABLE}\n",
        "    WHERE\n",
        "        productRevenue IS NOT NULL\n",
        "    GROUP BY\n",
        "        v2ProductName\n",
        "    ORDER BY\n",
        "        total_product_revenue_USD DESC\n",
        "    LIMIT 10\n",
        "\"\"\"\n",
        "\n",
        "# This is the BigQuery SQL that uses EXTERNAL_QUERY to run the MySQL query.\n",
        "sql = f\"\"\"\n",
        "SELECT\n",
        "  *\n",
        "FROM\n",
        "  EXTERNAL_QUERY(\n",
        "    'projects/{PROJECT_ID}/locations/{LOCATION}/connections/{BQ_CLOUDSQL_CONNECTION}',\n",
        "    '''{mysql_query}'''\n",
        "  );\n",
        "\"\"\"\n",
        "\n",
        "print(\"Running federated query to find top 10 products by revenue from Cloud SQL...\")\n",
        "df_result_sql = client.query(sql).to_dataframe()\n",
        "\n",
        "print(\"Query complete. Top 10 products by revenue (July 2017):\")\n",
        "display(df_result_sql)"
      ],
      "metadata": {
        "id": "yZ4wOvcMQNwY",
        "colab": {
          "base_uri": "https://localhost:8080/",
          "height": 398
        },
        "outputId": "69cc4cd8-f2c7-4758-b9fe-c83e6c61befc"
      },
      "execution_count": 17,
      "outputs": [
        {
          "output_type": "stream",
          "name": "stdout",
          "text": [
            "Running federated query to find top 10 products by revenue from Cloud SQL...\n",
            "Query complete. Top 10 products by revenue (July 2017):\n"
          ]
        },
        {
          "output_type": "display_data",
          "data": {
            "text/plain": [
              "                                       v2ProductName  \\\n",
              "0                         Google Baby Essentials Set   \n",
              "1                         YouTube Hard Cover Journal   \n",
              "2                          Google Hard Cover Journal   \n",
              "3                     Google Spiral Journal with Pen   \n",
              "4                                  Google Sunglasses   \n",
              "5                                Leatherette Journal   \n",
              "6                          Google 22 oz Water Bottle   \n",
              "7  Google Men's 100% Cotton Short Sleeve Hero Tee...   \n",
              "8                                          Sport Bag   \n",
              "9                         Recycled Paper Journal Set   \n",
              "\n",
              "   total_product_revenue_USD  \n",
              "0                       5570  \n",
              "1                       5559  \n",
              "2                       5133  \n",
              "3                       4940  \n",
              "4                       4718  \n",
              "5                       4660  \n",
              "6                       4399  \n",
              "7                       4075  \n",
              "8                       3183  \n",
              "9                       2960  "
            ],
            "text/html": [
              "\n",
              "  <div id=\"df-cf367a2e-21d8-43e5-9cb3-18776c49b505\" class=\"colab-df-container\">\n",
              "    <div>\n",
              "<style scoped>\n",
              "    .dataframe tbody tr th:only-of-type {\n",
              "        vertical-align: middle;\n",
              "    }\n",
              "\n",
              "    .dataframe tbody tr th {\n",
              "        vertical-align: top;\n",
              "    }\n",
              "\n",
              "    .dataframe thead th {\n",
              "        text-align: right;\n",
              "    }\n",
              "</style>\n",
              "<table border=\"1\" class=\"dataframe\">\n",
              "  <thead>\n",
              "    <tr style=\"text-align: right;\">\n",
              "      <th></th>\n",
              "      <th>v2ProductName</th>\n",
              "      <th>total_product_revenue_USD</th>\n",
              "    </tr>\n",
              "  </thead>\n",
              "  <tbody>\n",
              "    <tr>\n",
              "      <th>0</th>\n",
              "      <td>Google Baby Essentials Set</td>\n",
              "      <td>5570</td>\n",
              "    </tr>\n",
              "    <tr>\n",
              "      <th>1</th>\n",
              "      <td>YouTube Hard Cover Journal</td>\n",
              "      <td>5559</td>\n",
              "    </tr>\n",
              "    <tr>\n",
              "      <th>2</th>\n",
              "      <td>Google Hard Cover Journal</td>\n",
              "      <td>5133</td>\n",
              "    </tr>\n",
              "    <tr>\n",
              "      <th>3</th>\n",
              "      <td>Google Spiral Journal with Pen</td>\n",
              "      <td>4940</td>\n",
              "    </tr>\n",
              "    <tr>\n",
              "      <th>4</th>\n",
              "      <td>Google Sunglasses</td>\n",
              "      <td>4718</td>\n",
              "    </tr>\n",
              "    <tr>\n",
              "      <th>5</th>\n",
              "      <td>Leatherette Journal</td>\n",
              "      <td>4660</td>\n",
              "    </tr>\n",
              "    <tr>\n",
              "      <th>6</th>\n",
              "      <td>Google 22 oz Water Bottle</td>\n",
              "      <td>4399</td>\n",
              "    </tr>\n",
              "    <tr>\n",
              "      <th>7</th>\n",
              "      <td>Google Men's 100% Cotton Short Sleeve Hero Tee...</td>\n",
              "      <td>4075</td>\n",
              "    </tr>\n",
              "    <tr>\n",
              "      <th>8</th>\n",
              "      <td>Sport Bag</td>\n",
              "      <td>3183</td>\n",
              "    </tr>\n",
              "    <tr>\n",
              "      <th>9</th>\n",
              "      <td>Recycled Paper Journal Set</td>\n",
              "      <td>2960</td>\n",
              "    </tr>\n",
              "  </tbody>\n",
              "</table>\n",
              "</div>\n",
              "    <div class=\"colab-df-buttons\">\n",
              "\n",
              "  <div class=\"colab-df-container\">\n",
              "    <button class=\"colab-df-convert\" onclick=\"convertToInteractive('df-cf367a2e-21d8-43e5-9cb3-18776c49b505')\"\n",
              "            title=\"Convert this dataframe to an interactive table.\"\n",
              "            style=\"display:none;\">\n",
              "\n",
              "  <svg xmlns=\"http://www.w3.org/2000/svg\" height=\"24px\" viewBox=\"0 -960 960 960\">\n",
              "    <path d=\"M120-120v-720h720v720H120Zm60-500h600v-160H180v160Zm220 220h160v-160H400v160Zm0 220h160v-160H400v160ZM180-400h160v-160H180v160Zm440 0h160v-160H620v160ZM180-180h160v-160H180v160Zm440 0h160v-160H620v160Z\"/>\n",
              "  </svg>\n",
              "    </button>\n",
              "\n",
              "  <style>\n",
              "    .colab-df-container {\n",
              "      display:flex;\n",
              "      gap: 12px;\n",
              "    }\n",
              "\n",
              "    .colab-df-convert {\n",
              "      background-color: #E8F0FE;\n",
              "      border: none;\n",
              "      border-radius: 50%;\n",
              "      cursor: pointer;\n",
              "      display: none;\n",
              "      fill: #1967D2;\n",
              "      height: 32px;\n",
              "      padding: 0 0 0 0;\n",
              "      width: 32px;\n",
              "    }\n",
              "\n",
              "    .colab-df-convert:hover {\n",
              "      background-color: #E2EBFA;\n",
              "      box-shadow: 0px 1px 2px rgba(60, 64, 67, 0.3), 0px 1px 3px 1px rgba(60, 64, 67, 0.15);\n",
              "      fill: #174EA6;\n",
              "    }\n",
              "\n",
              "    .colab-df-buttons div {\n",
              "      margin-bottom: 4px;\n",
              "    }\n",
              "\n",
              "    [theme=dark] .colab-df-convert {\n",
              "      background-color: #3B4455;\n",
              "      fill: #D2E3FC;\n",
              "    }\n",
              "\n",
              "    [theme=dark] .colab-df-convert:hover {\n",
              "      background-color: #434B5C;\n",
              "      box-shadow: 0px 1px 3px 1px rgba(0, 0, 0, 0.15);\n",
              "      filter: drop-shadow(0px 1px 2px rgba(0, 0, 0, 0.3));\n",
              "      fill: #FFFFFF;\n",
              "    }\n",
              "  </style>\n",
              "\n",
              "    <script>\n",
              "      const buttonEl =\n",
              "        document.querySelector('#df-cf367a2e-21d8-43e5-9cb3-18776c49b505 button.colab-df-convert');\n",
              "      buttonEl.style.display =\n",
              "        google.colab.kernel.accessAllowed ? 'block' : 'none';\n",
              "\n",
              "      async function convertToInteractive(key) {\n",
              "        const element = document.querySelector('#df-cf367a2e-21d8-43e5-9cb3-18776c49b505');\n",
              "        const dataTable =\n",
              "          await google.colab.kernel.invokeFunction('convertToInteractive',\n",
              "                                                    [key], {});\n",
              "        if (!dataTable) return;\n",
              "\n",
              "        const docLinkHtml = 'Like what you see? Visit the ' +\n",
              "          '<a target=\"_blank\" href=https://colab.research.google.com/notebooks/data_table.ipynb>data table notebook</a>'\n",
              "          + ' to learn more about interactive tables.';\n",
              "        element.innerHTML = '';\n",
              "        dataTable['output_type'] = 'display_data';\n",
              "        await google.colab.output.renderOutput(dataTable, element);\n",
              "        const docLink = document.createElement('div');\n",
              "        docLink.innerHTML = docLinkHtml;\n",
              "        element.appendChild(docLink);\n",
              "      }\n",
              "    </script>\n",
              "  </div>\n",
              "\n",
              "\n",
              "    <div id=\"df-78ea6dcc-2b23-490d-bba7-7a03f3d415f9\">\n",
              "      <button class=\"colab-df-quickchart\" onclick=\"quickchart('df-78ea6dcc-2b23-490d-bba7-7a03f3d415f9')\"\n",
              "                title=\"Suggest charts\"\n",
              "                style=\"display:none;\">\n",
              "\n",
              "<svg xmlns=\"http://www.w3.org/2000/svg\" height=\"24px\"viewBox=\"0 0 24 24\"\n",
              "     width=\"24px\">\n",
              "    <g>\n",
              "        <path d=\"M19 3H5c-1.1 0-2 .9-2 2v14c0 1.1.9 2 2 2h14c1.1 0 2-.9 2-2V5c0-1.1-.9-2-2-2zM9 17H7v-7h2v7zm4 0h-2V7h2v10zm4 0h-2v-4h2v4z\"/>\n",
              "    </g>\n",
              "</svg>\n",
              "      </button>\n",
              "\n",
              "<style>\n",
              "  .colab-df-quickchart {\n",
              "      --bg-color: #E8F0FE;\n",
              "      --fill-color: #1967D2;\n",
              "      --hover-bg-color: #E2EBFA;\n",
              "      --hover-fill-color: #174EA6;\n",
              "      --disabled-fill-color: #AAA;\n",
              "      --disabled-bg-color: #DDD;\n",
              "  }\n",
              "\n",
              "  [theme=dark] .colab-df-quickchart {\n",
              "      --bg-color: #3B4455;\n",
              "      --fill-color: #D2E3FC;\n",
              "      --hover-bg-color: #434B5C;\n",
              "      --hover-fill-color: #FFFFFF;\n",
              "      --disabled-bg-color: #3B4455;\n",
              "      --disabled-fill-color: #666;\n",
              "  }\n",
              "\n",
              "  .colab-df-quickchart {\n",
              "    background-color: var(--bg-color);\n",
              "    border: none;\n",
              "    border-radius: 50%;\n",
              "    cursor: pointer;\n",
              "    display: none;\n",
              "    fill: var(--fill-color);\n",
              "    height: 32px;\n",
              "    padding: 0;\n",
              "    width: 32px;\n",
              "  }\n",
              "\n",
              "  .colab-df-quickchart:hover {\n",
              "    background-color: var(--hover-bg-color);\n",
              "    box-shadow: 0 1px 2px rgba(60, 64, 67, 0.3), 0 1px 3px 1px rgba(60, 64, 67, 0.15);\n",
              "    fill: var(--button-hover-fill-color);\n",
              "  }\n",
              "\n",
              "  .colab-df-quickchart-complete:disabled,\n",
              "  .colab-df-quickchart-complete:disabled:hover {\n",
              "    background-color: var(--disabled-bg-color);\n",
              "    fill: var(--disabled-fill-color);\n",
              "    box-shadow: none;\n",
              "  }\n",
              "\n",
              "  .colab-df-spinner {\n",
              "    border: 2px solid var(--fill-color);\n",
              "    border-color: transparent;\n",
              "    border-bottom-color: var(--fill-color);\n",
              "    animation:\n",
              "      spin 1s steps(1) infinite;\n",
              "  }\n",
              "\n",
              "  @keyframes spin {\n",
              "    0% {\n",
              "      border-color: transparent;\n",
              "      border-bottom-color: var(--fill-color);\n",
              "      border-left-color: var(--fill-color);\n",
              "    }\n",
              "    20% {\n",
              "      border-color: transparent;\n",
              "      border-left-color: var(--fill-color);\n",
              "      border-top-color: var(--fill-color);\n",
              "    }\n",
              "    30% {\n",
              "      border-color: transparent;\n",
              "      border-left-color: var(--fill-color);\n",
              "      border-top-color: var(--fill-color);\n",
              "      border-right-color: var(--fill-color);\n",
              "    }\n",
              "    40% {\n",
              "      border-color: transparent;\n",
              "      border-right-color: var(--fill-color);\n",
              "      border-top-color: var(--fill-color);\n",
              "    }\n",
              "    60% {\n",
              "      border-color: transparent;\n",
              "      border-right-color: var(--fill-color);\n",
              "    }\n",
              "    80% {\n",
              "      border-color: transparent;\n",
              "      border-right-color: var(--fill-color);\n",
              "      border-bottom-color: var(--fill-color);\n",
              "    }\n",
              "    90% {\n",
              "      border-color: transparent;\n",
              "      border-bottom-color: var(--fill-color);\n",
              "    }\n",
              "  }\n",
              "</style>\n",
              "\n",
              "      <script>\n",
              "        async function quickchart(key) {\n",
              "          const quickchartButtonEl =\n",
              "            document.querySelector('#' + key + ' button');\n",
              "          quickchartButtonEl.disabled = true;  // To prevent multiple clicks.\n",
              "          quickchartButtonEl.classList.add('colab-df-spinner');\n",
              "          try {\n",
              "            const charts = await google.colab.kernel.invokeFunction(\n",
              "                'suggestCharts', [key], {});\n",
              "          } catch (error) {\n",
              "            console.error('Error during call to suggestCharts:', error);\n",
              "          }\n",
              "          quickchartButtonEl.classList.remove('colab-df-spinner');\n",
              "          quickchartButtonEl.classList.add('colab-df-quickchart-complete');\n",
              "        }\n",
              "        (() => {\n",
              "          let quickchartButtonEl =\n",
              "            document.querySelector('#df-78ea6dcc-2b23-490d-bba7-7a03f3d415f9 button');\n",
              "          quickchartButtonEl.style.display =\n",
              "            google.colab.kernel.accessAllowed ? 'block' : 'none';\n",
              "        })();\n",
              "      </script>\n",
              "    </div>\n",
              "\n",
              "  <div id=\"id_171e5ea1-a389-4919-a3b4-8dc43e7e19c8\">\n",
              "    <style>\n",
              "      .colab-df-generate {\n",
              "        background-color: #E8F0FE;\n",
              "        border: none;\n",
              "        border-radius: 50%;\n",
              "        cursor: pointer;\n",
              "        display: none;\n",
              "        fill: #1967D2;\n",
              "        height: 32px;\n",
              "        padding: 0 0 0 0;\n",
              "        width: 32px;\n",
              "      }\n",
              "\n",
              "      .colab-df-generate:hover {\n",
              "        background-color: #E2EBFA;\n",
              "        box-shadow: 0px 1px 2px rgba(60, 64, 67, 0.3), 0px 1px 3px 1px rgba(60, 64, 67, 0.15);\n",
              "        fill: #174EA6;\n",
              "      }\n",
              "\n",
              "      [theme=dark] .colab-df-generate {\n",
              "        background-color: #3B4455;\n",
              "        fill: #D2E3FC;\n",
              "      }\n",
              "\n",
              "      [theme=dark] .colab-df-generate:hover {\n",
              "        background-color: #434B5C;\n",
              "        box-shadow: 0px 1px 3px 1px rgba(0, 0, 0, 0.15);\n",
              "        filter: drop-shadow(0px 1px 2px rgba(0, 0, 0, 0.3));\n",
              "        fill: #FFFFFF;\n",
              "      }\n",
              "    </style>\n",
              "    <button class=\"colab-df-generate\" onclick=\"generateWithVariable('df_result_sql')\"\n",
              "            title=\"Generate code using this dataframe.\"\n",
              "            style=\"display:none;\">\n",
              "\n",
              "  <svg xmlns=\"http://www.w3.org/2000/svg\" height=\"24px\"viewBox=\"0 0 24 24\"\n",
              "       width=\"24px\">\n",
              "    <path d=\"M7,19H8.4L18.45,9,17,7.55,7,17.6ZM5,21V16.75L18.45,3.32a2,2,0,0,1,2.83,0l1.4,1.43a1.91,1.91,0,0,1,.58,1.4,1.91,1.91,0,0,1-.58,1.4L9.25,21ZM18.45,9,17,7.55Zm-12,3A5.31,5.31,0,0,0,4.9,8.1,5.31,5.31,0,0,0,1,6.5,5.31,5.31,0,0,0,4.9,4.9,5.31,5.31,0,0,0,6.5,1,5.31,5.31,0,0,0,8.1,4.9,5.31,5.31,0,0,0,12,6.5,5.46,5.46,0,0,0,6.5,12Z\"/>\n",
              "  </svg>\n",
              "    </button>\n",
              "    <script>\n",
              "      (() => {\n",
              "      const buttonEl =\n",
              "        document.querySelector('#id_171e5ea1-a389-4919-a3b4-8dc43e7e19c8 button.colab-df-generate');\n",
              "      buttonEl.style.display =\n",
              "        google.colab.kernel.accessAllowed ? 'block' : 'none';\n",
              "\n",
              "      buttonEl.onclick = () => {\n",
              "        google.colab.notebook.generateWithVariable('df_result_sql');\n",
              "      }\n",
              "      })();\n",
              "    </script>\n",
              "  </div>\n",
              "\n",
              "    </div>\n",
              "  </div>\n"
            ],
            "application/vnd.google.colaboratory.intrinsic+json": {
              "type": "dataframe",
              "variable_name": "df_result_sql",
              "summary": "{\n  \"name\": \"df_result_sql\",\n  \"rows\": 10,\n  \"fields\": [\n    {\n      \"column\": \"v2ProductName\",\n      \"properties\": {\n        \"dtype\": \"string\",\n        \"num_unique_values\": 10,\n        \"samples\": [\n          \"Sport Bag\",\n          \"YouTube Hard Cover Journal\",\n          \"Leatherette Journal\"\n        ],\n        \"semantic_type\": \"\",\n        \"description\": \"\"\n      }\n    },\n    {\n      \"column\": \"total_product_revenue_USD\",\n      \"properties\": {\n        \"dtype\": \"Int64\",\n        \"num_unique_values\": 10,\n        \"samples\": [\n          3183,\n          5559,\n          4660\n        ],\n        \"semantic_type\": \"\",\n        \"description\": \"\"\n      }\n    }\n  ]\n}"
            }
          },
          "metadata": {}
        }
      ]
    },
    {
      "cell_type": "markdown",
      "source": [
        "---\n",
        "\n",
        "## **Part 2: Connect BigQuery to Spanner (End-to-End Workflow)**\n",
        "\n",
        "This part provides a complete workflow for setting up, loading, and querying a Spanner database from BigQuery.\n",
        "\n"
      ],
      "metadata": {
        "id": "frh87UgcQNwY"
      }
    },
    {
      "cell_type": "markdown",
      "source": [
        "### 2.1 Spanner Configuration"
      ],
      "metadata": {
        "id": "gs6Rpoc34kfa"
      }
    },
    {
      "cell_type": "code",
      "source": [
        "import os\n",
        "\n",
        "# --- Optional Configuration ---\n",
        "# These variables define the names for the new Spanner resources that will be created.\n",
        "# You can leave them as-is or customize them.\n",
        "SPANNER_INSTANCE=\"spanner-instance-template\" # @param {type:\"string\"}\n",
        "SPANNER_DATABASE=\"spanner-db-template\" # @param {type:\"string\"}\n",
        "BQ_SPANNER_CONNECTION=\"bq-spanner-connection\" # @param {type:\"string\"}\n",
        "\n",
        "# --- No changes needed below this line ---\n",
        "# These variables are derived from the settings above or are fixed for this template.\n",
        "SPANNER_SESSIONS_TABLE=\"ga_sessions_201706\"\n",
        "SPANNER_PRODUCTS_TABLE=\"ga_product_hits_201706\"\n",
        "SPANNER_CONFIG=f\"regional-{LOCATION}\"\n",
        "\n",
        "# --- Set environment variables for this section ---\n",
        "os.environ['SPANNER_INSTANCE'] = SPANNER_INSTANCE\n",
        "os.environ['SPANNER_DATABASE'] = SPANNER_DATABASE\n",
        "os.environ['SPANNER_SESSIONS_TABLE'] = SPANNER_SESSIONS_TABLE\n",
        "os.environ['SPANNER_PRODUCTS_TABLE'] = SPANNER_PRODUCTS_TABLE\n",
        "os.environ['SPANNER_CONFIG'] = SPANNER_CONFIG\n",
        "os.environ['BQ_SPANNER_CONNECTION'] = BQ_SPANNER_CONNECTION"
      ],
      "metadata": {
        "id": "FEM4DiMAQNwY"
      },
      "execution_count": 18,
      "outputs": []
    },
    {
      "cell_type": "markdown",
      "source": [
        "### 2.2 Enable Spanner API\n",
        "This command ensures that the Spanner API is enabled, allowing you to create and manage Spanner instances and databases."
      ],
      "metadata": {
        "id": "CIlQm_dDQNwY"
      }
    },
    {
      "cell_type": "code",
      "source": [
        "print(\"Enabling the Spanner API...\")\n",
        "!gcloud services enable spanner.googleapis.com\n",
        "print(\"API enabled.\")"
      ],
      "metadata": {
        "id": "OzlVk7e2QNwY",
        "colab": {
          "base_uri": "https://localhost:8080/"
        },
        "outputId": "9c4a7f34-96c9-4c9e-e30c-c19d48c5b6a7"
      },
      "execution_count": 19,
      "outputs": [
        {
          "output_type": "stream",
          "name": "stdout",
          "text": [
            "Enabling the Spanner API...\n",
            "API enabled.\n"
          ]
        }
      ]
    },
    {
      "cell_type": "markdown",
      "source": [
        "### 2.3 Service Account Permissions for Spanner Workflow\n",
        "\n",
        "Grant your notebook's identity the following roles:\n",
        "\n",
        "* **To run the full setup (including optional steps):** `roles/spanner.databaseAdmin`, `roles/bigquery.admin`. The `roles/bigquery.admin` role includes permissions to query the public Google Analytics dataset used in the data loading steps.\n",
        "\n",
        "* **To connect to an existing instance (skipping optional steps):** `roles/bigquery.connectionAdmin`, `roles/bigquery.user`, `roles/spanner.databaseUser`.\n",
        "\n"
      ],
      "metadata": {
        "id": "ScXWIUNEQNwY"
      }
    },
    {
      "cell_type": "markdown",
      "source": [
        "### 2.4 Setup Spanner Environment (Optional)\n",
        "\n",
        "Complete the steps below to create a new Spanner instance and load it with data.\n",
        "\n",
        "**Permissions Note:** To run the setup steps in this section, the identity executing the notebook needs the following roles: `Spanner Database Admin` and `BigQuery Admin`"
      ],
      "metadata": {
        "id": "t5j7yPVYY_2r"
      }
    },
    {
      "cell_type": "markdown",
      "source": [
        "#### Create Spanner instance and Database\n",
        "\n",
        "This step can take several minutes."
      ],
      "metadata": {
        "id": "IWe7ZZAPZBxl"
      }
    },
    {
      "cell_type": "code",
      "source": [
        "print(f\"Creating Spanner instance '{SPANNER_INSTANCE}'... This may take a few minutes.\")\n",
        "!gcloud spanner instances create {SPANNER_INSTANCE} \\\n",
        "    --config={SPANNER_CONFIG} \\\n",
        "    --description=\"Spanner Template Instance\" \\\n",
        "    --nodes=1\n",
        "\n",
        "print(f\"\\nCreating Spanner database '{SPANNER_DATABASE}'...\")\n",
        "!gcloud spanner databases create {SPANNER_DATABASE} --instance={SPANNER_INSTANCE}\n",
        "print(\"Spanner instance and database created.\")"
      ],
      "metadata": {
        "id": "AfZ58UhSQNwZ",
        "colab": {
          "base_uri": "https://localhost:8080/"
        },
        "outputId": "c0bb2579-3d75-40a2-a5d5-687e8285184b"
      },
      "execution_count": 20,
      "outputs": [
        {
          "output_type": "stream",
          "name": "stdout",
          "text": [
            "Creating Spanner instance 'spanner-instance-template'... This may take a few minutes.\n",
            "\n",
            "Creating Spanner database 'spanner-db-template'...\n",
            "Spanner instance and database created.\n"
          ]
        }
      ]
    },
    {
      "cell_type": "markdown",
      "source": [
        "#### Install Python Libraries for Spanner Setup"
      ],
      "metadata": {
        "id": "-rys5K4tQNwZ"
      }
    },
    {
      "cell_type": "code",
      "source": [
        "# Detect if the notebook is running in Colab to install a specific pandas version.\n",
        "import sys\n",
        "IN_COLAB = 'google.colab' in sys.modules\n",
        "\n",
        "print(\"Installing Python libraries for Spanner...\")\n",
        "if IN_COLAB:\n",
        "    print(\"Colab environment detected. Installing pinned versions...\")\n",
        "    %pip install --upgrade --quiet google-cloud-spanner google-cloud-bigquery pandas==2.2.2\n",
        "else:\n",
        "    print(\"Non-Colab environment detected. Installing latest versions...\")\n",
        "    %pip install --upgrade --quiet google-cloud-spanner google-cloud-bigquery pandas\n",
        "\n",
        "print(\"Libraries installed.\")"
      ],
      "metadata": {
        "id": "i7If7RjZQNwZ",
        "colab": {
          "base_uri": "https://localhost:8080/"
        },
        "outputId": "bed5c7db-1bf7-46be-b43d-9fb38427c6ec"
      },
      "execution_count": 21,
      "outputs": [
        {
          "output_type": "stream",
          "name": "stdout",
          "text": [
            "Installing Python libraries for Spanner...\n",
            "Colab environment detected. Installing pinned versions...\n",
            "Libraries installed.\n"
          ]
        }
      ]
    },
    {
      "cell_type": "markdown",
      "source": [
        "#### Create Spanner Tables\n",
        "This step defines the table schemas. The Google Analytics data has a one-to-many relationship: a single user session can have interactions with multiple products. To model this efficiently, we use two tables.\n",
        "\n",
        "A key feature of Spanner is the ability to interleave tables. We define `ga_product_hits_201706` as interleaved in the parent `ga_sessions_201706` table. This tells Spanner to physically co-locate the child product rows with their parent session row. This dramatically improves the performance of joins between the two tables."
      ],
      "metadata": {
        "id": "fi6l62nDQNwZ"
      }
    },
    {
      "cell_type": "code",
      "source": [
        "from google.cloud import spanner\n",
        "\n",
        "def create_spanner_tables():\n",
        "    \"\"\"Defines and creates the necessary tables in the Spanner database.\"\"\"\n",
        "    spanner_client = spanner.Client(project=PROJECT_ID)\n",
        "    instance = spanner_client.instance(SPANNER_INSTANCE)\n",
        "    database = instance.database(SPANNER_DATABASE)\n",
        "\n",
        "    ddl_statements = [\n",
        "        f\"\"\"\n",
        "        CREATE TABLE {SPANNER_SESSIONS_TABLE} (\n",
        "            fullVisitorId   STRING(MAX) NOT NULL,\n",
        "            visitId         INT64 NOT NULL,\n",
        "            visitNumber     INT64,\n",
        "            visitStartTime  INT64,\n",
        "            date            DATE,\n",
        "            totals          JSON,\n",
        "            trafficSource   JSON,\n",
        "            device          JSON,\n",
        "            geoNetwork      JSON,\n",
        "            channelGrouping STRING(MAX),\n",
        "        ) PRIMARY KEY (fullVisitorId, visitId)\n",
        "        \"\"\",\n",
        "        f\"\"\"\n",
        "        CREATE TABLE {SPANNER_PRODUCTS_TABLE} (\n",
        "            fullVisitorId   STRING(MAX) NOT NULL,\n",
        "            visitId         INT64 NOT NULL,\n",
        "            v2ProductName   STRING(MAX),\n",
        "            productRevenue  INT64,\n",
        "        ) PRIMARY KEY (fullVisitorId, visitId, v2ProductName),\n",
        "        INTERLEAVE IN PARENT {SPANNER_SESSIONS_TABLE} ON DELETE CASCADE\n",
        "        \"\"\"\n",
        "    ]\n",
        "\n",
        "    print(\"Creating Spanner tables... This may take a few minutes.\")\n",
        "    try:\n",
        "        operation = database.update_ddl(ddl_statements)\n",
        "        print(\"Waiting for operation to complete...\")\n",
        "        operation.result()  # Blocks until the DDL operation is done.\n",
        "        print(\"Tables created successfully.\")\n",
        "    except Exception as e:\n",
        "        if \"Duplicate name\" in str(e):\n",
        "             print(\"Tables already exist.\")\n",
        "        else:\n",
        "            print(f\"An error occurred during table creation: {e}\")\n",
        "\n",
        "create_spanner_tables()"
      ],
      "metadata": {
        "id": "pwhVb0gQQNwZ",
        "colab": {
          "base_uri": "https://localhost:8080/"
        },
        "outputId": "16c1e737-ce72-442c-d9e3-111fe404d469"
      },
      "execution_count": 22,
      "outputs": [
        {
          "output_type": "stream",
          "name": "stdout",
          "text": [
            "Creating Spanner tables... This may take a few minutes.\n",
            "Waiting for operation to complete...\n",
            "Tables created successfully.\n"
          ]
        }
      ]
    },
    {
      "cell_type": "markdown",
      "source": [
        "#### Load Data into Spanner Tables (June 2017 Data)\n",
        "\n",
        "The process for loading data into Spanner is slightly different from Cloud SQL. Instead of staging data in GCS, we load it directly from a pandas DataFrame in the notebook's memory.\n",
        "\n",
        "*   **Extract & Transform:** Just like before, we use a single SQL query to efficiently transform the data inside BigQuery.\n",
        "\n",
        "*   **Load to Memory:** The transformed data is loaded into a pandas DataFrame.\n",
        "\n",
        "*   **Write to Spanner:** We use the Spanner client library to write the DataFrame's contents to the database. This is done in small batches or \"chunks\" to avoid exceeding Spanner's transaction size and mutation limits, which is a best practice for loading large datasets."
      ],
      "metadata": {
        "id": "vuifcTMeQNwe"
      }
    },
    {
      "cell_type": "code",
      "source": [
        "from google.cloud import bigquery, spanner\n",
        "import pandas as pd\n",
        "\n",
        "# Query data from BigQuery into Pandas\n",
        "client = bigquery.Client(project=PROJECT_ID)\n",
        "source_table_full_id = f\"`bigquery-public-data.google_analytics_sample.ga_sessions_201706*`\"\n",
        "\n",
        "print(f\"Reading and unnesting data from {source_table_full_id}...\")\n",
        "sql = f\"\"\"\n",
        "SELECT\n",
        "    fullVisitorId, visitId, visitNumber, visitStartTime, PARSE_DATE('%Y%m%d', date) as `date`,\n",
        "    TO_JSON_STRING(totals) as totals, TO_JSON_STRING(trafficSource) as trafficSource,\n",
        "    TO_JSON_STRING(device) as device, TO_JSON_STRING(geoNetwork) as geoNetwork, channelGrouping,\n",
        "    product.v2ProductName, product.productRevenue\n",
        "FROM {source_table_full_id}, UNNEST(hits) as h, UNNEST(h.product) as product\n",
        "\"\"\"\n",
        "full_df = client.query(sql).to_dataframe()\n",
        "\n",
        "# Split into two dataframes and handle data types for Spanner\n",
        "session_columns = ['fullVisitorId', 'visitId', 'visitNumber', 'visitStartTime', 'date', 'totals', 'trafficSource', 'device', 'geoNetwork', 'channelGrouping']\n",
        "sessions_df = full_df[session_columns].drop_duplicates(subset=['fullVisitorId', 'visitId']).astype({'visitId': 'int64', 'visitNumber': 'int64', 'visitStartTime': 'int64'})\n",
        "\n",
        "products_df = full_df[['fullVisitorId', 'visitId', 'v2ProductName', 'productRevenue']].dropna(subset=['v2ProductName'])\n",
        "products_df['productRevenue'] = products_df['productRevenue'].fillna(0)\n",
        "products_df = products_df.astype({'visitId': 'int64', 'productRevenue': 'int64'})\n",
        "products_df = products_df.drop_duplicates(subset=['fullVisitorId', 'visitId', 'v2ProductName'])\n",
        "\n",
        "# Load data into Spanner\n",
        "spanner_client = spanner.Client(project=PROJECT_ID)\n",
        "instance = spanner_client.instance(SPANNER_INSTANCE)\n",
        "database = instance.database(SPANNER_DATABASE)\n",
        "\n",
        "def load_data_in_chunks(table_id, df, chunk_size=5000):\n",
        "    \"\"\"Writes a DataFrame to the specified Spanner table in chunks to avoid mutation limits.\"\"\"\n",
        "    print(f\"Loading data into {table_id}...\")\n",
        "    total_rows = len(df)\n",
        "    for i in range(0, total_rows, chunk_size):\n",
        "        chunk_df = df.iloc[i:i + chunk_size]\n",
        "        print(f\"  Loading rows {i+1} to {min(i + chunk_size, total_rows)} of {total_rows}...\")\n",
        "        with database.batch() as batch:\n",
        "            # Using insert_or_update makes the load operation idempotent.\n",
        "            batch.insert_or_update(\n",
        "                table=table_id,\n",
        "                columns=chunk_df.columns,\n",
        "                values=chunk_df.values.tolist(),\n",
        "            )\n",
        "    print(f\"Successfully loaded {total_rows} rows into {table_id}.\")\n",
        "\n",
        "load_data_in_chunks(SPANNER_SESSIONS_TABLE, sessions_df)\n",
        "load_data_in_chunks(SPANNER_PRODUCTS_TABLE, products_df)\n"
      ],
      "metadata": {
        "id": "dyIxHZmRQNwe",
        "colab": {
          "base_uri": "https://localhost:8080/"
        },
        "outputId": "2c21dac6-e6d2-4b30-9304-af073f9d8558"
      },
      "execution_count": 23,
      "outputs": [
        {
          "output_type": "stream",
          "name": "stdout",
          "text": [
            "Reading and unnesting data from `bigquery-public-data.google_analytics_sample.ga_sessions_201706*`...\n",
            "Loading data into ga_sessions_201706...\n",
            "  Loading rows 1 to 5000 of 41566...\n"
          ]
        },
        {
          "output_type": "stream",
          "name": "stderr",
          "text": [
            "Created multiplexed session.\n",
            "INFO:projects/arg-dev-mu/instances/spanner-instance-template/databases/spanner-db-template:Created multiplexed session.\n"
          ]
        },
        {
          "output_type": "stream",
          "name": "stdout",
          "text": [
            "  Loading rows 5001 to 10000 of 41566...\n",
            "  Loading rows 10001 to 15000 of 41566...\n",
            "  Loading rows 15001 to 20000 of 41566...\n",
            "  Loading rows 20001 to 25000 of 41566...\n",
            "  Loading rows 25001 to 30000 of 41566...\n",
            "  Loading rows 30001 to 35000 of 41566...\n",
            "  Loading rows 35001 to 40000 of 41566...\n",
            "  Loading rows 40001 to 41566 of 41566...\n",
            "Successfully loaded 41566 rows into ga_sessions_201706.\n",
            "Loading data into ga_product_hits_201706...\n",
            "  Loading rows 1 to 5000 of 779611...\n",
            "  Loading rows 5001 to 10000 of 779611...\n",
            "  Loading rows 10001 to 15000 of 779611...\n",
            "  Loading rows 15001 to 20000 of 779611...\n",
            "  Loading rows 20001 to 25000 of 779611...\n",
            "  Loading rows 25001 to 30000 of 779611...\n",
            "  Loading rows 30001 to 35000 of 779611...\n",
            "  Loading rows 35001 to 40000 of 779611...\n",
            "  Loading rows 40001 to 45000 of 779611...\n",
            "  Loading rows 45001 to 50000 of 779611...\n",
            "  Loading rows 50001 to 55000 of 779611...\n",
            "  Loading rows 55001 to 60000 of 779611...\n",
            "  Loading rows 60001 to 65000 of 779611...\n",
            "  Loading rows 65001 to 70000 of 779611...\n",
            "  Loading rows 70001 to 75000 of 779611...\n",
            "  Loading rows 75001 to 80000 of 779611...\n",
            "  Loading rows 80001 to 85000 of 779611...\n",
            "  Loading rows 85001 to 90000 of 779611...\n",
            "  Loading rows 90001 to 95000 of 779611...\n",
            "  Loading rows 95001 to 100000 of 779611...\n",
            "  Loading rows 100001 to 105000 of 779611...\n",
            "  Loading rows 105001 to 110000 of 779611...\n",
            "  Loading rows 110001 to 115000 of 779611...\n",
            "  Loading rows 115001 to 120000 of 779611...\n",
            "  Loading rows 120001 to 125000 of 779611...\n",
            "  Loading rows 125001 to 130000 of 779611...\n",
            "  Loading rows 130001 to 135000 of 779611...\n",
            "  Loading rows 135001 to 140000 of 779611...\n",
            "  Loading rows 140001 to 145000 of 779611...\n",
            "  Loading rows 145001 to 150000 of 779611...\n",
            "  Loading rows 150001 to 155000 of 779611...\n",
            "  Loading rows 155001 to 160000 of 779611...\n",
            "  Loading rows 160001 to 165000 of 779611...\n",
            "  Loading rows 165001 to 170000 of 779611...\n",
            "  Loading rows 170001 to 175000 of 779611...\n",
            "  Loading rows 175001 to 180000 of 779611...\n",
            "  Loading rows 180001 to 185000 of 779611...\n",
            "  Loading rows 185001 to 190000 of 779611...\n",
            "  Loading rows 190001 to 195000 of 779611...\n",
            "  Loading rows 195001 to 200000 of 779611...\n",
            "  Loading rows 200001 to 205000 of 779611...\n",
            "  Loading rows 205001 to 210000 of 779611...\n",
            "  Loading rows 210001 to 215000 of 779611...\n",
            "  Loading rows 215001 to 220000 of 779611...\n",
            "  Loading rows 220001 to 225000 of 779611...\n",
            "  Loading rows 225001 to 230000 of 779611...\n",
            "  Loading rows 230001 to 235000 of 779611...\n",
            "  Loading rows 235001 to 240000 of 779611...\n",
            "  Loading rows 240001 to 245000 of 779611...\n",
            "  Loading rows 245001 to 250000 of 779611...\n",
            "  Loading rows 250001 to 255000 of 779611...\n",
            "  Loading rows 255001 to 260000 of 779611...\n",
            "  Loading rows 260001 to 265000 of 779611...\n",
            "  Loading rows 265001 to 270000 of 779611...\n",
            "  Loading rows 270001 to 275000 of 779611...\n",
            "  Loading rows 275001 to 280000 of 779611...\n",
            "  Loading rows 280001 to 285000 of 779611...\n",
            "  Loading rows 285001 to 290000 of 779611...\n",
            "  Loading rows 290001 to 295000 of 779611...\n",
            "  Loading rows 295001 to 300000 of 779611...\n",
            "  Loading rows 300001 to 305000 of 779611...\n",
            "  Loading rows 305001 to 310000 of 779611...\n",
            "  Loading rows 310001 to 315000 of 779611...\n",
            "  Loading rows 315001 to 320000 of 779611...\n",
            "  Loading rows 320001 to 325000 of 779611...\n",
            "  Loading rows 325001 to 330000 of 779611...\n",
            "  Loading rows 330001 to 335000 of 779611...\n",
            "  Loading rows 335001 to 340000 of 779611...\n",
            "  Loading rows 340001 to 345000 of 779611...\n",
            "  Loading rows 345001 to 350000 of 779611...\n",
            "  Loading rows 350001 to 355000 of 779611...\n",
            "  Loading rows 355001 to 360000 of 779611...\n",
            "  Loading rows 360001 to 365000 of 779611...\n",
            "  Loading rows 365001 to 370000 of 779611...\n",
            "  Loading rows 370001 to 375000 of 779611...\n",
            "  Loading rows 375001 to 380000 of 779611...\n",
            "  Loading rows 380001 to 385000 of 779611...\n",
            "  Loading rows 385001 to 390000 of 779611...\n",
            "  Loading rows 390001 to 395000 of 779611...\n",
            "  Loading rows 395001 to 400000 of 779611...\n",
            "  Loading rows 400001 to 405000 of 779611...\n",
            "  Loading rows 405001 to 410000 of 779611...\n",
            "  Loading rows 410001 to 415000 of 779611...\n",
            "  Loading rows 415001 to 420000 of 779611...\n",
            "  Loading rows 420001 to 425000 of 779611...\n",
            "  Loading rows 425001 to 430000 of 779611...\n",
            "  Loading rows 430001 to 435000 of 779611...\n",
            "  Loading rows 435001 to 440000 of 779611...\n",
            "  Loading rows 440001 to 445000 of 779611...\n",
            "  Loading rows 445001 to 450000 of 779611...\n",
            "  Loading rows 450001 to 455000 of 779611...\n",
            "  Loading rows 455001 to 460000 of 779611...\n",
            "  Loading rows 460001 to 465000 of 779611...\n",
            "  Loading rows 465001 to 470000 of 779611...\n",
            "  Loading rows 470001 to 475000 of 779611...\n",
            "  Loading rows 475001 to 480000 of 779611...\n",
            "  Loading rows 480001 to 485000 of 779611...\n",
            "  Loading rows 485001 to 490000 of 779611...\n",
            "  Loading rows 490001 to 495000 of 779611...\n",
            "  Loading rows 495001 to 500000 of 779611...\n",
            "  Loading rows 500001 to 505000 of 779611...\n",
            "  Loading rows 505001 to 510000 of 779611...\n",
            "  Loading rows 510001 to 515000 of 779611...\n",
            "  Loading rows 515001 to 520000 of 779611...\n",
            "  Loading rows 520001 to 525000 of 779611...\n",
            "  Loading rows 525001 to 530000 of 779611...\n",
            "  Loading rows 530001 to 535000 of 779611...\n",
            "  Loading rows 535001 to 540000 of 779611...\n",
            "  Loading rows 540001 to 545000 of 779611...\n",
            "  Loading rows 545001 to 550000 of 779611...\n",
            "  Loading rows 550001 to 555000 of 779611...\n",
            "  Loading rows 555001 to 560000 of 779611...\n",
            "  Loading rows 560001 to 565000 of 779611...\n",
            "  Loading rows 565001 to 570000 of 779611...\n",
            "  Loading rows 570001 to 575000 of 779611...\n",
            "  Loading rows 575001 to 580000 of 779611...\n",
            "  Loading rows 580001 to 585000 of 779611...\n",
            "  Loading rows 585001 to 590000 of 779611...\n",
            "  Loading rows 590001 to 595000 of 779611...\n",
            "  Loading rows 595001 to 600000 of 779611...\n",
            "  Loading rows 600001 to 605000 of 779611...\n",
            "  Loading rows 605001 to 610000 of 779611...\n",
            "  Loading rows 610001 to 615000 of 779611...\n",
            "  Loading rows 615001 to 620000 of 779611...\n",
            "  Loading rows 620001 to 625000 of 779611...\n",
            "  Loading rows 625001 to 630000 of 779611...\n",
            "  Loading rows 630001 to 635000 of 779611...\n",
            "  Loading rows 635001 to 640000 of 779611...\n",
            "  Loading rows 640001 to 645000 of 779611...\n",
            "  Loading rows 645001 to 650000 of 779611...\n",
            "  Loading rows 650001 to 655000 of 779611...\n",
            "  Loading rows 655001 to 660000 of 779611...\n",
            "  Loading rows 660001 to 665000 of 779611...\n",
            "  Loading rows 665001 to 670000 of 779611...\n",
            "  Loading rows 670001 to 675000 of 779611...\n",
            "  Loading rows 675001 to 680000 of 779611...\n",
            "  Loading rows 680001 to 685000 of 779611...\n",
            "  Loading rows 685001 to 690000 of 779611...\n",
            "  Loading rows 690001 to 695000 of 779611...\n",
            "  Loading rows 695001 to 700000 of 779611...\n",
            "  Loading rows 700001 to 705000 of 779611...\n",
            "  Loading rows 705001 to 710000 of 779611...\n",
            "  Loading rows 710001 to 715000 of 779611...\n",
            "  Loading rows 715001 to 720000 of 779611...\n",
            "  Loading rows 720001 to 725000 of 779611...\n",
            "  Loading rows 725001 to 730000 of 779611...\n",
            "  Loading rows 730001 to 735000 of 779611...\n",
            "  Loading rows 735001 to 740000 of 779611...\n",
            "  Loading rows 740001 to 745000 of 779611...\n",
            "  Loading rows 745001 to 750000 of 779611...\n",
            "  Loading rows 750001 to 755000 of 779611...\n",
            "  Loading rows 755001 to 760000 of 779611...\n",
            "  Loading rows 760001 to 765000 of 779611...\n",
            "  Loading rows 765001 to 770000 of 779611...\n",
            "  Loading rows 770001 to 775000 of 779611...\n",
            "  Loading rows 775001 to 779611 of 779611...\n",
            "Successfully loaded 779611 rows into ga_product_hits_201706.\n"
          ]
        }
      ]
    },
    {
      "cell_type": "markdown",
      "source": [
        "</details>\n",
        "\n",
        "### 2.5 Establish BigQuery Connection to Spanner"
      ],
      "metadata": {
        "id": "B4-UfBZ3QNwe"
      }
    },
    {
      "cell_type": "code",
      "source": [
        "print(f\"Creating BigQuery connection '{BQ_SPANNER_CONNECTION}'...\")\n",
        "\n",
        "# The database property needs the full resource path for Spanner.\n",
        "db_path = f\"projects/{PROJECT_ID}/instances/{SPANNER_INSTANCE}/databases/{SPANNER_DATABASE}\"\n",
        "properties_json = f'{{\"database\":\"{db_path}\"}}'\n",
        "connection_id = BQ_SPANNER_CONNECTION\n",
        "\n",
        "!bq mk --connection \\\n",
        "    --display_name={connection_id} \\\n",
        "    --connection_type=CLOUD_SPANNER \\\n",
        "    --properties='{properties_json}' \\\n",
        "    --project_id={PROJECT_ID} \\\n",
        "    --location={LOCATION} \\\n",
        "    {connection_id}\n",
        "\n",
        "print(\"\\nConnection resource created.\")"
      ],
      "metadata": {
        "id": "EdIj19ygQNwe",
        "colab": {
          "base_uri": "https://localhost:8080/"
        },
        "outputId": "2eceb206-3e4d-4b58-b0e1-db882238e9e9"
      },
      "execution_count": 24,
      "outputs": [
        {
          "output_type": "stream",
          "name": "stdout",
          "text": [
            "Creating BigQuery connection 'bq-spanner-connection'...\n",
            "Connection 472369021765.us-central1.bq-spanner-connection successfully created\n",
            "\n",
            "Connection resource created.\n"
          ]
        }
      ]
    },
    {
      "cell_type": "markdown",
      "source": [
        "#### Verify the Spanner Connection\n",
        "\n",
        "The following command shows the details of the Spanner connection. Note that the `hasCredential` field is `False`. This is because Spanner connections use the identity of the connection's service account to authenticate, rather than a stored username and password."
      ],
      "metadata": {
        "id": "zXzwff99QNwe"
      }
    },
    {
      "cell_type": "code",
      "source": [
        "print(\"Displaying Spanner connection details...\")\n",
        "!bq show --connection {PROJECT_ID}.{LOCATION}.{BQ_SPANNER_CONNECTION}"
      ],
      "metadata": {
        "id": "TXfs9oXlQNwe",
        "colab": {
          "base_uri": "https://localhost:8080/"
        },
        "outputId": "b30f81b3-0778-4179-b8b2-708a4e59c311"
      },
      "execution_count": 25,
      "outputs": [
        {
          "output_type": "stream",
          "name": "stdout",
          "text": [
            "Displaying Spanner connection details...\n",
            "Connection arg-dev-mu.us-central1.bq-spanner-connection\n",
            "\n",
            "                       name                            friendlyName        description    Last modified        type        hasCredential                                                properties                                                \n",
            " ------------------------------------------------ ----------------------- ------------- ----------------- --------------- --------------- ------------------------------------------------------------------------------------------------------- \n",
            "  472369021765.us-central1.bq-spanner-connection   bq-spanner-connection                 09 Sep 21:28:26   CLOUD_SPANNER   False           {\"database\": \"projects/arg-dev-mu/instances/spanner-instance-template/databases/spanner-db-template\"}  \n",
            "\n"
          ]
        }
      ]
    },
    {
      "cell_type": "markdown",
      "source": [
        "### 2.6 Query Spanner Data from BigQuery\n",
        "Once again, the `EXTERNAL_QUERY` function allows BigQuery to act as a single query interface, pushing the query execution down to the Spanner database and seamlessly bringing the results back for you to use."
      ],
      "metadata": {
        "id": "e1ZQC8B_QNwe"
      }
    },
    {
      "cell_type": "code",
      "source": [
        "from google.cloud import bigquery\n",
        "\n",
        "client = bigquery.Client(project=PROJECT_ID)\n",
        "\n",
        "# This query will be executed in Spanner via the BigQuery connection.\n",
        "spanner_query = f\"\"\"\n",
        "    SELECT\n",
        "        v2ProductName,\n",
        "        CAST(FLOOR(SUM(productRevenue / 1000000)) AS INT64) AS total_product_revenue_USD\n",
        "    FROM\n",
        "        {SPANNER_PRODUCTS_TABLE}\n",
        "    WHERE\n",
        "        productRevenue IS NOT NULL\n",
        "    GROUP BY\n",
        "        v2ProductName\n",
        "    ORDER BY\n",
        "        total_product_revenue_USD DESC\n",
        "    LIMIT 10\n",
        "\"\"\"\n",
        "\n",
        "# The BigQuery SQL that uses EXTERNAL_QUERY to run the Spanner query.\n",
        "sql = f\"\"\"\n",
        "SELECT\n",
        "  *\n",
        "FROM\n",
        "  EXTERNAL_QUERY(\n",
        "    'projects/{PROJECT_ID}/locations/{LOCATION}/connections/{BQ_SPANNER_CONNECTION}',\n",
        "    '''{spanner_query}'''\n",
        "  );\n",
        "\"\"\"\n",
        "\n",
        "print(\"Running federated query to find top 10 products by revenue from Spanner...\")\n",
        "df_result_spanner = client.query(sql).to_dataframe()\n",
        "\n",
        "print(\"Query complete. Top 10 products by revenue (June 2017):\")\n",
        "display(df_result_spanner)"
      ],
      "metadata": {
        "id": "gC-2ywAjQNwe",
        "colab": {
          "base_uri": "https://localhost:8080/",
          "height": 398
        },
        "outputId": "30ae4a7a-c123-4f90-bf90-0c45cdf5054f"
      },
      "execution_count": 26,
      "outputs": [
        {
          "output_type": "stream",
          "name": "stdout",
          "text": [
            "Running federated query to find top 10 products by revenue from Spanner...\n",
            "Query complete. Top 10 products by revenue (June 2017):\n"
          ]
        },
        {
          "output_type": "display_data",
          "data": {
            "text/plain": [
              "                                       v2ProductName  \\\n",
              "0                        Google Bluetooth Headphones   \n",
              "1                 26 oz Double Wall Insulated Bottle   \n",
              "2                          Google 22 oz Water Bottle   \n",
              "3                   Rubber Grip Ballpoint Pen 4 Pack   \n",
              "4                                  YouTube Twill Cap   \n",
              "5  Google Men's 100% Cotton Short Sleeve Hero Tee...   \n",
              "6                                    Google Tote Bag   \n",
              "7  Google 17 oz Double Wall Stainless Steel Insul...   \n",
              "8                                  Google Sunglasses   \n",
              "9                     Google Zipper-front Sports Bag   \n",
              "\n",
              "   total_product_revenue_USD  \n",
              "0                       6252  \n",
              "1                        706  \n",
              "2                        687  \n",
              "3                        540  \n",
              "4                        398  \n",
              "5                        320  \n",
              "6                        303  \n",
              "7                        201  \n",
              "8                        192  \n",
              "9                        177  "
            ],
            "text/html": [
              "\n",
              "  <div id=\"df-b66781bd-9686-4cc4-8910-19e69d1e4b5d\" class=\"colab-df-container\">\n",
              "    <div>\n",
              "<style scoped>\n",
              "    .dataframe tbody tr th:only-of-type {\n",
              "        vertical-align: middle;\n",
              "    }\n",
              "\n",
              "    .dataframe tbody tr th {\n",
              "        vertical-align: top;\n",
              "    }\n",
              "\n",
              "    .dataframe thead th {\n",
              "        text-align: right;\n",
              "    }\n",
              "</style>\n",
              "<table border=\"1\" class=\"dataframe\">\n",
              "  <thead>\n",
              "    <tr style=\"text-align: right;\">\n",
              "      <th></th>\n",
              "      <th>v2ProductName</th>\n",
              "      <th>total_product_revenue_USD</th>\n",
              "    </tr>\n",
              "  </thead>\n",
              "  <tbody>\n",
              "    <tr>\n",
              "      <th>0</th>\n",
              "      <td>Google Bluetooth Headphones</td>\n",
              "      <td>6252</td>\n",
              "    </tr>\n",
              "    <tr>\n",
              "      <th>1</th>\n",
              "      <td>26 oz Double Wall Insulated Bottle</td>\n",
              "      <td>706</td>\n",
              "    </tr>\n",
              "    <tr>\n",
              "      <th>2</th>\n",
              "      <td>Google 22 oz Water Bottle</td>\n",
              "      <td>687</td>\n",
              "    </tr>\n",
              "    <tr>\n",
              "      <th>3</th>\n",
              "      <td>Rubber Grip Ballpoint Pen 4 Pack</td>\n",
              "      <td>540</td>\n",
              "    </tr>\n",
              "    <tr>\n",
              "      <th>4</th>\n",
              "      <td>YouTube Twill Cap</td>\n",
              "      <td>398</td>\n",
              "    </tr>\n",
              "    <tr>\n",
              "      <th>5</th>\n",
              "      <td>Google Men's 100% Cotton Short Sleeve Hero Tee...</td>\n",
              "      <td>320</td>\n",
              "    </tr>\n",
              "    <tr>\n",
              "      <th>6</th>\n",
              "      <td>Google Tote Bag</td>\n",
              "      <td>303</td>\n",
              "    </tr>\n",
              "    <tr>\n",
              "      <th>7</th>\n",
              "      <td>Google 17 oz Double Wall Stainless Steel Insul...</td>\n",
              "      <td>201</td>\n",
              "    </tr>\n",
              "    <tr>\n",
              "      <th>8</th>\n",
              "      <td>Google Sunglasses</td>\n",
              "      <td>192</td>\n",
              "    </tr>\n",
              "    <tr>\n",
              "      <th>9</th>\n",
              "      <td>Google Zipper-front Sports Bag</td>\n",
              "      <td>177</td>\n",
              "    </tr>\n",
              "  </tbody>\n",
              "</table>\n",
              "</div>\n",
              "    <div class=\"colab-df-buttons\">\n",
              "\n",
              "  <div class=\"colab-df-container\">\n",
              "    <button class=\"colab-df-convert\" onclick=\"convertToInteractive('df-b66781bd-9686-4cc4-8910-19e69d1e4b5d')\"\n",
              "            title=\"Convert this dataframe to an interactive table.\"\n",
              "            style=\"display:none;\">\n",
              "\n",
              "  <svg xmlns=\"http://www.w3.org/2000/svg\" height=\"24px\" viewBox=\"0 -960 960 960\">\n",
              "    <path d=\"M120-120v-720h720v720H120Zm60-500h600v-160H180v160Zm220 220h160v-160H400v160Zm0 220h160v-160H400v160ZM180-400h160v-160H180v160Zm440 0h160v-160H620v160ZM180-180h160v-160H180v160Zm440 0h160v-160H620v160Z\"/>\n",
              "  </svg>\n",
              "    </button>\n",
              "\n",
              "  <style>\n",
              "    .colab-df-container {\n",
              "      display:flex;\n",
              "      gap: 12px;\n",
              "    }\n",
              "\n",
              "    .colab-df-convert {\n",
              "      background-color: #E8F0FE;\n",
              "      border: none;\n",
              "      border-radius: 50%;\n",
              "      cursor: pointer;\n",
              "      display: none;\n",
              "      fill: #1967D2;\n",
              "      height: 32px;\n",
              "      padding: 0 0 0 0;\n",
              "      width: 32px;\n",
              "    }\n",
              "\n",
              "    .colab-df-convert:hover {\n",
              "      background-color: #E2EBFA;\n",
              "      box-shadow: 0px 1px 2px rgba(60, 64, 67, 0.3), 0px 1px 3px 1px rgba(60, 64, 67, 0.15);\n",
              "      fill: #174EA6;\n",
              "    }\n",
              "\n",
              "    .colab-df-buttons div {\n",
              "      margin-bottom: 4px;\n",
              "    }\n",
              "\n",
              "    [theme=dark] .colab-df-convert {\n",
              "      background-color: #3B4455;\n",
              "      fill: #D2E3FC;\n",
              "    }\n",
              "\n",
              "    [theme=dark] .colab-df-convert:hover {\n",
              "      background-color: #434B5C;\n",
              "      box-shadow: 0px 1px 3px 1px rgba(0, 0, 0, 0.15);\n",
              "      filter: drop-shadow(0px 1px 2px rgba(0, 0, 0, 0.3));\n",
              "      fill: #FFFFFF;\n",
              "    }\n",
              "  </style>\n",
              "\n",
              "    <script>\n",
              "      const buttonEl =\n",
              "        document.querySelector('#df-b66781bd-9686-4cc4-8910-19e69d1e4b5d button.colab-df-convert');\n",
              "      buttonEl.style.display =\n",
              "        google.colab.kernel.accessAllowed ? 'block' : 'none';\n",
              "\n",
              "      async function convertToInteractive(key) {\n",
              "        const element = document.querySelector('#df-b66781bd-9686-4cc4-8910-19e69d1e4b5d');\n",
              "        const dataTable =\n",
              "          await google.colab.kernel.invokeFunction('convertToInteractive',\n",
              "                                                    [key], {});\n",
              "        if (!dataTable) return;\n",
              "\n",
              "        const docLinkHtml = 'Like what you see? Visit the ' +\n",
              "          '<a target=\"_blank\" href=https://colab.research.google.com/notebooks/data_table.ipynb>data table notebook</a>'\n",
              "          + ' to learn more about interactive tables.';\n",
              "        element.innerHTML = '';\n",
              "        dataTable['output_type'] = 'display_data';\n",
              "        await google.colab.output.renderOutput(dataTable, element);\n",
              "        const docLink = document.createElement('div');\n",
              "        docLink.innerHTML = docLinkHtml;\n",
              "        element.appendChild(docLink);\n",
              "      }\n",
              "    </script>\n",
              "  </div>\n",
              "\n",
              "\n",
              "    <div id=\"df-10d68645-27f1-4726-a7b4-6a0e284b98c8\">\n",
              "      <button class=\"colab-df-quickchart\" onclick=\"quickchart('df-10d68645-27f1-4726-a7b4-6a0e284b98c8')\"\n",
              "                title=\"Suggest charts\"\n",
              "                style=\"display:none;\">\n",
              "\n",
              "<svg xmlns=\"http://www.w3.org/2000/svg\" height=\"24px\"viewBox=\"0 0 24 24\"\n",
              "     width=\"24px\">\n",
              "    <g>\n",
              "        <path d=\"M19 3H5c-1.1 0-2 .9-2 2v14c0 1.1.9 2 2 2h14c1.1 0 2-.9 2-2V5c0-1.1-.9-2-2-2zM9 17H7v-7h2v7zm4 0h-2V7h2v10zm4 0h-2v-4h2v4z\"/>\n",
              "    </g>\n",
              "</svg>\n",
              "      </button>\n",
              "\n",
              "<style>\n",
              "  .colab-df-quickchart {\n",
              "      --bg-color: #E8F0FE;\n",
              "      --fill-color: #1967D2;\n",
              "      --hover-bg-color: #E2EBFA;\n",
              "      --hover-fill-color: #174EA6;\n",
              "      --disabled-fill-color: #AAA;\n",
              "      --disabled-bg-color: #DDD;\n",
              "  }\n",
              "\n",
              "  [theme=dark] .colab-df-quickchart {\n",
              "      --bg-color: #3B4455;\n",
              "      --fill-color: #D2E3FC;\n",
              "      --hover-bg-color: #434B5C;\n",
              "      --hover-fill-color: #FFFFFF;\n",
              "      --disabled-bg-color: #3B4455;\n",
              "      --disabled-fill-color: #666;\n",
              "  }\n",
              "\n",
              "  .colab-df-quickchart {\n",
              "    background-color: var(--bg-color);\n",
              "    border: none;\n",
              "    border-radius: 50%;\n",
              "    cursor: pointer;\n",
              "    display: none;\n",
              "    fill: var(--fill-color);\n",
              "    height: 32px;\n",
              "    padding: 0;\n",
              "    width: 32px;\n",
              "  }\n",
              "\n",
              "  .colab-df-quickchart:hover {\n",
              "    background-color: var(--hover-bg-color);\n",
              "    box-shadow: 0 1px 2px rgba(60, 64, 67, 0.3), 0 1px 3px 1px rgba(60, 64, 67, 0.15);\n",
              "    fill: var(--button-hover-fill-color);\n",
              "  }\n",
              "\n",
              "  .colab-df-quickchart-complete:disabled,\n",
              "  .colab-df-quickchart-complete:disabled:hover {\n",
              "    background-color: var(--disabled-bg-color);\n",
              "    fill: var(--disabled-fill-color);\n",
              "    box-shadow: none;\n",
              "  }\n",
              "\n",
              "  .colab-df-spinner {\n",
              "    border: 2px solid var(--fill-color);\n",
              "    border-color: transparent;\n",
              "    border-bottom-color: var(--fill-color);\n",
              "    animation:\n",
              "      spin 1s steps(1) infinite;\n",
              "  }\n",
              "\n",
              "  @keyframes spin {\n",
              "    0% {\n",
              "      border-color: transparent;\n",
              "      border-bottom-color: var(--fill-color);\n",
              "      border-left-color: var(--fill-color);\n",
              "    }\n",
              "    20% {\n",
              "      border-color: transparent;\n",
              "      border-left-color: var(--fill-color);\n",
              "      border-top-color: var(--fill-color);\n",
              "    }\n",
              "    30% {\n",
              "      border-color: transparent;\n",
              "      border-left-color: var(--fill-color);\n",
              "      border-top-color: var(--fill-color);\n",
              "      border-right-color: var(--fill-color);\n",
              "    }\n",
              "    40% {\n",
              "      border-color: transparent;\n",
              "      border-right-color: var(--fill-color);\n",
              "      border-top-color: var(--fill-color);\n",
              "    }\n",
              "    60% {\n",
              "      border-color: transparent;\n",
              "      border-right-color: var(--fill-color);\n",
              "    }\n",
              "    80% {\n",
              "      border-color: transparent;\n",
              "      border-right-color: var(--fill-color);\n",
              "      border-bottom-color: var(--fill-color);\n",
              "    }\n",
              "    90% {\n",
              "      border-color: transparent;\n",
              "      border-bottom-color: var(--fill-color);\n",
              "    }\n",
              "  }\n",
              "</style>\n",
              "\n",
              "      <script>\n",
              "        async function quickchart(key) {\n",
              "          const quickchartButtonEl =\n",
              "            document.querySelector('#' + key + ' button');\n",
              "          quickchartButtonEl.disabled = true;  // To prevent multiple clicks.\n",
              "          quickchartButtonEl.classList.add('colab-df-spinner');\n",
              "          try {\n",
              "            const charts = await google.colab.kernel.invokeFunction(\n",
              "                'suggestCharts', [key], {});\n",
              "          } catch (error) {\n",
              "            console.error('Error during call to suggestCharts:', error);\n",
              "          }\n",
              "          quickchartButtonEl.classList.remove('colab-df-spinner');\n",
              "          quickchartButtonEl.classList.add('colab-df-quickchart-complete');\n",
              "        }\n",
              "        (() => {\n",
              "          let quickchartButtonEl =\n",
              "            document.querySelector('#df-10d68645-27f1-4726-a7b4-6a0e284b98c8 button');\n",
              "          quickchartButtonEl.style.display =\n",
              "            google.colab.kernel.accessAllowed ? 'block' : 'none';\n",
              "        })();\n",
              "      </script>\n",
              "    </div>\n",
              "\n",
              "  <div id=\"id_9b918cac-2bdd-4a84-92a4-4072a203a7ad\">\n",
              "    <style>\n",
              "      .colab-df-generate {\n",
              "        background-color: #E8F0FE;\n",
              "        border: none;\n",
              "        border-radius: 50%;\n",
              "        cursor: pointer;\n",
              "        display: none;\n",
              "        fill: #1967D2;\n",
              "        height: 32px;\n",
              "        padding: 0 0 0 0;\n",
              "        width: 32px;\n",
              "      }\n",
              "\n",
              "      .colab-df-generate:hover {\n",
              "        background-color: #E2EBFA;\n",
              "        box-shadow: 0px 1px 2px rgba(60, 64, 67, 0.3), 0px 1px 3px 1px rgba(60, 64, 67, 0.15);\n",
              "        fill: #174EA6;\n",
              "      }\n",
              "\n",
              "      [theme=dark] .colab-df-generate {\n",
              "        background-color: #3B4455;\n",
              "        fill: #D2E3FC;\n",
              "      }\n",
              "\n",
              "      [theme=dark] .colab-df-generate:hover {\n",
              "        background-color: #434B5C;\n",
              "        box-shadow: 0px 1px 3px 1px rgba(0, 0, 0, 0.15);\n",
              "        filter: drop-shadow(0px 1px 2px rgba(0, 0, 0, 0.3));\n",
              "        fill: #FFFFFF;\n",
              "      }\n",
              "    </style>\n",
              "    <button class=\"colab-df-generate\" onclick=\"generateWithVariable('df_result_spanner')\"\n",
              "            title=\"Generate code using this dataframe.\"\n",
              "            style=\"display:none;\">\n",
              "\n",
              "  <svg xmlns=\"http://www.w3.org/2000/svg\" height=\"24px\"viewBox=\"0 0 24 24\"\n",
              "       width=\"24px\">\n",
              "    <path d=\"M7,19H8.4L18.45,9,17,7.55,7,17.6ZM5,21V16.75L18.45,3.32a2,2,0,0,1,2.83,0l1.4,1.43a1.91,1.91,0,0,1,.58,1.4,1.91,1.91,0,0,1-.58,1.4L9.25,21ZM18.45,9,17,7.55Zm-12,3A5.31,5.31,0,0,0,4.9,8.1,5.31,5.31,0,0,0,1,6.5,5.31,5.31,0,0,0,4.9,4.9,5.31,5.31,0,0,0,6.5,1,5.31,5.31,0,0,0,8.1,4.9,5.31,5.31,0,0,0,12,6.5,5.46,5.46,0,0,0,6.5,12Z\"/>\n",
              "  </svg>\n",
              "    </button>\n",
              "    <script>\n",
              "      (() => {\n",
              "      const buttonEl =\n",
              "        document.querySelector('#id_9b918cac-2bdd-4a84-92a4-4072a203a7ad button.colab-df-generate');\n",
              "      buttonEl.style.display =\n",
              "        google.colab.kernel.accessAllowed ? 'block' : 'none';\n",
              "\n",
              "      buttonEl.onclick = () => {\n",
              "        google.colab.notebook.generateWithVariable('df_result_spanner');\n",
              "      }\n",
              "      })();\n",
              "    </script>\n",
              "  </div>\n",
              "\n",
              "    </div>\n",
              "  </div>\n"
            ],
            "application/vnd.google.colaboratory.intrinsic+json": {
              "type": "dataframe",
              "variable_name": "df_result_spanner",
              "summary": "{\n  \"name\": \"df_result_spanner\",\n  \"rows\": 10,\n  \"fields\": [\n    {\n      \"column\": \"v2ProductName\",\n      \"properties\": {\n        \"dtype\": \"string\",\n        \"num_unique_values\": 10,\n        \"samples\": [\n          \"Google Sunglasses\",\n          \"26 oz Double Wall Insulated Bottle\",\n          \"Google Men's 100% Cotton Short Sleeve Hero Tee Black\"\n        ],\n        \"semantic_type\": \"\",\n        \"description\": \"\"\n      }\n    },\n    {\n      \"column\": \"total_product_revenue_USD\",\n      \"properties\": {\n        \"dtype\": \"Int64\",\n        \"num_unique_values\": 10,\n        \"samples\": [\n          192,\n          706,\n          320\n        ],\n        \"semantic_type\": \"\",\n        \"description\": \"\"\n      }\n    }\n  ]\n}"
            }
          },
          "metadata": {}
        }
      ]
    },
    {
      "cell_type": "markdown",
      "source": [
        "---\n",
        "\n",
        "## **Part 3: Query Across All Data Sources (Optional)**\n",
        "\n",
        "This section joins data from a native BigQuery table, the Cloud SQL instance, and the Spanner instance. Requires completing the setup and connection steps in both Part 1 and Part 2."
      ],
      "metadata": {
        "id": "-pFmq72bQNwe"
      }
    },
    {
      "cell_type": "markdown",
      "source": [
        "### 3.1 Create BigQuery Dataset\n",
        "\n",
        "In BigQuery, a dataset is a container for your tables and views, similar to a schema in a traditional database. All resources in this section will be created within this new dataset. To execute this, the identity running the notebook requires the `BigQuery Data Editor` role."
      ],
      "metadata": {
        "id": "yWcSRfAa4zcO"
      }
    },
    {
      "cell_type": "code",
      "source": [
        "import os\n",
        "BQ_FEDERATED_DATASET = \"federated_query_dataset\"\n",
        "os.environ['BQ_FEDERATED_DATASET'] = BQ_FEDERATED_DATASET\n",
        "\n",
        "print(f\"Creating BigQuery dataset '{BQ_FEDERATED_DATASET}'...\")\n",
        "!bq --location={LOCATION} mk --dataset {PROJECT_ID}:{BQ_FEDERATED_DATASET}"
      ],
      "metadata": {
        "id": "zBapg7EmQNwe",
        "colab": {
          "base_uri": "https://localhost:8080/"
        },
        "outputId": "8ef20c7e-426e-42aa-a939-1436d365c8ef"
      },
      "execution_count": 27,
      "outputs": [
        {
          "output_type": "stream",
          "name": "stdout",
          "text": [
            "Creating BigQuery dataset 'federated_query_dataset'...\n",
            "BigQuery error in mk operation: Dataset 'arg-dev-mu:federated_query_dataset'\n",
            "already exists.\n"
          ]
        }
      ]
    },
    {
      "cell_type": "markdown",
      "source": [
        "### 3.2 Create Native BigQuery Table\n",
        "\n",
        "For our final federated query, we'll join data from Cloud SQL and Spanner with a native BigQuery table. This step creates that table by copying the May 2017 data from the public dataset into our own project. This is a common pattern when you want to repeatedly query a subset of a public dataset, as it can be faster and more cost-effective."
      ],
      "metadata": {
        "id": "YkjOTXF6QNwe"
      }
    },
    {
      "cell_type": "code",
      "source": [
        "from google.cloud import bigquery\n",
        "\n",
        "client = bigquery.Client(project=PROJECT_ID)\n",
        "native_table_id = f\"{PROJECT_ID}.{BQ_FEDERATED_DATASET}.ga_sessions_201705\"\n",
        "\n",
        "# Step 1: Query the public data into a Pandas DataFrame.\n",
        "# This approach uses the notebook's authenticated identity, which is confirmed to have query access.\n",
        "print(\"Reading data from bigquery-public-data...\")\n",
        "source_sql = \"SELECT * FROM `bigquery-public-data.google_analytics_sample.ga_sessions_201705*`\"\n",
        "df_may = client.query(source_sql).to_dataframe()\n",
        "print(f\"Successfully read {len(df_may)} rows.\")\n",
        "\n",
        "# Step 2: Write the DataFrame to a new table in the destination dataset.\n",
        "# This requires `bigquery.dataEditor` permissions on the project.\n",
        "print(f\"Creating native BigQuery table `{native_table_id}`...\")\n",
        "job_config = bigquery.LoadJobConfig(\n",
        "    # Autodetect schema is used here for simplicity. For production, define a schema explicitly.\n",
        "    autodetect=True,\n",
        "    # Overwrite the table if it already exists.\n",
        "    write_disposition=\"WRITE_TRUNCATE\",\n",
        ")\n",
        "\n",
        "load_job = client.load_table_from_dataframe(\n",
        "    df_may, native_table_id, job_config=job_config\n",
        ")\n",
        "load_job.result()  # Wait for the job to complete.\n",
        "\n",
        "print(\"Native BigQuery table created successfully.\")"
      ],
      "metadata": {
        "id": "EwB0Clo_QNwe",
        "colab": {
          "base_uri": "https://localhost:8080/"
        },
        "outputId": "8f59bdbc-6e88-4028-9912-b7c67f47f445"
      },
      "execution_count": 28,
      "outputs": [
        {
          "output_type": "stream",
          "name": "stdout",
          "text": [
            "Reading data from bigquery-public-data...\n",
            "Successfully read 65371 rows.\n",
            "Creating native BigQuery table `arg-dev-mu.federated_query_dataset.ga_sessions_201705`...\n",
            "Native BigQuery table created successfully.\n"
          ]
        }
      ]
    },
    {
      "cell_type": "markdown",
      "source": [
        "### 3.3 Run Federated Query\n",
        "\n",
        "This is the final, combined query. It uses a Common Table Expression (CTE) with the `WITH` clause to define three temporary result sets—one for each data source. The `UNION ALL` operator then combines these results into a single table, which we can aggregate to get our final answer. This demonstrates the power of having a single query plane for all your data."
      ],
      "metadata": {
        "id": "EluOW3qcQNwe"
      }
    },
    {
      "cell_type": "code",
      "source": [
        "from google.cloud import bigquery\n",
        "\n",
        "client = bigquery.Client(project=PROJECT_ID)\n",
        "\n",
        "sql = f\"\"\"\n",
        "WITH all_sources AS (\n",
        "    -- Source 1: Native BigQuery Table (May 2017)\n",
        "    SELECT\n",
        "        channelGrouping,\n",
        "        COUNT(DISTINCT fullVisitorId) as distinct_users,\n",
        "        'BigQuery (May 2017)' as source\n",
        "    FROM\n",
        "        `{PROJECT_ID}.{BQ_FEDERATED_DATASET}.ga_sessions_201705`\n",
        "    GROUP BY channelGrouping\n",
        "\n",
        "    UNION ALL\n",
        "\n",
        "    -- Source 2: Spanner via BQ Connection (June 2017)\n",
        "    SELECT\n",
        "        channelGrouping,\n",
        "        CAST(distinct_users AS INT64) as distinct_users,\n",
        "        'Spanner (June 2017)' as source\n",
        "    FROM EXTERNAL_QUERY(\n",
        "        'projects/{PROJECT_ID}/locations/{LOCATION}/connections/{BQ_SPANNER_CONNECTION}',\n",
        "        '''SELECT channelGrouping, COUNT(DISTINCT fullVisitorId) as distinct_users\n",
        "           FROM {SPANNER_SESSIONS_TABLE}\n",
        "           GROUP BY channelGrouping'''\n",
        "    )\n",
        "\n",
        "    UNION ALL\n",
        "\n",
        "    -- Source 3: Cloud SQL via BQ Connection (July 2017)\n",
        "    SELECT\n",
        "        channelGrouping,\n",
        "        CAST(distinct_users AS INT64) as distinct_users,\n",
        "        'Cloud SQL (July 2017)' as source\n",
        "    FROM EXTERNAL_QUERY(\n",
        "        'projects/{PROJECT_ID}/locations/{LOCATION}/connections/{BQ_CLOUDSQL_CONNECTION}',\n",
        "        '''SELECT channelGrouping, COUNT(DISTINCT fullVisitorId) as distinct_users\n",
        "           FROM {MYSQL_TABLE}\n",
        "           GROUP BY channelGrouping'''\n",
        "    )\n",
        ")\n",
        "SELECT\n",
        "    channelGrouping,\n",
        "    SUM(distinct_users) as total_distinct_users\n",
        "FROM all_sources\n",
        "GROUP BY channelGrouping\n",
        "ORDER BY total_distinct_users DESC;\n",
        "\"\"\"\n",
        "\n",
        "print(\"Running federated query across BigQuery, Spanner, and Cloud SQL...\")\n",
        "df_federated_result = client.query(sql).to_dataframe()\n",
        "\n",
        "print(\"Query complete. Total distinct users per channel across three months:\")\n",
        "display(df_federated_result)"
      ],
      "metadata": {
        "id": "ZBiHDYPOQNwe",
        "colab": {
          "base_uri": "https://localhost:8080/",
          "height": 335
        },
        "outputId": "153101de-3c01-43d0-8a21-9914cde00c7f"
      },
      "execution_count": 29,
      "outputs": [
        {
          "output_type": "stream",
          "name": "stdout",
          "text": [
            "Running federated query across BigQuery, Spanner, and Cloud SQL...\n",
            "Query complete. Total distinct users per channel across three months:\n"
          ]
        },
        {
          "output_type": "display_data",
          "data": {
            "text/plain": [
              "  channelGrouping  total_distinct_users\n",
              "0  Organic Search                 72781\n",
              "1          Direct                 24428\n",
              "2        Referral                 15243\n",
              "3          Social                 12082\n",
              "4     Paid Search                  3997\n",
              "5      Affiliates                  2035\n",
              "6         Display                   839\n",
              "7         (Other)                     4"
            ],
            "text/html": [
              "\n",
              "  <div id=\"df-c85655af-3c0a-4691-baec-2f18dd78f0fe\" class=\"colab-df-container\">\n",
              "    <div>\n",
              "<style scoped>\n",
              "    .dataframe tbody tr th:only-of-type {\n",
              "        vertical-align: middle;\n",
              "    }\n",
              "\n",
              "    .dataframe tbody tr th {\n",
              "        vertical-align: top;\n",
              "    }\n",
              "\n",
              "    .dataframe thead th {\n",
              "        text-align: right;\n",
              "    }\n",
              "</style>\n",
              "<table border=\"1\" class=\"dataframe\">\n",
              "  <thead>\n",
              "    <tr style=\"text-align: right;\">\n",
              "      <th></th>\n",
              "      <th>channelGrouping</th>\n",
              "      <th>total_distinct_users</th>\n",
              "    </tr>\n",
              "  </thead>\n",
              "  <tbody>\n",
              "    <tr>\n",
              "      <th>0</th>\n",
              "      <td>Organic Search</td>\n",
              "      <td>72781</td>\n",
              "    </tr>\n",
              "    <tr>\n",
              "      <th>1</th>\n",
              "      <td>Direct</td>\n",
              "      <td>24428</td>\n",
              "    </tr>\n",
              "    <tr>\n",
              "      <th>2</th>\n",
              "      <td>Referral</td>\n",
              "      <td>15243</td>\n",
              "    </tr>\n",
              "    <tr>\n",
              "      <th>3</th>\n",
              "      <td>Social</td>\n",
              "      <td>12082</td>\n",
              "    </tr>\n",
              "    <tr>\n",
              "      <th>4</th>\n",
              "      <td>Paid Search</td>\n",
              "      <td>3997</td>\n",
              "    </tr>\n",
              "    <tr>\n",
              "      <th>5</th>\n",
              "      <td>Affiliates</td>\n",
              "      <td>2035</td>\n",
              "    </tr>\n",
              "    <tr>\n",
              "      <th>6</th>\n",
              "      <td>Display</td>\n",
              "      <td>839</td>\n",
              "    </tr>\n",
              "    <tr>\n",
              "      <th>7</th>\n",
              "      <td>(Other)</td>\n",
              "      <td>4</td>\n",
              "    </tr>\n",
              "  </tbody>\n",
              "</table>\n",
              "</div>\n",
              "    <div class=\"colab-df-buttons\">\n",
              "\n",
              "  <div class=\"colab-df-container\">\n",
              "    <button class=\"colab-df-convert\" onclick=\"convertToInteractive('df-c85655af-3c0a-4691-baec-2f18dd78f0fe')\"\n",
              "            title=\"Convert this dataframe to an interactive table.\"\n",
              "            style=\"display:none;\">\n",
              "\n",
              "  <svg xmlns=\"http://www.w3.org/2000/svg\" height=\"24px\" viewBox=\"0 -960 960 960\">\n",
              "    <path d=\"M120-120v-720h720v720H120Zm60-500h600v-160H180v160Zm220 220h160v-160H400v160Zm0 220h160v-160H400v160ZM180-400h160v-160H180v160Zm440 0h160v-160H620v160ZM180-180h160v-160H180v160Zm440 0h160v-160H620v160Z\"/>\n",
              "  </svg>\n",
              "    </button>\n",
              "\n",
              "  <style>\n",
              "    .colab-df-container {\n",
              "      display:flex;\n",
              "      gap: 12px;\n",
              "    }\n",
              "\n",
              "    .colab-df-convert {\n",
              "      background-color: #E8F0FE;\n",
              "      border: none;\n",
              "      border-radius: 50%;\n",
              "      cursor: pointer;\n",
              "      display: none;\n",
              "      fill: #1967D2;\n",
              "      height: 32px;\n",
              "      padding: 0 0 0 0;\n",
              "      width: 32px;\n",
              "    }\n",
              "\n",
              "    .colab-df-convert:hover {\n",
              "      background-color: #E2EBFA;\n",
              "      box-shadow: 0px 1px 2px rgba(60, 64, 67, 0.3), 0px 1px 3px 1px rgba(60, 64, 67, 0.15);\n",
              "      fill: #174EA6;\n",
              "    }\n",
              "\n",
              "    .colab-df-buttons div {\n",
              "      margin-bottom: 4px;\n",
              "    }\n",
              "\n",
              "    [theme=dark] .colab-df-convert {\n",
              "      background-color: #3B4455;\n",
              "      fill: #D2E3FC;\n",
              "    }\n",
              "\n",
              "    [theme=dark] .colab-df-convert:hover {\n",
              "      background-color: #434B5C;\n",
              "      box-shadow: 0px 1px 3px 1px rgba(0, 0, 0, 0.15);\n",
              "      filter: drop-shadow(0px 1px 2px rgba(0, 0, 0, 0.3));\n",
              "      fill: #FFFFFF;\n",
              "    }\n",
              "  </style>\n",
              "\n",
              "    <script>\n",
              "      const buttonEl =\n",
              "        document.querySelector('#df-c85655af-3c0a-4691-baec-2f18dd78f0fe button.colab-df-convert');\n",
              "      buttonEl.style.display =\n",
              "        google.colab.kernel.accessAllowed ? 'block' : 'none';\n",
              "\n",
              "      async function convertToInteractive(key) {\n",
              "        const element = document.querySelector('#df-c85655af-3c0a-4691-baec-2f18dd78f0fe');\n",
              "        const dataTable =\n",
              "          await google.colab.kernel.invokeFunction('convertToInteractive',\n",
              "                                                    [key], {});\n",
              "        if (!dataTable) return;\n",
              "\n",
              "        const docLinkHtml = 'Like what you see? Visit the ' +\n",
              "          '<a target=\"_blank\" href=https://colab.research.google.com/notebooks/data_table.ipynb>data table notebook</a>'\n",
              "          + ' to learn more about interactive tables.';\n",
              "        element.innerHTML = '';\n",
              "        dataTable['output_type'] = 'display_data';\n",
              "        await google.colab.output.renderOutput(dataTable, element);\n",
              "        const docLink = document.createElement('div');\n",
              "        docLink.innerHTML = docLinkHtml;\n",
              "        element.appendChild(docLink);\n",
              "      }\n",
              "    </script>\n",
              "  </div>\n",
              "\n",
              "\n",
              "    <div id=\"df-3ac45215-be2c-4e34-a486-6d19d15aaeb6\">\n",
              "      <button class=\"colab-df-quickchart\" onclick=\"quickchart('df-3ac45215-be2c-4e34-a486-6d19d15aaeb6')\"\n",
              "                title=\"Suggest charts\"\n",
              "                style=\"display:none;\">\n",
              "\n",
              "<svg xmlns=\"http://www.w3.org/2000/svg\" height=\"24px\"viewBox=\"0 0 24 24\"\n",
              "     width=\"24px\">\n",
              "    <g>\n",
              "        <path d=\"M19 3H5c-1.1 0-2 .9-2 2v14c0 1.1.9 2 2 2h14c1.1 0 2-.9 2-2V5c0-1.1-.9-2-2-2zM9 17H7v-7h2v7zm4 0h-2V7h2v10zm4 0h-2v-4h2v4z\"/>\n",
              "    </g>\n",
              "</svg>\n",
              "      </button>\n",
              "\n",
              "<style>\n",
              "  .colab-df-quickchart {\n",
              "      --bg-color: #E8F0FE;\n",
              "      --fill-color: #1967D2;\n",
              "      --hover-bg-color: #E2EBFA;\n",
              "      --hover-fill-color: #174EA6;\n",
              "      --disabled-fill-color: #AAA;\n",
              "      --disabled-bg-color: #DDD;\n",
              "  }\n",
              "\n",
              "  [theme=dark] .colab-df-quickchart {\n",
              "      --bg-color: #3B4455;\n",
              "      --fill-color: #D2E3FC;\n",
              "      --hover-bg-color: #434B5C;\n",
              "      --hover-fill-color: #FFFFFF;\n",
              "      --disabled-bg-color: #3B4455;\n",
              "      --disabled-fill-color: #666;\n",
              "  }\n",
              "\n",
              "  .colab-df-quickchart {\n",
              "    background-color: var(--bg-color);\n",
              "    border: none;\n",
              "    border-radius: 50%;\n",
              "    cursor: pointer;\n",
              "    display: none;\n",
              "    fill: var(--fill-color);\n",
              "    height: 32px;\n",
              "    padding: 0;\n",
              "    width: 32px;\n",
              "  }\n",
              "\n",
              "  .colab-df-quickchart:hover {\n",
              "    background-color: var(--hover-bg-color);\n",
              "    box-shadow: 0 1px 2px rgba(60, 64, 67, 0.3), 0 1px 3px 1px rgba(60, 64, 67, 0.15);\n",
              "    fill: var(--button-hover-fill-color);\n",
              "  }\n",
              "\n",
              "  .colab-df-quickchart-complete:disabled,\n",
              "  .colab-df-quickchart-complete:disabled:hover {\n",
              "    background-color: var(--disabled-bg-color);\n",
              "    fill: var(--disabled-fill-color);\n",
              "    box-shadow: none;\n",
              "  }\n",
              "\n",
              "  .colab-df-spinner {\n",
              "    border: 2px solid var(--fill-color);\n",
              "    border-color: transparent;\n",
              "    border-bottom-color: var(--fill-color);\n",
              "    animation:\n",
              "      spin 1s steps(1) infinite;\n",
              "  }\n",
              "\n",
              "  @keyframes spin {\n",
              "    0% {\n",
              "      border-color: transparent;\n",
              "      border-bottom-color: var(--fill-color);\n",
              "      border-left-color: var(--fill-color);\n",
              "    }\n",
              "    20% {\n",
              "      border-color: transparent;\n",
              "      border-left-color: var(--fill-color);\n",
              "      border-top-color: var(--fill-color);\n",
              "    }\n",
              "    30% {\n",
              "      border-color: transparent;\n",
              "      border-left-color: var(--fill-color);\n",
              "      border-top-color: var(--fill-color);\n",
              "      border-right-color: var(--fill-color);\n",
              "    }\n",
              "    40% {\n",
              "      border-color: transparent;\n",
              "      border-right-color: var(--fill-color);\n",
              "      border-top-color: var(--fill-color);\n",
              "    }\n",
              "    60% {\n",
              "      border-color: transparent;\n",
              "      border-right-color: var(--fill-color);\n",
              "    }\n",
              "    80% {\n",
              "      border-color: transparent;\n",
              "      border-right-color: var(--fill-color);\n",
              "      border-bottom-color: var(--fill-color);\n",
              "    }\n",
              "    90% {\n",
              "      border-color: transparent;\n",
              "      border-bottom-color: var(--fill-color);\n",
              "    }\n",
              "  }\n",
              "</style>\n",
              "\n",
              "      <script>\n",
              "        async function quickchart(key) {\n",
              "          const quickchartButtonEl =\n",
              "            document.querySelector('#' + key + ' button');\n",
              "          quickchartButtonEl.disabled = true;  // To prevent multiple clicks.\n",
              "          quickchartButtonEl.classList.add('colab-df-spinner');\n",
              "          try {\n",
              "            const charts = await google.colab.kernel.invokeFunction(\n",
              "                'suggestCharts', [key], {});\n",
              "          } catch (error) {\n",
              "            console.error('Error during call to suggestCharts:', error);\n",
              "          }\n",
              "          quickchartButtonEl.classList.remove('colab-df-spinner');\n",
              "          quickchartButtonEl.classList.add('colab-df-quickchart-complete');\n",
              "        }\n",
              "        (() => {\n",
              "          let quickchartButtonEl =\n",
              "            document.querySelector('#df-3ac45215-be2c-4e34-a486-6d19d15aaeb6 button');\n",
              "          quickchartButtonEl.style.display =\n",
              "            google.colab.kernel.accessAllowed ? 'block' : 'none';\n",
              "        })();\n",
              "      </script>\n",
              "    </div>\n",
              "\n",
              "  <div id=\"id_7857f637-61f2-46ec-aff6-5a6774b064c1\">\n",
              "    <style>\n",
              "      .colab-df-generate {\n",
              "        background-color: #E8F0FE;\n",
              "        border: none;\n",
              "        border-radius: 50%;\n",
              "        cursor: pointer;\n",
              "        display: none;\n",
              "        fill: #1967D2;\n",
              "        height: 32px;\n",
              "        padding: 0 0 0 0;\n",
              "        width: 32px;\n",
              "      }\n",
              "\n",
              "      .colab-df-generate:hover {\n",
              "        background-color: #E2EBFA;\n",
              "        box-shadow: 0px 1px 2px rgba(60, 64, 67, 0.3), 0px 1px 3px 1px rgba(60, 64, 67, 0.15);\n",
              "        fill: #174EA6;\n",
              "      }\n",
              "\n",
              "      [theme=dark] .colab-df-generate {\n",
              "        background-color: #3B4455;\n",
              "        fill: #D2E3FC;\n",
              "      }\n",
              "\n",
              "      [theme=dark] .colab-df-generate:hover {\n",
              "        background-color: #434B5C;\n",
              "        box-shadow: 0px 1px 3px 1px rgba(0, 0, 0, 0.15);\n",
              "        filter: drop-shadow(0px 1px 2px rgba(0, 0, 0, 0.3));\n",
              "        fill: #FFFFFF;\n",
              "      }\n",
              "    </style>\n",
              "    <button class=\"colab-df-generate\" onclick=\"generateWithVariable('df_federated_result')\"\n",
              "            title=\"Generate code using this dataframe.\"\n",
              "            style=\"display:none;\">\n",
              "\n",
              "  <svg xmlns=\"http://www.w3.org/2000/svg\" height=\"24px\"viewBox=\"0 0 24 24\"\n",
              "       width=\"24px\">\n",
              "    <path d=\"M7,19H8.4L18.45,9,17,7.55,7,17.6ZM5,21V16.75L18.45,3.32a2,2,0,0,1,2.83,0l1.4,1.43a1.91,1.91,0,0,1,.58,1.4,1.91,1.91,0,0,1-.58,1.4L9.25,21ZM18.45,9,17,7.55Zm-12,3A5.31,5.31,0,0,0,4.9,8.1,5.31,5.31,0,0,0,1,6.5,5.31,5.31,0,0,0,4.9,4.9,5.31,5.31,0,0,0,6.5,1,5.31,5.31,0,0,0,8.1,4.9,5.31,5.31,0,0,0,12,6.5,5.46,5.46,0,0,0,6.5,12Z\"/>\n",
              "  </svg>\n",
              "    </button>\n",
              "    <script>\n",
              "      (() => {\n",
              "      const buttonEl =\n",
              "        document.querySelector('#id_7857f637-61f2-46ec-aff6-5a6774b064c1 button.colab-df-generate');\n",
              "      buttonEl.style.display =\n",
              "        google.colab.kernel.accessAllowed ? 'block' : 'none';\n",
              "\n",
              "      buttonEl.onclick = () => {\n",
              "        google.colab.notebook.generateWithVariable('df_federated_result');\n",
              "      }\n",
              "      })();\n",
              "    </script>\n",
              "  </div>\n",
              "\n",
              "    </div>\n",
              "  </div>\n"
            ],
            "application/vnd.google.colaboratory.intrinsic+json": {
              "type": "dataframe",
              "variable_name": "df_federated_result",
              "summary": "{\n  \"name\": \"df_federated_result\",\n  \"rows\": 8,\n  \"fields\": [\n    {\n      \"column\": \"channelGrouping\",\n      \"properties\": {\n        \"dtype\": \"string\",\n        \"num_unique_values\": 8,\n        \"samples\": [\n          \"Direct\",\n          \"Affiliates\",\n          \"Organic Search\"\n        ],\n        \"semantic_type\": \"\",\n        \"description\": \"\"\n      }\n    },\n    {\n      \"column\": \"total_distinct_users\",\n      \"properties\": {\n        \"dtype\": \"Int64\",\n        \"num_unique_values\": 8,\n        \"samples\": [\n          24428,\n          2035,\n          72781\n        ],\n        \"semantic_type\": \"\",\n        \"description\": \"\"\n      }\n    }\n  ]\n}"
            }
          },
          "metadata": {}
        }
      ]
    },
    {
      "cell_type": "markdown",
      "source": [
        "### 3.4 Federated Query: Monthly Users by Device\n",
        "\n",
        "This query aggregates the number of distinct users by device category for each month across all three data sources. The result is ideal for creating a grouped or stacked bar chart to visualize how user engagement by device (desktop, mobile, tablet) trends over time."
      ],
      "metadata": {
        "id": "8__f5bGTQNwe"
      }
    },
    {
      "cell_type": "code",
      "source": [
        "from google.cloud import bigquery\n",
        "\n",
        "client = bigquery.Client(project=PROJECT_ID)\n",
        "\n",
        "sql = f\"\"\"\n",
        "WITH all_monthly_devices AS (\n",
        "    -- Source 1: Native BigQuery Table (May 2017)\n",
        "    SELECT\n",
        "        '2017-05' as month,\n",
        "        device.deviceCategory as device_category,\n",
        "        COUNT(DISTINCT fullVisitorId) as distinct_users\n",
        "    FROM\n",
        "        `{PROJECT_ID}.{BQ_FEDERATED_DATASET}.ga_sessions_201705`\n",
        "    GROUP BY 1, 2\n",
        "\n",
        "    UNION ALL\n",
        "\n",
        "    -- Source 2: Spanner via BQ Connection (June 2017)\n",
        "    SELECT\n",
        "        '2017-06' as month,\n",
        "        device_category,\n",
        "        CAST(distinct_users AS INT64) as distinct_users\n",
        "    FROM EXTERNAL_QUERY(\n",
        "        'projects/{PROJECT_ID}/locations/{LOCATION}/connections/{BQ_SPANNER_CONNECTION}',\n",
        "        '''SELECT JSON_VALUE(device, '$.deviceCategory') as device_category,\n",
        "                  COUNT(DISTINCT fullVisitorId) as distinct_users\n",
        "           FROM {SPANNER_SESSIONS_TABLE}\n",
        "           GROUP BY 1'''\n",
        "    )\n",
        "\n",
        "    UNION ALL\n",
        "\n",
        "    -- Source 3: Cloud SQL via BQ Connection (July 2017)\n",
        "    SELECT\n",
        "        '2017-07' as month,\n",
        "        device_category,\n",
        "        CAST(distinct_users AS INT64) as distinct_users\n",
        "    FROM EXTERNAL_QUERY(\n",
        "        'projects/{PROJECT_ID}/locations/{LOCATION}/connections/{BQ_CLOUDSQL_CONNECTION}',\n",
        "        '''SELECT JSON_UNQUOTE(JSON_EXTRACT(device, '$.deviceCategory')) as device_category,\n",
        "                  COUNT(DISTINCT fullVisitorId) as distinct_users\n",
        "           FROM {MYSQL_TABLE}\n",
        "           GROUP BY 1'''\n",
        "    )\n",
        ")\n",
        "SELECT\n",
        "    month,\n",
        "    device_category,\n",
        "    SUM(distinct_users) as total_distinct_users\n",
        "FROM all_monthly_devices\n",
        "WHERE device_category IS NOT NULL\n",
        "GROUP BY 1, 2\n",
        "ORDER BY month, device_category;\n",
        "\"\"\"\n",
        "\n",
        "print(\"Running federated query for monthly users by device...\")\n",
        "df_device_result = client.query(sql).to_dataframe()\n",
        "\n",
        "print(\"Query complete. Monthly distinct users by device category:\")\n",
        "display(df_device_result)"
      ],
      "metadata": {
        "id": "2b6cmNDkQNwe",
        "colab": {
          "base_uri": "https://localhost:8080/",
          "height": 366
        },
        "outputId": "c70566f8-a390-4269-d3a9-f0a380f134c0"
      },
      "execution_count": 30,
      "outputs": [
        {
          "output_type": "stream",
          "name": "stdout",
          "text": [
            "Running federated query for monthly users by device...\n",
            "Query complete. Monthly distinct users by device category:\n"
          ]
        },
        {
          "output_type": "display_data",
          "data": {
            "text/plain": [
              "     month device_category  total_distinct_users\n",
              "0  2017-05         desktop                 34907\n",
              "1  2017-05          mobile                 15279\n",
              "2  2017-05          tablet                  2047\n",
              "3  2017-06         desktop                 21556\n",
              "4  2017-06          mobile                 12121\n",
              "5  2017-06          tablet                  1607\n",
              "6  2017-07         desktop                 23939\n",
              "7  2017-07          mobile                 14838\n",
              "8  2017-07          tablet                  2060"
            ],
            "text/html": [
              "\n",
              "  <div id=\"df-0f71d0a3-4f6a-4305-8aee-d20c5f397201\" class=\"colab-df-container\">\n",
              "    <div>\n",
              "<style scoped>\n",
              "    .dataframe tbody tr th:only-of-type {\n",
              "        vertical-align: middle;\n",
              "    }\n",
              "\n",
              "    .dataframe tbody tr th {\n",
              "        vertical-align: top;\n",
              "    }\n",
              "\n",
              "    .dataframe thead th {\n",
              "        text-align: right;\n",
              "    }\n",
              "</style>\n",
              "<table border=\"1\" class=\"dataframe\">\n",
              "  <thead>\n",
              "    <tr style=\"text-align: right;\">\n",
              "      <th></th>\n",
              "      <th>month</th>\n",
              "      <th>device_category</th>\n",
              "      <th>total_distinct_users</th>\n",
              "    </tr>\n",
              "  </thead>\n",
              "  <tbody>\n",
              "    <tr>\n",
              "      <th>0</th>\n",
              "      <td>2017-05</td>\n",
              "      <td>desktop</td>\n",
              "      <td>34907</td>\n",
              "    </tr>\n",
              "    <tr>\n",
              "      <th>1</th>\n",
              "      <td>2017-05</td>\n",
              "      <td>mobile</td>\n",
              "      <td>15279</td>\n",
              "    </tr>\n",
              "    <tr>\n",
              "      <th>2</th>\n",
              "      <td>2017-05</td>\n",
              "      <td>tablet</td>\n",
              "      <td>2047</td>\n",
              "    </tr>\n",
              "    <tr>\n",
              "      <th>3</th>\n",
              "      <td>2017-06</td>\n",
              "      <td>desktop</td>\n",
              "      <td>21556</td>\n",
              "    </tr>\n",
              "    <tr>\n",
              "      <th>4</th>\n",
              "      <td>2017-06</td>\n",
              "      <td>mobile</td>\n",
              "      <td>12121</td>\n",
              "    </tr>\n",
              "    <tr>\n",
              "      <th>5</th>\n",
              "      <td>2017-06</td>\n",
              "      <td>tablet</td>\n",
              "      <td>1607</td>\n",
              "    </tr>\n",
              "    <tr>\n",
              "      <th>6</th>\n",
              "      <td>2017-07</td>\n",
              "      <td>desktop</td>\n",
              "      <td>23939</td>\n",
              "    </tr>\n",
              "    <tr>\n",
              "      <th>7</th>\n",
              "      <td>2017-07</td>\n",
              "      <td>mobile</td>\n",
              "      <td>14838</td>\n",
              "    </tr>\n",
              "    <tr>\n",
              "      <th>8</th>\n",
              "      <td>2017-07</td>\n",
              "      <td>tablet</td>\n",
              "      <td>2060</td>\n",
              "    </tr>\n",
              "  </tbody>\n",
              "</table>\n",
              "</div>\n",
              "    <div class=\"colab-df-buttons\">\n",
              "\n",
              "  <div class=\"colab-df-container\">\n",
              "    <button class=\"colab-df-convert\" onclick=\"convertToInteractive('df-0f71d0a3-4f6a-4305-8aee-d20c5f397201')\"\n",
              "            title=\"Convert this dataframe to an interactive table.\"\n",
              "            style=\"display:none;\">\n",
              "\n",
              "  <svg xmlns=\"http://www.w3.org/2000/svg\" height=\"24px\" viewBox=\"0 -960 960 960\">\n",
              "    <path d=\"M120-120v-720h720v720H120Zm60-500h600v-160H180v160Zm220 220h160v-160H400v160Zm0 220h160v-160H400v160ZM180-400h160v-160H180v160Zm440 0h160v-160H620v160ZM180-180h160v-160H180v160Zm440 0h160v-160H620v160Z\"/>\n",
              "  </svg>\n",
              "    </button>\n",
              "\n",
              "  <style>\n",
              "    .colab-df-container {\n",
              "      display:flex;\n",
              "      gap: 12px;\n",
              "    }\n",
              "\n",
              "    .colab-df-convert {\n",
              "      background-color: #E8F0FE;\n",
              "      border: none;\n",
              "      border-radius: 50%;\n",
              "      cursor: pointer;\n",
              "      display: none;\n",
              "      fill: #1967D2;\n",
              "      height: 32px;\n",
              "      padding: 0 0 0 0;\n",
              "      width: 32px;\n",
              "    }\n",
              "\n",
              "    .colab-df-convert:hover {\n",
              "      background-color: #E2EBFA;\n",
              "      box-shadow: 0px 1px 2px rgba(60, 64, 67, 0.3), 0px 1px 3px 1px rgba(60, 64, 67, 0.15);\n",
              "      fill: #174EA6;\n",
              "    }\n",
              "\n",
              "    .colab-df-buttons div {\n",
              "      margin-bottom: 4px;\n",
              "    }\n",
              "\n",
              "    [theme=dark] .colab-df-convert {\n",
              "      background-color: #3B4455;\n",
              "      fill: #D2E3FC;\n",
              "    }\n",
              "\n",
              "    [theme=dark] .colab-df-convert:hover {\n",
              "      background-color: #434B5C;\n",
              "      box-shadow: 0px 1px 3px 1px rgba(0, 0, 0, 0.15);\n",
              "      filter: drop-shadow(0px 1px 2px rgba(0, 0, 0, 0.3));\n",
              "      fill: #FFFFFF;\n",
              "    }\n",
              "  </style>\n",
              "\n",
              "    <script>\n",
              "      const buttonEl =\n",
              "        document.querySelector('#df-0f71d0a3-4f6a-4305-8aee-d20c5f397201 button.colab-df-convert');\n",
              "      buttonEl.style.display =\n",
              "        google.colab.kernel.accessAllowed ? 'block' : 'none';\n",
              "\n",
              "      async function convertToInteractive(key) {\n",
              "        const element = document.querySelector('#df-0f71d0a3-4f6a-4305-8aee-d20c5f397201');\n",
              "        const dataTable =\n",
              "          await google.colab.kernel.invokeFunction('convertToInteractive',\n",
              "                                                    [key], {});\n",
              "        if (!dataTable) return;\n",
              "\n",
              "        const docLinkHtml = 'Like what you see? Visit the ' +\n",
              "          '<a target=\"_blank\" href=https://colab.research.google.com/notebooks/data_table.ipynb>data table notebook</a>'\n",
              "          + ' to learn more about interactive tables.';\n",
              "        element.innerHTML = '';\n",
              "        dataTable['output_type'] = 'display_data';\n",
              "        await google.colab.output.renderOutput(dataTable, element);\n",
              "        const docLink = document.createElement('div');\n",
              "        docLink.innerHTML = docLinkHtml;\n",
              "        element.appendChild(docLink);\n",
              "      }\n",
              "    </script>\n",
              "  </div>\n",
              "\n",
              "\n",
              "    <div id=\"df-13c4ab39-cc9d-4466-82b1-a9995fc8b861\">\n",
              "      <button class=\"colab-df-quickchart\" onclick=\"quickchart('df-13c4ab39-cc9d-4466-82b1-a9995fc8b861')\"\n",
              "                title=\"Suggest charts\"\n",
              "                style=\"display:none;\">\n",
              "\n",
              "<svg xmlns=\"http://www.w3.org/2000/svg\" height=\"24px\"viewBox=\"0 0 24 24\"\n",
              "     width=\"24px\">\n",
              "    <g>\n",
              "        <path d=\"M19 3H5c-1.1 0-2 .9-2 2v14c0 1.1.9 2 2 2h14c1.1 0 2-.9 2-2V5c0-1.1-.9-2-2-2zM9 17H7v-7h2v7zm4 0h-2V7h2v10zm4 0h-2v-4h2v4z\"/>\n",
              "    </g>\n",
              "</svg>\n",
              "      </button>\n",
              "\n",
              "<style>\n",
              "  .colab-df-quickchart {\n",
              "      --bg-color: #E8F0FE;\n",
              "      --fill-color: #1967D2;\n",
              "      --hover-bg-color: #E2EBFA;\n",
              "      --hover-fill-color: #174EA6;\n",
              "      --disabled-fill-color: #AAA;\n",
              "      --disabled-bg-color: #DDD;\n",
              "  }\n",
              "\n",
              "  [theme=dark] .colab-df-quickchart {\n",
              "      --bg-color: #3B4455;\n",
              "      --fill-color: #D2E3FC;\n",
              "      --hover-bg-color: #434B5C;\n",
              "      --hover-fill-color: #FFFFFF;\n",
              "      --disabled-bg-color: #3B4455;\n",
              "      --disabled-fill-color: #666;\n",
              "  }\n",
              "\n",
              "  .colab-df-quickchart {\n",
              "    background-color: var(--bg-color);\n",
              "    border: none;\n",
              "    border-radius: 50%;\n",
              "    cursor: pointer;\n",
              "    display: none;\n",
              "    fill: var(--fill-color);\n",
              "    height: 32px;\n",
              "    padding: 0;\n",
              "    width: 32px;\n",
              "  }\n",
              "\n",
              "  .colab-df-quickchart:hover {\n",
              "    background-color: var(--hover-bg-color);\n",
              "    box-shadow: 0 1px 2px rgba(60, 64, 67, 0.3), 0 1px 3px 1px rgba(60, 64, 67, 0.15);\n",
              "    fill: var(--button-hover-fill-color);\n",
              "  }\n",
              "\n",
              "  .colab-df-quickchart-complete:disabled,\n",
              "  .colab-df-quickchart-complete:disabled:hover {\n",
              "    background-color: var(--disabled-bg-color);\n",
              "    fill: var(--disabled-fill-color);\n",
              "    box-shadow: none;\n",
              "  }\n",
              "\n",
              "  .colab-df-spinner {\n",
              "    border: 2px solid var(--fill-color);\n",
              "    border-color: transparent;\n",
              "    border-bottom-color: var(--fill-color);\n",
              "    animation:\n",
              "      spin 1s steps(1) infinite;\n",
              "  }\n",
              "\n",
              "  @keyframes spin {\n",
              "    0% {\n",
              "      border-color: transparent;\n",
              "      border-bottom-color: var(--fill-color);\n",
              "      border-left-color: var(--fill-color);\n",
              "    }\n",
              "    20% {\n",
              "      border-color: transparent;\n",
              "      border-left-color: var(--fill-color);\n",
              "      border-top-color: var(--fill-color);\n",
              "    }\n",
              "    30% {\n",
              "      border-color: transparent;\n",
              "      border-left-color: var(--fill-color);\n",
              "      border-top-color: var(--fill-color);\n",
              "      border-right-color: var(--fill-color);\n",
              "    }\n",
              "    40% {\n",
              "      border-color: transparent;\n",
              "      border-right-color: var(--fill-color);\n",
              "      border-top-color: var(--fill-color);\n",
              "    }\n",
              "    60% {\n",
              "      border-color: transparent;\n",
              "      border-right-color: var(--fill-color);\n",
              "    }\n",
              "    80% {\n",
              "      border-color: transparent;\n",
              "      border-right-color: var(--fill-color);\n",
              "      border-bottom-color: var(--fill-color);\n",
              "    }\n",
              "    90% {\n",
              "      border-color: transparent;\n",
              "      border-bottom-color: var(--fill-color);\n",
              "    }\n",
              "  }\n",
              "</style>\n",
              "\n",
              "      <script>\n",
              "        async function quickchart(key) {\n",
              "          const quickchartButtonEl =\n",
              "            document.querySelector('#' + key + ' button');\n",
              "          quickchartButtonEl.disabled = true;  // To prevent multiple clicks.\n",
              "          quickchartButtonEl.classList.add('colab-df-spinner');\n",
              "          try {\n",
              "            const charts = await google.colab.kernel.invokeFunction(\n",
              "                'suggestCharts', [key], {});\n",
              "          } catch (error) {\n",
              "            console.error('Error during call to suggestCharts:', error);\n",
              "          }\n",
              "          quickchartButtonEl.classList.remove('colab-df-spinner');\n",
              "          quickchartButtonEl.classList.add('colab-df-quickchart-complete');\n",
              "        }\n",
              "        (() => {\n",
              "          let quickchartButtonEl =\n",
              "            document.querySelector('#df-13c4ab39-cc9d-4466-82b1-a9995fc8b861 button');\n",
              "          quickchartButtonEl.style.display =\n",
              "            google.colab.kernel.accessAllowed ? 'block' : 'none';\n",
              "        })();\n",
              "      </script>\n",
              "    </div>\n",
              "\n",
              "  <div id=\"id_e069880b-32fc-42a5-88d3-513c6dd39de0\">\n",
              "    <style>\n",
              "      .colab-df-generate {\n",
              "        background-color: #E8F0FE;\n",
              "        border: none;\n",
              "        border-radius: 50%;\n",
              "        cursor: pointer;\n",
              "        display: none;\n",
              "        fill: #1967D2;\n",
              "        height: 32px;\n",
              "        padding: 0 0 0 0;\n",
              "        width: 32px;\n",
              "      }\n",
              "\n",
              "      .colab-df-generate:hover {\n",
              "        background-color: #E2EBFA;\n",
              "        box-shadow: 0px 1px 2px rgba(60, 64, 67, 0.3), 0px 1px 3px 1px rgba(60, 64, 67, 0.15);\n",
              "        fill: #174EA6;\n",
              "      }\n",
              "\n",
              "      [theme=dark] .colab-df-generate {\n",
              "        background-color: #3B4455;\n",
              "        fill: #D2E3FC;\n",
              "      }\n",
              "\n",
              "      [theme=dark] .colab-df-generate:hover {\n",
              "        background-color: #434B5C;\n",
              "        box-shadow: 0px 1px 3px 1px rgba(0, 0, 0, 0.15);\n",
              "        filter: drop-shadow(0px 1px 2px rgba(0, 0, 0, 0.3));\n",
              "        fill: #FFFFFF;\n",
              "      }\n",
              "    </style>\n",
              "    <button class=\"colab-df-generate\" onclick=\"generateWithVariable('df_device_result')\"\n",
              "            title=\"Generate code using this dataframe.\"\n",
              "            style=\"display:none;\">\n",
              "\n",
              "  <svg xmlns=\"http://www.w3.org/2000/svg\" height=\"24px\"viewBox=\"0 0 24 24\"\n",
              "       width=\"24px\">\n",
              "    <path d=\"M7,19H8.4L18.45,9,17,7.55,7,17.6ZM5,21V16.75L18.45,3.32a2,2,0,0,1,2.83,0l1.4,1.43a1.91,1.91,0,0,1,.58,1.4,1.91,1.91,0,0,1-.58,1.4L9.25,21ZM18.45,9,17,7.55Zm-12,3A5.31,5.31,0,0,0,4.9,8.1,5.31,5.31,0,0,0,1,6.5,5.31,5.31,0,0,0,4.9,4.9,5.31,5.31,0,0,0,6.5,1,5.31,5.31,0,0,0,8.1,4.9,5.31,5.31,0,0,0,12,6.5,5.46,5.46,0,0,0,6.5,12Z\"/>\n",
              "  </svg>\n",
              "    </button>\n",
              "    <script>\n",
              "      (() => {\n",
              "      const buttonEl =\n",
              "        document.querySelector('#id_e069880b-32fc-42a5-88d3-513c6dd39de0 button.colab-df-generate');\n",
              "      buttonEl.style.display =\n",
              "        google.colab.kernel.accessAllowed ? 'block' : 'none';\n",
              "\n",
              "      buttonEl.onclick = () => {\n",
              "        google.colab.notebook.generateWithVariable('df_device_result');\n",
              "      }\n",
              "      })();\n",
              "    </script>\n",
              "  </div>\n",
              "\n",
              "    </div>\n",
              "  </div>\n"
            ],
            "application/vnd.google.colaboratory.intrinsic+json": {
              "type": "dataframe",
              "variable_name": "df_device_result",
              "summary": "{\n  \"name\": \"df_device_result\",\n  \"rows\": 9,\n  \"fields\": [\n    {\n      \"column\": \"month\",\n      \"properties\": {\n        \"dtype\": \"object\",\n        \"num_unique_values\": 3,\n        \"samples\": [\n          \"2017-05\",\n          \"2017-06\",\n          \"2017-07\"\n        ],\n        \"semantic_type\": \"\",\n        \"description\": \"\"\n      }\n    },\n    {\n      \"column\": \"device_category\",\n      \"properties\": {\n        \"dtype\": \"category\",\n        \"num_unique_values\": 3,\n        \"samples\": [\n          \"desktop\",\n          \"mobile\",\n          \"tablet\"\n        ],\n        \"semantic_type\": \"\",\n        \"description\": \"\"\n      }\n    },\n    {\n      \"column\": \"total_distinct_users\",\n      \"properties\": {\n        \"dtype\": \"Int64\",\n        \"num_unique_values\": 9,\n        \"samples\": [\n          14838,\n          15279,\n          1607\n        ],\n        \"semantic_type\": \"\",\n        \"description\": \"\"\n      }\n    }\n  ]\n}"
            }
          },
          "metadata": {}
        }
      ]
    },
    {
      "cell_type": "markdown",
      "source": [
        "### 3.5 Federated Query: Daily Revenue Trend\n",
        "\n",
        "This query calculates the total transaction revenue for each day across the entire three-month period. The result is a time-series dataset that is perfect for visualizing in a line chart to identify revenue trends, peaks, and troughs."
      ],
      "metadata": {
        "id": "8zkSzLnnQNwe"
      }
    },
    {
      "cell_type": "code",
      "source": [
        "from google.cloud import bigquery\n",
        "\n",
        "client = bigquery.Client(project=PROJECT_ID)\n",
        "\n",
        "sql = f\"\"\"\n",
        "WITH all_daily_revenue AS (\n",
        "    -- Source 1: Native BigQuery Table (May 2017)\n",
        "    SELECT\n",
        "        PARSE_DATE('%Y%m%d', date) as transaction_date,\n",
        "        SUM(totals.transactionRevenue) / 1000000.0 as total_revenue\n",
        "    FROM\n",
        "        `{PROJECT_ID}.{BQ_FEDERATED_DATASET}.ga_sessions_201705`\n",
        "    WHERE totals.transactionRevenue IS NOT NULL\n",
        "    GROUP BY 1\n",
        "\n",
        "    UNION ALL\n",
        "\n",
        "    -- Source 2: Spanner via BQ Connection (June 2017)\n",
        "    SELECT\n",
        "        transaction_date,\n",
        "        total_revenue\n",
        "    FROM EXTERNAL_QUERY(\n",
        "        'projects/{PROJECT_ID}/locations/{LOCATION}/connections/{BQ_SPANNER_CONNECTION}',\n",
        "        '''SELECT date as transaction_date,\n",
        "                  SUM(CAST(JSON_VALUE(totals, '$.transactionRevenue') AS INT64)) / 1000000.0 as total_revenue\n",
        "           FROM {SPANNER_SESSIONS_TABLE}\n",
        "           WHERE JSON_VALUE(totals, '$.transactionRevenue') IS NOT NULL\n",
        "           GROUP BY 1'''\n",
        "    )\n",
        "\n",
        "    UNION ALL\n",
        "\n",
        "    -- Source 3: Cloud SQL via BQ Connection (July 2017)\n",
        "    SELECT\n",
        "        transaction_date,\n",
        "        CAST(total_revenue AS BIGNUMERIC) as total_revenue\n",
        "    FROM EXTERNAL_QUERY(\n",
        "        'projects/{PROJECT_ID}/locations/{LOCATION}/connections/{BQ_CLOUDSQL_CONNECTION}',\n",
        "        '''SELECT date as transaction_date,\n",
        "                  SUM(JSON_EXTRACT(totals, '$.transactionRevenue')) / 1000000.0 as total_revenue\n",
        "           FROM {MYSQL_TABLE}\n",
        "           WHERE JSON_EXTRACT(totals, '$.transactionRevenue') IS NOT NULL\n",
        "           GROUP BY 1'''\n",
        "    )\n",
        ")\n",
        "SELECT\n",
        "    transaction_date,\n",
        "    SUM(total_revenue) as daily_revenue_USD\n",
        "FROM all_daily_revenue\n",
        "GROUP BY 1\n",
        "ORDER BY 1;\n",
        "\"\"\"\n",
        "\n",
        "print(\"Running federated query for daily revenue...\")\n",
        "df_revenue_result = client.query(sql).to_dataframe()\n",
        "\n",
        "print(\"Query complete. Daily revenue across all sources:\")\n",
        "display(df_revenue_result)"
      ],
      "metadata": {
        "id": "AlojAEmzQNwe",
        "colab": {
          "base_uri": "https://localhost:8080/",
          "height": 458
        },
        "outputId": "ab4f59aa-16ad-46a0-86ce-3a6495b2a829"
      },
      "execution_count": 31,
      "outputs": [
        {
          "output_type": "stream",
          "name": "stdout",
          "text": [
            "Running federated query for daily revenue...\n",
            "Query complete. Daily revenue across all sources:\n"
          ]
        },
        {
          "output_type": "display_data",
          "data": {
            "text/plain": [
              "   transaction_date  daily_revenue_USD\n",
              "0        2017-05-01            7126.08\n",
              "1        2017-05-02            5048.24\n",
              "2        2017-05-03            5394.06\n",
              "3        2017-05-04            3056.67\n",
              "4        2017-05-05            7099.86\n",
              "..              ...                ...\n",
              "87       2017-07-27            4244.28\n",
              "88       2017-07-28            4709.44\n",
              "89       2017-07-29            1045.01\n",
              "90       2017-07-30            2254.16\n",
              "91       2017-07-31           11415.44\n",
              "\n",
              "[92 rows x 2 columns]"
            ],
            "text/html": [
              "\n",
              "  <div id=\"df-d80754d2-5bcc-4148-b29e-385687c19b07\" class=\"colab-df-container\">\n",
              "    <div>\n",
              "<style scoped>\n",
              "    .dataframe tbody tr th:only-of-type {\n",
              "        vertical-align: middle;\n",
              "    }\n",
              "\n",
              "    .dataframe tbody tr th {\n",
              "        vertical-align: top;\n",
              "    }\n",
              "\n",
              "    .dataframe thead th {\n",
              "        text-align: right;\n",
              "    }\n",
              "</style>\n",
              "<table border=\"1\" class=\"dataframe\">\n",
              "  <thead>\n",
              "    <tr style=\"text-align: right;\">\n",
              "      <th></th>\n",
              "      <th>transaction_date</th>\n",
              "      <th>daily_revenue_USD</th>\n",
              "    </tr>\n",
              "  </thead>\n",
              "  <tbody>\n",
              "    <tr>\n",
              "      <th>0</th>\n",
              "      <td>2017-05-01</td>\n",
              "      <td>7126.08</td>\n",
              "    </tr>\n",
              "    <tr>\n",
              "      <th>1</th>\n",
              "      <td>2017-05-02</td>\n",
              "      <td>5048.24</td>\n",
              "    </tr>\n",
              "    <tr>\n",
              "      <th>2</th>\n",
              "      <td>2017-05-03</td>\n",
              "      <td>5394.06</td>\n",
              "    </tr>\n",
              "    <tr>\n",
              "      <th>3</th>\n",
              "      <td>2017-05-04</td>\n",
              "      <td>3056.67</td>\n",
              "    </tr>\n",
              "    <tr>\n",
              "      <th>4</th>\n",
              "      <td>2017-05-05</td>\n",
              "      <td>7099.86</td>\n",
              "    </tr>\n",
              "    <tr>\n",
              "      <th>...</th>\n",
              "      <td>...</td>\n",
              "      <td>...</td>\n",
              "    </tr>\n",
              "    <tr>\n",
              "      <th>87</th>\n",
              "      <td>2017-07-27</td>\n",
              "      <td>4244.28</td>\n",
              "    </tr>\n",
              "    <tr>\n",
              "      <th>88</th>\n",
              "      <td>2017-07-28</td>\n",
              "      <td>4709.44</td>\n",
              "    </tr>\n",
              "    <tr>\n",
              "      <th>89</th>\n",
              "      <td>2017-07-29</td>\n",
              "      <td>1045.01</td>\n",
              "    </tr>\n",
              "    <tr>\n",
              "      <th>90</th>\n",
              "      <td>2017-07-30</td>\n",
              "      <td>2254.16</td>\n",
              "    </tr>\n",
              "    <tr>\n",
              "      <th>91</th>\n",
              "      <td>2017-07-31</td>\n",
              "      <td>11415.44</td>\n",
              "    </tr>\n",
              "  </tbody>\n",
              "</table>\n",
              "<p>92 rows × 2 columns</p>\n",
              "</div>\n",
              "    <div class=\"colab-df-buttons\">\n",
              "\n",
              "  <div class=\"colab-df-container\">\n",
              "    <button class=\"colab-df-convert\" onclick=\"convertToInteractive('df-d80754d2-5bcc-4148-b29e-385687c19b07')\"\n",
              "            title=\"Convert this dataframe to an interactive table.\"\n",
              "            style=\"display:none;\">\n",
              "\n",
              "  <svg xmlns=\"http://www.w3.org/2000/svg\" height=\"24px\" viewBox=\"0 -960 960 960\">\n",
              "    <path d=\"M120-120v-720h720v720H120Zm60-500h600v-160H180v160Zm220 220h160v-160H400v160Zm0 220h160v-160H400v160ZM180-400h160v-160H180v160Zm440 0h160v-160H620v160ZM180-180h160v-160H180v160Zm440 0h160v-160H620v160Z\"/>\n",
              "  </svg>\n",
              "    </button>\n",
              "\n",
              "  <style>\n",
              "    .colab-df-container {\n",
              "      display:flex;\n",
              "      gap: 12px;\n",
              "    }\n",
              "\n",
              "    .colab-df-convert {\n",
              "      background-color: #E8F0FE;\n",
              "      border: none;\n",
              "      border-radius: 50%;\n",
              "      cursor: pointer;\n",
              "      display: none;\n",
              "      fill: #1967D2;\n",
              "      height: 32px;\n",
              "      padding: 0 0 0 0;\n",
              "      width: 32px;\n",
              "    }\n",
              "\n",
              "    .colab-df-convert:hover {\n",
              "      background-color: #E2EBFA;\n",
              "      box-shadow: 0px 1px 2px rgba(60, 64, 67, 0.3), 0px 1px 3px 1px rgba(60, 64, 67, 0.15);\n",
              "      fill: #174EA6;\n",
              "    }\n",
              "\n",
              "    .colab-df-buttons div {\n",
              "      margin-bottom: 4px;\n",
              "    }\n",
              "\n",
              "    [theme=dark] .colab-df-convert {\n",
              "      background-color: #3B4455;\n",
              "      fill: #D2E3FC;\n",
              "    }\n",
              "\n",
              "    [theme=dark] .colab-df-convert:hover {\n",
              "      background-color: #434B5C;\n",
              "      box-shadow: 0px 1px 3px 1px rgba(0, 0, 0, 0.15);\n",
              "      filter: drop-shadow(0px 1px 2px rgba(0, 0, 0, 0.3));\n",
              "      fill: #FFFFFF;\n",
              "    }\n",
              "  </style>\n",
              "\n",
              "    <script>\n",
              "      const buttonEl =\n",
              "        document.querySelector('#df-d80754d2-5bcc-4148-b29e-385687c19b07 button.colab-df-convert');\n",
              "      buttonEl.style.display =\n",
              "        google.colab.kernel.accessAllowed ? 'block' : 'none';\n",
              "\n",
              "      async function convertToInteractive(key) {\n",
              "        const element = document.querySelector('#df-d80754d2-5bcc-4148-b29e-385687c19b07');\n",
              "        const dataTable =\n",
              "          await google.colab.kernel.invokeFunction('convertToInteractive',\n",
              "                                                    [key], {});\n",
              "        if (!dataTable) return;\n",
              "\n",
              "        const docLinkHtml = 'Like what you see? Visit the ' +\n",
              "          '<a target=\"_blank\" href=https://colab.research.google.com/notebooks/data_table.ipynb>data table notebook</a>'\n",
              "          + ' to learn more about interactive tables.';\n",
              "        element.innerHTML = '';\n",
              "        dataTable['output_type'] = 'display_data';\n",
              "        await google.colab.output.renderOutput(dataTable, element);\n",
              "        const docLink = document.createElement('div');\n",
              "        docLink.innerHTML = docLinkHtml;\n",
              "        element.appendChild(docLink);\n",
              "      }\n",
              "    </script>\n",
              "  </div>\n",
              "\n",
              "\n",
              "    <div id=\"df-2d20f224-edc4-4f59-8877-cf355db41272\">\n",
              "      <button class=\"colab-df-quickchart\" onclick=\"quickchart('df-2d20f224-edc4-4f59-8877-cf355db41272')\"\n",
              "                title=\"Suggest charts\"\n",
              "                style=\"display:none;\">\n",
              "\n",
              "<svg xmlns=\"http://www.w3.org/2000/svg\" height=\"24px\"viewBox=\"0 0 24 24\"\n",
              "     width=\"24px\">\n",
              "    <g>\n",
              "        <path d=\"M19 3H5c-1.1 0-2 .9-2 2v14c0 1.1.9 2 2 2h14c1.1 0 2-.9 2-2V5c0-1.1-.9-2-2-2zM9 17H7v-7h2v7zm4 0h-2V7h2v10zm4 0h-2v-4h2v4z\"/>\n",
              "    </g>\n",
              "</svg>\n",
              "      </button>\n",
              "\n",
              "<style>\n",
              "  .colab-df-quickchart {\n",
              "      --bg-color: #E8F0FE;\n",
              "      --fill-color: #1967D2;\n",
              "      --hover-bg-color: #E2EBFA;\n",
              "      --hover-fill-color: #174EA6;\n",
              "      --disabled-fill-color: #AAA;\n",
              "      --disabled-bg-color: #DDD;\n",
              "  }\n",
              "\n",
              "  [theme=dark] .colab-df-quickchart {\n",
              "      --bg-color: #3B4455;\n",
              "      --fill-color: #D2E3FC;\n",
              "      --hover-bg-color: #434B5C;\n",
              "      --hover-fill-color: #FFFFFF;\n",
              "      --disabled-bg-color: #3B4455;\n",
              "      --disabled-fill-color: #666;\n",
              "  }\n",
              "\n",
              "  .colab-df-quickchart {\n",
              "    background-color: var(--bg-color);\n",
              "    border: none;\n",
              "    border-radius: 50%;\n",
              "    cursor: pointer;\n",
              "    display: none;\n",
              "    fill: var(--fill-color);\n",
              "    height: 32px;\n",
              "    padding: 0;\n",
              "    width: 32px;\n",
              "  }\n",
              "\n",
              "  .colab-df-quickchart:hover {\n",
              "    background-color: var(--hover-bg-color);\n",
              "    box-shadow: 0 1px 2px rgba(60, 64, 67, 0.3), 0 1px 3px 1px rgba(60, 64, 67, 0.15);\n",
              "    fill: var(--button-hover-fill-color);\n",
              "  }\n",
              "\n",
              "  .colab-df-quickchart-complete:disabled,\n",
              "  .colab-df-quickchart-complete:disabled:hover {\n",
              "    background-color: var(--disabled-bg-color);\n",
              "    fill: var(--disabled-fill-color);\n",
              "    box-shadow: none;\n",
              "  }\n",
              "\n",
              "  .colab-df-spinner {\n",
              "    border: 2px solid var(--fill-color);\n",
              "    border-color: transparent;\n",
              "    border-bottom-color: var(--fill-color);\n",
              "    animation:\n",
              "      spin 1s steps(1) infinite;\n",
              "  }\n",
              "\n",
              "  @keyframes spin {\n",
              "    0% {\n",
              "      border-color: transparent;\n",
              "      border-bottom-color: var(--fill-color);\n",
              "      border-left-color: var(--fill-color);\n",
              "    }\n",
              "    20% {\n",
              "      border-color: transparent;\n",
              "      border-left-color: var(--fill-color);\n",
              "      border-top-color: var(--fill-color);\n",
              "    }\n",
              "    30% {\n",
              "      border-color: transparent;\n",
              "      border-left-color: var(--fill-color);\n",
              "      border-top-color: var(--fill-color);\n",
              "      border-right-color: var(--fill-color);\n",
              "    }\n",
              "    40% {\n",
              "      border-color: transparent;\n",
              "      border-right-color: var(--fill-color);\n",
              "      border-top-color: var(--fill-color);\n",
              "    }\n",
              "    60% {\n",
              "      border-color: transparent;\n",
              "      border-right-color: var(--fill-color);\n",
              "    }\n",
              "    80% {\n",
              "      border-color: transparent;\n",
              "      border-right-color: var(--fill-color);\n",
              "      border-bottom-color: var(--fill-color);\n",
              "    }\n",
              "    90% {\n",
              "      border-color: transparent;\n",
              "      border-bottom-color: var(--fill-color);\n",
              "    }\n",
              "  }\n",
              "</style>\n",
              "\n",
              "      <script>\n",
              "        async function quickchart(key) {\n",
              "          const quickchartButtonEl =\n",
              "            document.querySelector('#' + key + ' button');\n",
              "          quickchartButtonEl.disabled = true;  // To prevent multiple clicks.\n",
              "          quickchartButtonEl.classList.add('colab-df-spinner');\n",
              "          try {\n",
              "            const charts = await google.colab.kernel.invokeFunction(\n",
              "                'suggestCharts', [key], {});\n",
              "          } catch (error) {\n",
              "            console.error('Error during call to suggestCharts:', error);\n",
              "          }\n",
              "          quickchartButtonEl.classList.remove('colab-df-spinner');\n",
              "          quickchartButtonEl.classList.add('colab-df-quickchart-complete');\n",
              "        }\n",
              "        (() => {\n",
              "          let quickchartButtonEl =\n",
              "            document.querySelector('#df-2d20f224-edc4-4f59-8877-cf355db41272 button');\n",
              "          quickchartButtonEl.style.display =\n",
              "            google.colab.kernel.accessAllowed ? 'block' : 'none';\n",
              "        })();\n",
              "      </script>\n",
              "    </div>\n",
              "\n",
              "  <div id=\"id_50737650-59fb-4b55-963d-47fa90e240a3\">\n",
              "    <style>\n",
              "      .colab-df-generate {\n",
              "        background-color: #E8F0FE;\n",
              "        border: none;\n",
              "        border-radius: 50%;\n",
              "        cursor: pointer;\n",
              "        display: none;\n",
              "        fill: #1967D2;\n",
              "        height: 32px;\n",
              "        padding: 0 0 0 0;\n",
              "        width: 32px;\n",
              "      }\n",
              "\n",
              "      .colab-df-generate:hover {\n",
              "        background-color: #E2EBFA;\n",
              "        box-shadow: 0px 1px 2px rgba(60, 64, 67, 0.3), 0px 1px 3px 1px rgba(60, 64, 67, 0.15);\n",
              "        fill: #174EA6;\n",
              "      }\n",
              "\n",
              "      [theme=dark] .colab-df-generate {\n",
              "        background-color: #3B4455;\n",
              "        fill: #D2E3FC;\n",
              "      }\n",
              "\n",
              "      [theme=dark] .colab-df-generate:hover {\n",
              "        background-color: #434B5C;\n",
              "        box-shadow: 0px 1px 3px 1px rgba(0, 0, 0, 0.15);\n",
              "        filter: drop-shadow(0px 1px 2px rgba(0, 0, 0, 0.3));\n",
              "        fill: #FFFFFF;\n",
              "      }\n",
              "    </style>\n",
              "    <button class=\"colab-df-generate\" onclick=\"generateWithVariable('df_revenue_result')\"\n",
              "            title=\"Generate code using this dataframe.\"\n",
              "            style=\"display:none;\">\n",
              "\n",
              "  <svg xmlns=\"http://www.w3.org/2000/svg\" height=\"24px\"viewBox=\"0 0 24 24\"\n",
              "       width=\"24px\">\n",
              "    <path d=\"M7,19H8.4L18.45,9,17,7.55,7,17.6ZM5,21V16.75L18.45,3.32a2,2,0,0,1,2.83,0l1.4,1.43a1.91,1.91,0,0,1,.58,1.4,1.91,1.91,0,0,1-.58,1.4L9.25,21ZM18.45,9,17,7.55Zm-12,3A5.31,5.31,0,0,0,4.9,8.1,5.31,5.31,0,0,0,1,6.5,5.31,5.31,0,0,0,4.9,4.9,5.31,5.31,0,0,0,6.5,1,5.31,5.31,0,0,0,8.1,4.9,5.31,5.31,0,0,0,12,6.5,5.46,5.46,0,0,0,6.5,12Z\"/>\n",
              "  </svg>\n",
              "    </button>\n",
              "    <script>\n",
              "      (() => {\n",
              "      const buttonEl =\n",
              "        document.querySelector('#id_50737650-59fb-4b55-963d-47fa90e240a3 button.colab-df-generate');\n",
              "      buttonEl.style.display =\n",
              "        google.colab.kernel.accessAllowed ? 'block' : 'none';\n",
              "\n",
              "      buttonEl.onclick = () => {\n",
              "        google.colab.notebook.generateWithVariable('df_revenue_result');\n",
              "      }\n",
              "      })();\n",
              "    </script>\n",
              "  </div>\n",
              "\n",
              "    </div>\n",
              "  </div>\n"
            ],
            "application/vnd.google.colaboratory.intrinsic+json": {
              "type": "dataframe",
              "variable_name": "df_revenue_result",
              "summary": "{\n  \"name\": \"df_revenue_result\",\n  \"rows\": 92,\n  \"fields\": [\n    {\n      \"column\": \"transaction_date\",\n      \"properties\": {\n        \"dtype\": \"dbdate\",\n        \"num_unique_values\": 92,\n        \"samples\": [\n          \"2017-06-10\",\n          \"2017-05-23\",\n          \"2017-06-25\"\n        ],\n        \"semantic_type\": \"\",\n        \"description\": \"\"\n      }\n    },\n    {\n      \"column\": \"daily_revenue_USD\",\n      \"properties\": {\n        \"dtype\": \"number\",\n        \"std\": 2963.760371100453,\n        \"min\": 84.54,\n        \"max\": 16937.47,\n        \"num_unique_values\": 92,\n        \"samples\": [\n          710.94,\n          4482.21,\n          771.89\n        ],\n        \"semantic_type\": \"\",\n        \"description\": \"\"\n      }\n    }\n  ]\n}"
            }
          },
          "metadata": {}
        }
      ]
    },
    {
      "cell_type": "markdown",
      "source": [
        "### 3.6 Visualize Federated Query Results\n",
        "\n",
        "Now that we have gathered and combined data from our three different sources, we can use standard Python libraries like `matplotlib` and `seaborn` to create insightful visualizations."
      ],
      "metadata": {
        "id": "w58VD9Fk-zXy"
      }
    },
    {
      "cell_type": "markdown",
      "source": [
        "**Install Plotting Libraries**\n",
        "\n",
        "The following cell installs the necessary Python libraries for data visualization."
      ],
      "metadata": {
        "id": "apTkEicH_M-K"
      }
    },
    {
      "cell_type": "code",
      "source": [
        "print(\"Installing plotting libraries...\")\n",
        "%pip install --upgrade --quiet matplotlib seaborn\n",
        "print(\"Libraries installed.\")"
      ],
      "metadata": {
        "colab": {
          "base_uri": "https://localhost:8080/"
        },
        "id": "P4YvwO3d_D3D",
        "outputId": "2c593d1d-6300-49d6-c8da-246cda71aea9"
      },
      "execution_count": 32,
      "outputs": [
        {
          "output_type": "stream",
          "name": "stdout",
          "text": [
            "Installing plotting libraries...\n",
            "Libraries installed.\n"
          ]
        }
      ]
    },
    {
      "cell_type": "markdown",
      "source": [
        "**Visualize: Total Users per Channel**\n",
        "\n",
        "\n",
        "This horizontal bar chart is an effective way to compare the total number of users acquired through each marketing channel across the entire three-month period. It clearly shows which channels are the most effective at driving traffic.\n"
      ],
      "metadata": {
        "id": "pZcHhfKr_V_U"
      }
    },
    {
      "cell_type": "code",
      "source": [
        "import matplotlib.pyplot as plt\n",
        "import seaborn as sns\n",
        "\n",
        "# Set the plot style for a professional look\n",
        "sns.set_theme(style=\"whitegrid\")\n",
        "\n",
        "# Create the plot\n",
        "plt.figure(figsize=(12, 8))\n",
        "barplot = sns.barplot(\n",
        "    x=\"total_distinct_users\",\n",
        "    y=\"channelGrouping\",\n",
        "    data=df_federated_result.sort_values(\"total_distinct_users\", ascending=False),\n",
        "    palette=\"viridis\"\n",
        ")\n",
        "\n",
        "# Add title and labels for clarity\n",
        "plt.title(\"Total Distinct Users per Channel (May-July 2017)\", fontsize=16)\n",
        "plt.xlabel(\"Total Distinct Users\", fontsize=12)\n",
        "plt.ylabel(\"Marketing Channel\", fontsize=12)\n",
        "\n",
        "# Display the plot\n",
        "plt.show()\n"
      ],
      "metadata": {
        "colab": {
          "base_uri": "https://localhost:8080/",
          "height": 816
        },
        "id": "sptdz6dr_qFi",
        "outputId": "b5b68272-fbd0-470b-9920-6b26dcbdce64"
      },
      "execution_count": 33,
      "outputs": [
        {
          "output_type": "stream",
          "name": "stderr",
          "text": [
            "/tmp/ipython-input-3566955155.py:9: FutureWarning: \n",
            "\n",
            "Passing `palette` without assigning `hue` is deprecated and will be removed in v0.14.0. Assign the `y` variable to `hue` and set `legend=False` for the same effect.\n",
            "\n",
            "  barplot = sns.barplot(\n"
          ]
        },
        {
          "output_type": "display_data",
          "data": {
            "text/plain": [
              "<Figure size 1200x800 with 1 Axes>"
            ],
            "image/png": "[encoded data removed]"
          },
          "metadata": {}
        }
      ]
    },
    {
      "cell_type": "markdown",
      "source": [
        "**Visualize: Monthly Users by Device**\n",
        "\n",
        "This grouped bar chart allows for a month-over-month comparison of user traffic by device type. It's useful for identifying trends, such as the growth of mobile traffic over time, and understanding how the user base is segmented."
      ],
      "metadata": {
        "id": "grwBvnyp_bWy"
      }
    },
    {
      "cell_type": "code",
      "source": [
        "import matplotlib.pyplot as plt\n",
        "import seaborn as sns\n",
        "\n",
        "# Set the plot style\n",
        "sns.set_theme(style=\"whitegrid\")\n",
        "\n",
        "# Create the plot\n",
        "plt.figure(figsize=(12, 7))\n",
        "ax = sns.barplot(\n",
        "    x=\"month\",\n",
        "    y=\"total_distinct_users\",\n",
        "    hue=\"device_category\",\n",
        "    data=df_device_result,\n",
        "    palette=\"muted\"\n",
        ")\n",
        "\n",
        "# Add title and labels\n",
        "plt.title(\"Monthly Distinct Users by Device (May-July 2017)\", fontsize=16)\n",
        "plt.xlabel(\"Month\", fontsize=12)\n",
        "plt.ylabel(\"Total Distinct Users\", fontsize=12)\n",
        "plt.xticks(rotation=0)\n",
        "plt.legend(title=\"Device Category\")\n",
        "\n",
        "# Display the plot\n",
        "plt.show()"
      ],
      "metadata": {
        "colab": {
          "base_uri": "https://localhost:8080/",
          "height": 652
        },
        "id": "AEp-9Hk0_0zB",
        "outputId": "a5227f0b-6cb4-4266-fc78-276f24f90a60"
      },
      "execution_count": 34,
      "outputs": [
        {
          "output_type": "display_data",
          "data": {
            "text/plain": [
              "<Figure size 1200x700 with 1 Axes>"
            ],
            "image/png": "[encoded data removed]"
          },
          "metadata": {}
        }
      ]
    },
    {
      "cell_type": "markdown",
      "source": [
        "**Visualize: Daily Revenue Trend**\n",
        "\n",
        "A line chart is the ideal way to visualize time-series data like daily revenue. This plot makes it easy to spot trends, seasonality, and specific days with unusually high or low revenue across the three-month period."
      ],
      "metadata": {
        "id": "t62R-cIR_cS8"
      }
    },
    {
      "cell_type": "code",
      "source": [
        "import matplotlib.pyplot as plt\n",
        "import seaborn as sns\n",
        "import pandas as pd\n",
        "\n",
        "# Ensure the date column is in datetime format for proper plotting\n",
        "df_revenue_result['transaction_date'] = pd.to_datetime(df_revenue_result['transaction_date'])\n",
        "\n",
        "# Set the plot style\n",
        "sns.set_theme(style=\"whitegrid\")\n",
        "\n",
        "# Create the line plot\n",
        "plt.figure(figsize=(16, 7))\n",
        "sns.lineplot(\n",
        "    x=\"transaction_date\",\n",
        "    y=\"daily_revenue_USD\",\n",
        "    data=df_revenue_result,\n",
        "    marker=\"o\",\n",
        "    color=\"royalblue\"\n",
        ")\n",
        "\n",
        "# Add title and labels\n",
        "plt.title(\"Daily Total Revenue Trend (May-July 2017)\", fontsize=16)\n",
        "plt.xlabel(\"Date\", fontsize=12)\n",
        "plt.ylabel(\"Total Revenue (USD)\", fontsize=12)\n",
        "plt.xticks(rotation=45)\n",
        "plt.tight_layout()\n",
        "\n",
        "# Display the plot\n",
        "plt.show()"
      ],
      "metadata": {
        "colab": {
          "base_uri": "https://localhost:8080/",
          "height": 701
        },
        "id": "dPysnX63_9FQ",
        "outputId": "028be2aa-b8ac-4446-e014-0ee9ac708b0b"
      },
      "execution_count": 35,
      "outputs": [
        {
          "output_type": "display_data",
          "data": {
            "text/plain": [
              "<Figure size 1600x700 with 1 Axes>"
            ],
            "image/png": "[encoded data removed]"
          },
          "metadata": {}
        }
      ]
    },
    {
      "cell_type": "markdown",
      "source": [
        "---\n",
        "\n",
        "## **Part 4: Cleanup (Optional)**\n",
        "\n",
        "It's a best practice to clean up cloud resources you are no longer using to avoid incurring unnecessary costs. The following cells provide commands to delete the Cloud SQL instance, Spanner instance, GCS bucket, BigQuery dataset, and connections created in this notebook."
      ],
      "metadata": {
        "id": "KrVjSbIKQNwf"
      }
    },
    {
      "cell_type": "markdown",
      "source": [
        "### Option A: Cleanup Cloud SQL Resources\n",
        "\n",
        "Run this cell if you completed the Cloud SQL workflow (Part 1)."
      ],
      "metadata": {
        "id": "MPGEOZaiQjIr"
      }
    },
    {
      "cell_type": "code",
      "source": [
        "# Delete the BigQuery Connection for Cloud SQL\n",
        "print(f\"Deleting BigQuery connection '{BQ_CLOUDSQL_CONNECTION}'...\")\n",
        "!bq rm --connection -f {PROJECT_ID}.{LOCATION}.{BQ_CLOUDSQL_CONNECTION}\n",
        "\n",
        "# Delete the Cloud SQL Instance\n",
        "print(f\"\\nDeleting Cloud SQL instance '{MYSQL_INSTANCE}'...\")\n",
        "!gcloud sql instances delete {MYSQL_INSTANCE} --quiet\n",
        "\n",
        "print(\"\\nCloud SQL cleanup complete.\")"
      ],
      "metadata": {
        "id": "tKSMKeSdQNwf",
        "colab": {
          "base_uri": "https://localhost:8080/"
        },
        "outputId": "177b47db-ff32-41dd-81de-283ba07d2db6"
      },
      "execution_count": 36,
      "outputs": [
        {
          "output_type": "stream",
          "name": "stdout",
          "text": [
            "Deleting BigQuery connection 'bq-cloudsql-connection'...\n",
            "\n",
            "Deleting Cloud SQL instance 'cloudsql-mysql-instance'...\n",
            "Deleted [https://sqladmin.googleapis.com/sql/v1beta4/projects/arg-dev-mu/instances/cloudsql-mysql-instance].\n",
            "\n",
            "Cloud SQL cleanup complete.\n"
          ]
        }
      ]
    },
    {
      "cell_type": "markdown",
      "source": [
        "### Option B: Cleanup Spanner Resources\n",
        "\n",
        "Run this cell if you completed the Spanner workflow (Part 2)."
      ],
      "metadata": {
        "id": "pAxWvWhqQNwf"
      }
    },
    {
      "cell_type": "code",
      "source": [
        "# Delete the BigQuery Connection for Spanner\n",
        "print(f\"Deleting BigQuery connection '{BQ_SPANNER_CONNECTION}'...\")\n",
        "!bq rm --connection -f {PROJECT_ID}.{LOCATION}.{BQ_SPANNER_CONNECTION}\n",
        "\n",
        "# Delete the Spanner Instance (which also deletes the database)\n",
        "print(f\"\\nDeleting Spanner instance '{SPANNER_INSTANCE}'...\")\n",
        "!gcloud spanner instances delete {SPANNER_INSTANCE} --quiet\n",
        "\n",
        "print(\"\\nSpanner cleanup complete.\")"
      ],
      "metadata": {
        "id": "8uqfu1zeQNwf",
        "colab": {
          "base_uri": "https://localhost:8080/"
        },
        "outputId": "da6e5151-4971-4603-b95c-e3659a711ced"
      },
      "execution_count": 37,
      "outputs": [
        {
          "output_type": "stream",
          "name": "stdout",
          "text": [
            "Deleting BigQuery connection 'bq-spanner-connection'...\n",
            "\n",
            "Deleting Spanner instance 'spanner-instance-template'...\n",
            "\n",
            "Spanner cleanup complete.\n"
          ]
        }
      ]
    },
    {
      "cell_type": "markdown",
      "source": [
        "### Option C: Cleanup All Resources\n",
        "\n",
        "Uncomment and run this cell if you completed both Part 1 and Part 2. It also removes the shared GCS bucket and BigQuery dataset."
      ],
      "metadata": {
        "id": "fw5ko555QNwf"
      }
    },
    {
      "cell_type": "code",
      "source": [
        "\"\"\"\n",
        "# --- Cloud SQL Resources ---\n",
        "print(f\"Deleting BigQuery connection '{BQ_CLOUDSQL_CONNECTION}'...\")\n",
        "!bq rm --connection -f {PROJECT_ID}.{LOCATION}.{BQ_CLOUDSQL_CONNECTION}\n",
        "print(f\"Deleting Cloud SQL instance '{MYSQL_INSTANCE}'...\")\n",
        "!gcloud sql instances delete {MYSQL_INSTANCE} --quiet\n",
        "\n",
        "# --- Spanner Resources ---\n",
        "print(f\"\\nDeleting BigQuery connection '{BQ_SPANNER_CONNECTION}'...\")\n",
        "!bq rm --connection -f {PROJECT_ID}.{LOCATION}.{BQ_SPANNER_CONNECTION}\n",
        "print(f\"Deleting Spanner instance '{SPANNER_INSTANCE}'...\")\n",
        "!gcloud spanner instances delete {SPANNER_INSTANCE} --quiet\n",
        "\n",
        "# --- Shared Resources ---\n",
        "print(f\"\\nDeleting GCS bucket '{GCS_IMPORT_BUCKET}'...\")\n",
        "!gcloud storage rm -r {GCS_IMPORT_BUCKET}\n",
        "print(f\"Deleting BigQuery dataset '{BQ_FEDERATED_DATASET}'...\")\n",
        "!bq rm -r -f --dataset {PROJECT_ID}:{BQ_FEDERATED_DATASET}\n",
        "\n",
        "print(\"\\nFull cleanup complete.\")\n",
        "\"\"\""
      ],
      "metadata": {
        "id": "3lOi3sLkQNwf",
        "colab": {
          "base_uri": "https://localhost:8080/",
          "height": 70
        },
        "outputId": "5b6aa2a4-3e5a-4eb6-a31d-7d210bb72346"
      },
      "execution_count": 38,
      "outputs": [
        {
          "output_type": "execute_result",
          "data": {
            "text/plain": [
              "'\\n# --- Cloud SQL Resources ---\\nprint(f\"Deleting BigQuery connection \\'{BQ_CLOUDSQL_CONNECTION}\\'...\")\\n!bq rm --connection -f {PROJECT_ID}.{LOCATION}.{BQ_CLOUDSQL_CONNECTION}\\nprint(f\"Deleting Cloud SQL instance \\'{MYSQL_INSTANCE}\\'...\")\\n!gcloud sql instances delete {MYSQL_INSTANCE} --quiet\\n\\n# --- Spanner Resources ---\\nprint(f\"\\nDeleting BigQuery connection \\'{BQ_SPANNER_CONNECTION}\\'...\")\\n!bq rm --connection -f {PROJECT_ID}.{LOCATION}.{BQ_SPANNER_CONNECTION}\\nprint(f\"Deleting Spanner instance \\'{SPANNER_INSTANCE}\\'...\")\\n!gcloud spanner instances delete {SPANNER_INSTANCE} --quiet\\n\\n# --- Shared Resources ---\\nprint(f\"\\nDeleting GCS bucket \\'{GCS_IMPORT_BUCKET}\\'...\")\\n!gcloud storage rm -r {GCS_IMPORT_BUCKET}\\nprint(f\"Deleting BigQuery dataset \\'{BQ_FEDERATED_DATASET}\\'...\")\\n!bq rm -r -f --dataset {PROJECT_ID}:{BQ_FEDERATED_DATASET}\\n\\nprint(\"\\nFull cleanup complete.\")\\n'"
            ],
            "application/vnd.google.colaboratory.intrinsic+json": {
              "type": "string"
            }
          },
          "metadata": {},
          "execution_count": 38
        }
      ]
    }
  ],
  "metadata": {
    "kernelspec": {
      "display_name": "Python 3",
      "name": "python3"
    },
    "colab": {
      "provenance": [],
      "toc_visible": true,
      "name": "Confirmed_Running"
    }
  },
  "nbformat": 4,
  "nbformat_minor": 0
}
